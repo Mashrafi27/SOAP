{
 "cells": [
  {
   "cell_type": "code",
   "execution_count": 1,
   "id": "d00c5a80-ba28-4250-a2a9-b3f2ddbf9b3e",
   "metadata": {},
   "outputs": [],
   "source": [
    "import numpy as np\n",
    "from sklearn.decomposition import KernelPCA"
   ]
  },
  {
   "cell_type": "code",
   "execution_count": null,
   "id": "03d4a1d6-334a-4404-aceb-ae134154c254",
   "metadata": {},
   "outputs": [],
   "source": []
  },
  {
   "cell_type": "code",
   "execution_count": null,
   "id": "a3d8cd28-9166-4eba-aed6-8bf41932f65a",
   "metadata": {},
   "outputs": [],
   "source": [
    "# 1) Build the N_env × N_env kernel among environments.  \n",
    "#    For example, use an RBF kernel with some gamma > 0.\n",
    "def rbf_kernel(u, v, gamma=1e-3):\n",
    "    diff = u - v\n",
    "    return np.exp(-gamma * (diff @ diff))\n",
    "\n",
    "K = np.zeros((N_env, N_env))\n",
    "for i in range(N_env):\n",
    "    for j in range(N_env):\n",
    "        K[i, j] = rbf_kernel(S[i], S[j], gamma=1e-3)\n",
    "\n",
    "# 2) Run Kernel PCA to extract exactly one principal component.\n",
    "kpca = KernelPCA(n_components=1, kernel=\"precomputed\")\n",
    "#   - We pass `kernel=\"precomputed\"` because we already built K.\n",
    "#   - kpca.fit_transform(K) returns an array of shape (N_env, 1),\n",
    "#     but the corresponding eigenvector α is available as kpca.alphas_.\n",
    "Z = kpca.fit_transform(K)   # shape = (N_env, 1), equals K @ α / λ\n",
    "\n",
    "# 3) The principal eigenvector α (length N_env) can be taken from kpca.alphas_.\n",
    "#    Note: scikit-learn’s KernelPCA stores `alphas_` scaled so that each \n",
    "#    column is normalized, but the relative ratios α_i/α_j are what matter.\n",
    "alpha = kpca.alphas_[:, 0]   # shape = (N_env,)\n",
    "\n",
    "# 4) Form the weighted sum of S’s rows: d = α^T ⋅ S.\n",
    "#    That yields a single row of length N_feat.\n",
    "d = alpha.reshape(1, N_env) @ S   # shape = (1, N_feat)"
   ]
  }
 ],
 "metadata": {
  "kernelspec": {
   "display_name": "pyemma",
   "language": "python",
   "name": "pyemma"
  },
  "language_info": {
   "codemirror_mode": {
    "name": "ipython",
    "version": 3
   },
   "file_extension": ".py",
   "mimetype": "text/x-python",
   "name": "python",
   "nbconvert_exporter": "python",
   "pygments_lexer": "ipython3",
   "version": "3.9.21"
  }
 },
 "nbformat": 4,
 "nbformat_minor": 5
}
