{
 "cells": [
  {
   "cell_type": "code",
   "execution_count": 1,
   "id": "d00c5a80-ba28-4250-a2a9-b3f2ddbf9b3e",
   "metadata": {},
   "outputs": [],
   "source": [
    "import numpy as np\n",
    "from sklearn.decomposition import KernelPCA"
   ]
  },
  {
   "cell_type": "code",
   "execution_count": 2,
   "id": "84ba36d8-bae5-4947-9870-348306d622f0",
   "metadata": {},
   "outputs": [],
   "source": [
    "from soap import *"
   ]
  },
  {
   "cell_type": "code",
   "execution_count": 3,
   "id": "03d4a1d6-334a-4404-aceb-ae134154c254",
   "metadata": {},
   "outputs": [],
   "source": [
    "_, structure, species = read_cif(\"CIF_files/DB0-m1_o14_smb_repeat.cif\")"
   ]
  },
  {
   "cell_type": "code",
   "execution_count": 4,
   "id": "55f6f4ee-62be-47d0-bc06-4399d9e1307d",
   "metadata": {},
   "outputs": [],
   "source": [
    "soap_out = S(structure = structure, species = species)"
   ]
  },
  {
   "cell_type": "code",
   "execution_count": 6,
   "id": "67b31f1e-9b69-47d5-8204-a64908310140",
   "metadata": {},
   "outputs": [
    {
     "data": {
      "text/plain": [
       "(213, 20)"
      ]
     },
     "execution_count": 6,
     "metadata": {},
     "output_type": "execute_result"
    }
   ],
   "source": [
    "soap_out.shape"
   ]
  },
  {
   "cell_type": "code",
   "execution_count": 7,
   "id": "1d7ac31e-2fe3-4119-9600-daaab5dc8e9c",
   "metadata": {},
   "outputs": [],
   "source": [
    "N_env, N_feat = soap_out.shape"
   ]
  },
  {
   "cell_type": "code",
   "execution_count": 8,
   "id": "a3d8cd28-9166-4eba-aed6-8bf41932f65a",
   "metadata": {},
   "outputs": [
    {
     "ename": "TypeError",
     "evalue": "'function' object is not subscriptable",
     "output_type": "error",
     "traceback": [
      "\u001b[0;31m---------------------------------------------------------------------------\u001b[0m",
      "\u001b[0;31mTypeError\u001b[0m                                 Traceback (most recent call last)",
      "Cell \u001b[0;32mIn[8], line 10\u001b[0m\n\u001b[1;32m      8\u001b[0m \u001b[38;5;28;01mfor\u001b[39;00m i \u001b[38;5;129;01min\u001b[39;00m \u001b[38;5;28mrange\u001b[39m(N_env):\n\u001b[1;32m      9\u001b[0m     \u001b[38;5;28;01mfor\u001b[39;00m j \u001b[38;5;129;01min\u001b[39;00m \u001b[38;5;28mrange\u001b[39m(N_env):\n\u001b[0;32m---> 10\u001b[0m         K[i, j] \u001b[38;5;241m=\u001b[39m rbf_kernel(\u001b[43mS\u001b[49m\u001b[43m[\u001b[49m\u001b[43mi\u001b[49m\u001b[43m]\u001b[49m, S[j], gamma\u001b[38;5;241m=\u001b[39m\u001b[38;5;241m1e-3\u001b[39m)\n\u001b[1;32m     12\u001b[0m \u001b[38;5;66;03m# 2) Run Kernel PCA to extract exactly one principal component.\u001b[39;00m\n\u001b[1;32m     13\u001b[0m kpca \u001b[38;5;241m=\u001b[39m KernelPCA(n_components\u001b[38;5;241m=\u001b[39m\u001b[38;5;241m1\u001b[39m, kernel\u001b[38;5;241m=\u001b[39m\u001b[38;5;124m\"\u001b[39m\u001b[38;5;124mprecomputed\u001b[39m\u001b[38;5;124m\"\u001b[39m)\n",
      "\u001b[0;31mTypeError\u001b[0m: 'function' object is not subscriptable"
     ]
    }
   ],
   "source": [
    "# 1) Build the N_env × N_env kernel among environments.  \n",
    "#    For example, use an RBF kernel with some gamma > 0.\n",
    "def rbf_kernel(u, v, gamma=1e-3):\n",
    "    diff = u - v\n",
    "    return np.exp(-gamma * (diff @ diff))\n",
    "\n",
    "K = np.zeros((N_env, N_env))\n",
    "for i in range(N_env):\n",
    "    for j in range(N_env):\n",
    "        K[i, j] = rbf_kernel(soap_out[i], soap_out[j], gamma=1e-3)\n",
    "\n",
    "# 2) Run Kernel PCA to extract exactly one principal component.\n",
    "kpca = KernelPCA(n_components=1, kernel=\"precomputed\")\n",
    "#   - We pass `kernel=\"precomputed\"` because we already built K.\n",
    "#   - kpca.fit_transform(K) returns an array of shape (N_env, 1),\n",
    "#     but the corresponding eigenvector α is available as kpca.alphas_.\n",
    "Z = kpca.fit_transform(K)   # shape = (N_env, 1), equals K @ α / λ\n",
    "\n",
    "# 3) The principal eigenvector α (length N_env) can be taken from kpca.alphas_.\n",
    "#    Note: scikit-learn’s KernelPCA stores `alphas_` scaled so that each \n",
    "#    column is normalized, but the relative ratios α_i/α_j are what matter.\n",
    "alpha = kpca.alphas_[:, 0]   # shape = (N_env,)\n",
    "\n",
    "# 4) Form the weighted sum of S’s rows: d = α^T ⋅ S.\n",
    "#    That yields a single row of length N_feat.\n",
    "d = alpha.reshape(1, N_env) @ S   # shape = (1, N_feat)"
   ]
  },
  {
   "cell_type": "code",
   "execution_count": null,
   "id": "0cdd6b51-9dfb-495f-a3ab-ffc08ddc3c17",
   "metadata": {},
   "outputs": [],
   "source": []
  }
 ],
 "metadata": {
  "kernelspec": {
   "display_name": "pyemma",
   "language": "python",
   "name": "pyemma"
  },
  "language_info": {
   "codemirror_mode": {
    "name": "ipython",
    "version": 3
   },
   "file_extension": ".py",
   "mimetype": "text/x-python",
   "name": "python",
   "nbconvert_exporter": "python",
   "pygments_lexer": "ipython3",
   "version": "3.9.21"
  }
 },
 "nbformat": 4,
 "nbformat_minor": 5
}
