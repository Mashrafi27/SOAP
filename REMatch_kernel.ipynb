{
 "cells": [
  {
   "cell_type": "code",
   "execution_count": 76,
   "id": "474ddbe4-d924-4419-b9f4-d74c8564bdff",
   "metadata": {},
   "outputs": [],
   "source": [
    "import numpy as np\n",
    "import ot  # pip install POT\n",
    "from sklearn.metrics import pairwise_distances\n",
    "from soap import *\n",
    "from sklearn.decomposition import PCA, NMF\n",
    "from sklearn.kernel_approximation import RBFSampler\n"
   ]
  },
  {
   "cell_type": "code",
   "execution_count": 34,
   "id": "2aa699a2-10e2-443f-acd6-ad5d467060e2",
   "metadata": {},
   "outputs": [],
   "source": [
    "_, structure, species = read_cif(\"CIF_files/DB0-m1_o14_smb_repeat.cif\")"
   ]
  },
  {
   "cell_type": "code",
   "execution_count": 35,
   "id": "a554b9c5-edbd-4b3a-b872-d29ad916682f",
   "metadata": {},
   "outputs": [],
   "source": [
    "soap_out, soap = S(structure = structure, species = species)"
   ]
  },
  {
   "cell_type": "code",
   "execution_count": 36,
   "id": "abcc96f1-2782-465a-99ef-f3f0dff27a57",
   "metadata": {},
   "outputs": [
    {
     "data": {
      "text/plain": [
       "array([[ 1.44527968e-04,  3.02603639e-05,  1.98339927e-03, ...,\n",
       "        -2.23449409e-03,  6.80180872e+00,  4.96013516e-03],\n",
       "       [ 2.98962645e-05,  2.04845632e-05,  6.67611037e-04, ...,\n",
       "         5.44520471e-04,  6.70642019e+00,  3.75441117e-03],\n",
       "       [ 6.76165758e-04,  3.74826567e-04,  3.15749809e-03, ...,\n",
       "         1.13684853e-03,  6.70247714e+00,  3.69016430e-03],\n",
       "       ...,\n",
       "       [ 7.61647279e+00,  1.45995339e-02,  6.00068831e+00, ...,\n",
       "         2.28852776e-04,  5.05061852e-06,  5.52786141e-06],\n",
       "       [ 3.37711769e+00,  2.11066809e-01,  9.01868235e+00, ...,\n",
       "         1.75493717e-05,  7.01850735e-08,  1.00265355e-07],\n",
       "       [ 1.34471988e-01,  3.80896391e-02,  1.71903804e+00, ...,\n",
       "         2.57604367e-04,  1.55579813e-06,  1.75955486e-06]])"
      ]
     },
     "execution_count": 36,
     "metadata": {},
     "output_type": "execute_result"
    }
   ],
   "source": [
    "soap_out"
   ]
  },
  {
   "cell_type": "code",
   "execution_count": 48,
   "id": "bf9f2da9-74ac-49a3-af1e-5757103b97cc",
   "metadata": {},
   "outputs": [],
   "source": [
    "# 1) Build the N_env × N_env kernel among environments.  \n",
    "#    For example, use an RBF kernel with some gamma > 0.\n",
    "def rbf_kernel(u, v, gamma=1e-3):\n",
    "    diff = u - v\n",
    "    return np.exp(-gamma * (diff @ diff))\n",
    "\n",
    "N_env, N_feat = soap_out.shape\n",
    "\n",
    "K = np.zeros((N_env, N_env))\n",
    "for i in range(N_env):\n",
    "    for j in range(N_env):\n",
    "        K[i, j] = rbf_kernel(soap_out[i], soap_out[j], gamma=1e-3)"
   ]
  },
  {
   "cell_type": "code",
   "execution_count": 70,
   "id": "1c6178a0-9485-47d1-b857-89d643715b60",
   "metadata": {},
   "outputs": [
    {
     "name": "stdout",
     "output_type": "stream",
     "text": [
      "NMF weights sum to: 0.9999999999999999\n",
      "Descriptor shape: (1, 20)\n"
     ]
    },
    {
     "name": "stderr",
     "output_type": "stream",
     "text": [
      "/home/mmm9886/.conda/envs/pyemma/lib/python3.9/site-packages/sklearn/decomposition/_nmf.py:1770: ConvergenceWarning: Maximum number of iterations 1000 reached. Increase it to improve convergence.\n",
      "  warnings.warn(\n"
     ]
    }
   ],
   "source": [
    "# 1) Ensure K is nonnegative (clip tiny numerical negatives):\n",
    "K_nonneg = np.clip(K, a_min=0, a_max=None)  # shape = (N_env, N_env)\n",
    "\n",
    "# 2) Fit NMF with rank=1:\n",
    "nmf = NMF(n_components=1, init=\"nndsvda\", random_state=0, max_iter=1000)\n",
    "W = nmf.fit_transform(K_nonneg)  # shape = (N_env, 1)\n",
    "w = W[:, 0]                      # shape = (N_env,)\n",
    "\n",
    "# 3) Normalize so sum(w)=1:\n",
    "w /= w.sum()\n",
    "\n",
    "# 4) Collapse SOAP:\n",
    "d_nmf = w.reshape(1, -1) @ soap_out  # shape = (1, N_feat)\n",
    "\n",
    "print(\"NMF weights sum to:\", w.sum())       # → 1.0\n",
    "print(\"Descriptor shape:\", d_nmf.shape)     # → (1, N_feat)"
   ]
  },
  {
   "cell_type": "code",
   "execution_count": 74,
   "id": "bfb91b57-4a10-41dd-ac26-067171874cf8",
   "metadata": {},
   "outputs": [
    {
     "name": "stdout",
     "output_type": "stream",
     "text": [
      "Sinkhorn‐derived weights sum to: 0.9999999999999999\n",
      "Descriptor shape: (1, 20)\n"
     ]
    },
    {
     "name": "stderr",
     "output_type": "stream",
     "text": [
      "/home/mmm9886/.conda/envs/pyemma/lib/python3.9/site-packages/ot/bregman/_sinkhorn.py:667: UserWarning: Sinkhorn did not converge. You might want to increase the number of iterations `numItermax` or the regularization parameter `reg`.\n",
      "  warnings.warn(\n"
     ]
    }
   ],
   "source": [
    "# 1) Create a tiny‐noise copy of soap_out:\n",
    "noise_level = 1e-5\n",
    "soap_B = soap_out + noise_level * np.random.randn(N_env, N_feat)\n",
    "\n",
    "# 2) Build squared‐Euclidean cost D between A=soap_out and B=soap_B:\n",
    "D = pairwise_distances(soap_out, soap_B, metric=\"sqeuclidean\")  # shape = (N_env, N_env)\n",
    "\n",
    "# 3) Uniform marginals a,b ∈ ℝ^{N_env}:\n",
    "a = np.ones(N_env) / N_env\n",
    "b = np.ones(N_env) / N_env\n",
    "\n",
    "# 4) Solve Sinkhorn OT on D → coupling P:\n",
    "reg = 1e-2   # entropic regularization; increase if convergence fails\n",
    "P = ot.sinkhorn(a, b, D, reg)  # shape = (N_env, N_env)\n",
    "\n",
    "# 5) Extract row‐sums w and normalize:\n",
    "w = P.sum(axis=1)      # shape = (N_env,)\n",
    "w /= w.sum()\n",
    "\n",
    "# 6) Collapse SOAP:\n",
    "d_rematch = w.reshape(1, -1) @ soap_out  # shape = (1, N_feat)\n",
    "\n",
    "print(\"Sinkhorn‐derived weights sum to:\", w.sum())     # → 1.0\n",
    "print(\"Descriptor shape:\", d_rematch.shape)            # → (1, N_feat)"
   ]
  },
  {
   "cell_type": "code",
   "execution_count": 79,
   "id": "5635942d-d92b-40a5-ba5c-d0f2d1ee3203",
   "metadata": {},
   "outputs": [
    {
     "name": "stdout",
     "output_type": "stream",
     "text": [
      "RFF→PCA embedding shape: (213, 1)\n"
     ]
    }
   ],
   "source": [
    "# 1) Pick gamma and number of RFF dims D:\n",
    "gamma = 1e-3\n",
    "D = 500\n",
    "\n",
    "# 2) Create RFF map and transform soap_out → Φ ∈ ℝ^{N_env×D}:\n",
    "rbf_sampler = RBFSampler(gamma=gamma, n_components=D, random_state=0)\n",
    "Phi = rbf_sampler.fit_transform(soap_out)  # shape = (N_env, D)\n",
    "\n",
    "# 3) Run PCA on Φ to get k‐dim embedding:\n",
    "k = 1\n",
    "pca = PCA(n_components=k)\n",
    "Z_rff = pca.fit_transform(Phi)  # shape = (N_env, k)\n",
    "\n",
    "print(\"RFF→PCA embedding shape:\", Z_rff.shape)  # (N_env, k)"
   ]
  },
  {
   "cell_type": "code",
   "execution_count": 80,
   "id": "1d4e81d4-2a0a-4511-8486-aa7cb27501d9",
   "metadata": {
    "scrolled": true
   },
   "outputs": [
    {
     "data": {
      "text/plain": [
       "array([[-0.49043983],\n",
       "       [-0.49148631],\n",
       "       [-0.49143244],\n",
       "       [-0.49141139],\n",
       "       [-0.50209674],\n",
       "       [-0.4872954 ],\n",
       "       [-0.48920468],\n",
       "       [-0.49086873],\n",
       "       [-0.4925143 ],\n",
       "       [-0.48624388],\n",
       "       [-0.49196919],\n",
       "       [-0.48917913],\n",
       "       [-0.4903114 ],\n",
       "       [-0.49114386],\n",
       "       [-0.48714728],\n",
       "       [-0.490508  ],\n",
       "       [-0.48911879],\n",
       "       [-0.12904845],\n",
       "       [-0.11384961],\n",
       "       [-0.10147352],\n",
       "       [-0.1065694 ],\n",
       "       [-0.12008471],\n",
       "       [-0.1403145 ],\n",
       "       [-0.49073729],\n",
       "       [-0.48983553],\n",
       "       [-0.48699159],\n",
       "       [-0.48991174],\n",
       "       [-0.50210132],\n",
       "       [-0.48549459],\n",
       "       [-0.48429523],\n",
       "       [-0.49962065],\n",
       "       [-0.48910817],\n",
       "       [-0.49964253],\n",
       "       [-0.49119692],\n",
       "       [-0.49061355],\n",
       "       [-0.4899753 ],\n",
       "       [-0.4873365 ],\n",
       "       [-0.4881604 ],\n",
       "       [-0.48929918],\n",
       "       [-0.49260621],\n",
       "       [-0.11077034],\n",
       "       [-0.16986571],\n",
       "       [-0.10216696],\n",
       "       [-0.09533088],\n",
       "       [-0.38454445],\n",
       "       [-0.10804661],\n",
       "       [-0.49145938],\n",
       "       [-0.49008973],\n",
       "       [-0.49004703],\n",
       "       [-0.48682803],\n",
       "       [-0.50389667],\n",
       "       [-0.48919978],\n",
       "       [-0.48931698],\n",
       "       [-0.48909074],\n",
       "       [-0.48537009],\n",
       "       [-0.48739836],\n",
       "       [-0.48938652],\n",
       "       [-0.4853579 ],\n",
       "       [-0.50024596],\n",
       "       [-0.49302915],\n",
       "       [-0.50005487],\n",
       "       [-0.4838019 ],\n",
       "       [-0.49387998],\n",
       "       [-0.12326523],\n",
       "       [-0.11526549],\n",
       "       [-0.384017  ],\n",
       "       [-0.10966205],\n",
       "       [-0.11259439],\n",
       "       [-0.10430179],\n",
       "       [-0.36786205],\n",
       "       [ 0.4877831 ],\n",
       "       [-0.35408465],\n",
       "       [ 0.40080809],\n",
       "       [-0.38062445],\n",
       "       [ 0.40598622],\n",
       "       [-0.36825192],\n",
       "       [ 0.48447314],\n",
       "       [-0.35126738],\n",
       "       [ 0.76555979],\n",
       "       [ 0.76588037],\n",
       "       [ 0.72715935],\n",
       "       [ 0.47590033],\n",
       "       [-0.37644283],\n",
       "       [ 0.47694406],\n",
       "       [ 0.71833854],\n",
       "       [-0.36947088],\n",
       "       [ 0.49296453],\n",
       "       [-0.34121231],\n",
       "       [ 0.41753912],\n",
       "       [-0.35733001],\n",
       "       [ 0.40449945],\n",
       "       [-0.38662797],\n",
       "       [ 0.49183876],\n",
       "       [-0.36785297],\n",
       "       [ 0.76496267],\n",
       "       [ 0.76574343],\n",
       "       [ 0.70626007],\n",
       "       [ 0.45497583],\n",
       "       [-0.38094603],\n",
       "       [ 0.45397228],\n",
       "       [ 0.71768943],\n",
       "       [-0.37803301],\n",
       "       [ 0.48062339],\n",
       "       [-0.36220319],\n",
       "       [ 0.39860243],\n",
       "       [-0.37250435],\n",
       "       [ 0.39768139],\n",
       "       [-0.38713507],\n",
       "       [ 0.48097775],\n",
       "       [-0.3679728 ],\n",
       "       [ 0.76595015],\n",
       "       [ 0.765625  ],\n",
       "       [ 0.71989061],\n",
       "       [ 0.47288333],\n",
       "       [-0.37625439],\n",
       "       [ 0.47466184],\n",
       "       [ 0.71998955],\n",
       "       [-0.37690175],\n",
       "       [ 0.47520507],\n",
       "       [-0.36995973],\n",
       "       [ 0.40394558],\n",
       "       [-0.3886166 ],\n",
       "       [ 0.40889661],\n",
       "       [-0.47270981],\n",
       "       [ 0.480541  ],\n",
       "       [-0.47292484],\n",
       "       [ 0.75231719],\n",
       "       [ 0.76508183],\n",
       "       [ 0.71780866],\n",
       "       [ 0.4735759 ],\n",
       "       [-0.37847251],\n",
       "       [ 0.47018454],\n",
       "       [ 0.71653875],\n",
       "       [-0.37452709],\n",
       "       [ 0.47754532],\n",
       "       [-0.36950696],\n",
       "       [ 0.39620846],\n",
       "       [-0.3872318 ],\n",
       "       [ 0.39646318],\n",
       "       [-0.38729657],\n",
       "       [ 0.47949111],\n",
       "       [-0.36760939],\n",
       "       [ 0.76933308],\n",
       "       [ 0.76637882],\n",
       "       [ 0.71191849],\n",
       "       [ 0.4616689 ],\n",
       "       [-0.37022747],\n",
       "       [ 0.47009195],\n",
       "       [ 0.72019726],\n",
       "       [-0.37787256],\n",
       "       [ 0.46761834],\n",
       "       [-0.37083101],\n",
       "       [ 0.39781149],\n",
       "       [-0.38651543],\n",
       "       [ 0.39857807],\n",
       "       [-0.38698808],\n",
       "       [ 0.48148281],\n",
       "       [-0.36782217],\n",
       "       [ 0.76477653],\n",
       "       [ 0.76310207],\n",
       "       [ 0.69529025],\n",
       "       [ 0.45251311],\n",
       "       [-0.37324221],\n",
       "       [ 0.45484658],\n",
       "       [ 0.70809934],\n",
       "       [-0.38896757],\n",
       "       [ 0.46158841],\n",
       "       [-0.37991424],\n",
       "       [ 0.40112377],\n",
       "       [-0.38585708],\n",
       "       [ 0.40136103],\n",
       "       [-0.38465419],\n",
       "       [ 0.48134669],\n",
       "       [-0.36697765],\n",
       "       [ 0.76595924],\n",
       "       [ 0.76169124],\n",
       "       [ 0.46772595],\n",
       "       [ 0.41532608],\n",
       "       [-0.37675663],\n",
       "       [ 0.47692165],\n",
       "       [ 0.72448436],\n",
       "       [-0.37530955],\n",
       "       [ 0.48205041],\n",
       "       [-0.36235322],\n",
       "       [ 0.40101552],\n",
       "       [-0.37478626],\n",
       "       [ 0.39936322],\n",
       "       [-0.37559708],\n",
       "       [ 0.47203555],\n",
       "       [-0.37025488],\n",
       "       [ 0.76492415],\n",
       "       [ 0.76572977],\n",
       "       [ 0.72548628],\n",
       "       [ 0.48514958],\n",
       "       [-0.3759143 ],\n",
       "       [ 0.4816433 ],\n",
       "       [ 0.71705204],\n",
       "       [-0.39084204],\n",
       "       [ 0.39745543],\n",
       "       [-0.46711128],\n",
       "       [ 0.40731675],\n",
       "       [-0.46831943],\n",
       "       [ 0.40252594],\n",
       "       [-0.39016664],\n",
       "       [ 0.39672276],\n",
       "       [-0.3901377 ],\n",
       "       [ 0.38902599],\n",
       "       [ 0.38391466],\n",
       "       [-0.04077612],\n",
       "       [ 0.30982831],\n",
       "       [-0.37814153],\n",
       "       [ 0.36661562],\n",
       "       [ 0.27803388]])"
      ]
     },
     "execution_count": 80,
     "metadata": {},
     "output_type": "execute_result"
    }
   ],
   "source": [
    "Z_rff"
   ]
  },
  {
   "cell_type": "code",
   "execution_count": 75,
   "id": "30c67b22-9bb0-4c2c-9703-bf7ed6bce048",
   "metadata": {},
   "outputs": [
    {
     "data": {
      "text/plain": [
       "array([[ 2.77902631e+00,  5.32198372e-02,  4.11588378e+00,\n",
       "        -5.19847926e-02,  1.63876232e-01, -2.68026443e-03,\n",
       "         9.99165625e-03, -1.45617068e-03,  1.54767122e+01,\n",
       "         3.17557746e-01,  1.59166562e+00, -1.56041520e-02,\n",
       "         1.21731496e-01, -1.35054514e-02,  1.99147215e+00,\n",
       "         2.26188261e-02,  4.92624250e-01,  2.93805103e-03,\n",
       "         4.62426975e-01,  8.11873260e-03]])"
      ]
     },
     "execution_count": 75,
     "metadata": {},
     "output_type": "execute_result"
    }
   ],
   "source": [
    "d_rematch"
   ]
  },
  {
   "cell_type": "code",
   "execution_count": 71,
   "id": "788f8d20-9493-4f9a-9cc2-21db9532292e",
   "metadata": {},
   "outputs": [
    {
     "data": {
      "text/plain": [
       "array([[ 2.90963190e+00,  5.52781133e-02,  4.26059148e+00,\n",
       "        -5.40485349e-02,  1.68401592e-01, -2.93012785e-03,\n",
       "         9.99051475e-03, -1.45741567e-03,  1.48899646e+01,\n",
       "         3.30578670e-01,  1.62148234e+00, -1.67081085e-02,\n",
       "         1.21255713e-01, -1.35203278e-02,  1.99201130e+00,\n",
       "         2.32826044e-02,  4.70189395e-01,  3.04135999e-03,\n",
       "         4.32615295e-01,  8.01986087e-03]])"
      ]
     },
     "execution_count": 71,
     "metadata": {},
     "output_type": "execute_result"
    }
   ],
   "source": [
    "d_diffusion"
   ]
  },
  {
   "cell_type": "code",
   "execution_count": 72,
   "id": "f574ef42-9cee-4020-9aa5-be092eb6e538",
   "metadata": {},
   "outputs": [
    {
     "data": {
      "text/plain": [
       "array([[ 2.96605068e+00,  5.36428919e-02,  4.21906596e+00,\n",
       "        -5.12281997e-02,  1.71846036e-01, -3.04827738e-03,\n",
       "         1.03681232e-02, -1.51324392e-03,  1.42004841e+01,\n",
       "         3.33932346e-01,  1.64383798e+00, -1.63817341e-02,\n",
       "         1.25654259e-01, -1.40244686e-02,  2.06222750e+00,\n",
       "         2.34902785e-02,  4.89804312e-01,  3.12160018e-03,\n",
       "         4.51152865e-01,  8.34918920e-03]])"
      ]
     },
     "execution_count": 72,
     "metadata": {},
     "output_type": "execute_result"
    }
   ],
   "source": [
    "d_nmf"
   ]
  },
  {
   "cell_type": "code",
   "execution_count": null,
   "id": "15aef2b2-c92a-4f79-9f1c-4fdc93e81828",
   "metadata": {},
   "outputs": [],
   "source": []
  },
  {
   "cell_type": "code",
   "execution_count": 38,
   "id": "95ae6ad4-23f0-4dd1-abda-efda0f5b5d68",
   "metadata": {},
   "outputs": [
    {
     "data": {
      "text/plain": [
       "array([[-5.35578879e-02,  2.63602511e-03,  9.00507748e-02,\n",
       "        -4.34378379e-03, -4.61352299e-03,  1.40025876e-04,\n",
       "        -6.17948785e-04,  9.27201535e-05,  9.85483197e-01,\n",
       "        -2.99520879e-03, -3.48841123e-02, -6.80611190e-04,\n",
       "        -7.44502038e-03,  8.39780025e-04, -1.17775624e-01,\n",
       "        -2.74320159e-04, -3.66950680e-02, -1.17149262e-04,\n",
       "        -3.60175111e-02, -5.67344098e-04]])"
      ]
     },
     "execution_count": 38,
     "metadata": {},
     "output_type": "execute_result"
    }
   ],
   "source": [
    "d_pca"
   ]
  },
  {
   "cell_type": "code",
   "execution_count": 32,
   "id": "992725a2-0166-452b-b70d-cc121d276a6f",
   "metadata": {},
   "outputs": [
    {
     "data": {
      "text/plain": [
       "array([[ 2.77902631e+00,  5.32198372e-02,  4.11588378e+00,\n",
       "        -5.19847926e-02,  1.63876232e-01, -2.68026443e-03,\n",
       "         9.99165625e-03, -1.45617068e-03,  1.54767122e+01,\n",
       "         3.17557746e-01,  1.59166562e+00, -1.56041520e-02,\n",
       "         1.21731496e-01, -1.35054514e-02,  1.99147215e+00,\n",
       "         2.26188261e-02,  4.92624250e-01,  2.93805103e-03,\n",
       "         4.62426975e-01,  8.11873260e-03]])"
      ]
     },
     "execution_count": 32,
     "metadata": {},
     "output_type": "execute_result"
    }
   ],
   "source": [
    "d_emd"
   ]
  },
  {
   "cell_type": "code",
   "execution_count": 47,
   "id": "6bf179e3-2d93-41b7-8d8a-cac4985ef83c",
   "metadata": {},
   "outputs": [
    {
     "data": {
      "text/plain": [
       "array([[ 2.77902631e+00,  5.32198372e-02,  4.11588378e+00,\n",
       "        -5.19847926e-02,  1.63876232e-01, -2.68026443e-03,\n",
       "         9.99165625e-03, -1.45617068e-03,  1.54767122e+01,\n",
       "         3.17557746e-01,  1.59166562e+00, -1.56041520e-02,\n",
       "         1.21731496e-01, -1.35054514e-02,  1.99147215e+00,\n",
       "         2.26188261e-02,  4.92624250e-01,  2.93805103e-03,\n",
       "         4.62426975e-01,  8.11873260e-03]])"
      ]
     },
     "execution_count": 47,
     "metadata": {},
     "output_type": "execute_result"
    }
   ],
   "source": [
    "d_rematch"
   ]
  },
  {
   "cell_type": "code",
   "execution_count": 15,
   "id": "c94e63da-6240-4d3e-a27f-8dd34cd01ab7",
   "metadata": {},
   "outputs": [
    {
     "data": {
      "text/plain": [
       "array([[ 2.77902631e+00,  5.32198372e-02,  4.11588378e+00,\n",
       "        -5.19847926e-02,  1.63876232e-01, -2.68026443e-03,\n",
       "         9.99165625e-03, -1.45617068e-03,  1.54767122e+01,\n",
       "         3.17557746e-01,  1.59166562e+00, -1.56041520e-02,\n",
       "         1.21731496e-01, -1.35054514e-02,  1.99147215e+00,\n",
       "         2.26188261e-02,  4.92624250e-01,  2.93805103e-03,\n",
       "         4.62426975e-01,  8.11873260e-03]])"
      ]
     },
     "execution_count": 15,
     "metadata": {},
     "output_type": "execute_result"
    }
   ],
   "source": [
    "d_rematch"
   ]
  },
  {
   "cell_type": "code",
   "execution_count": 21,
   "id": "3e9c1691-406b-409e-bb94-24522fb7d1b1",
   "metadata": {},
   "outputs": [
    {
     "data": {
      "text/plain": [
       "array([ 2.77902631e+00,  5.32198372e-02,  4.11588378e+00, -5.19847926e-02,\n",
       "        1.63876232e-01, -2.68026443e-03,  9.99165625e-03, -1.45617068e-03,\n",
       "        1.54767122e+01,  3.17557746e-01,  1.59166562e+00, -1.56041520e-02,\n",
       "        1.21731496e-01, -1.35054514e-02,  1.99147215e+00,  2.26188261e-02,\n",
       "        4.92624250e-01,  2.93805103e-03,  4.62426975e-01,  8.11873260e-03])"
      ]
     },
     "execution_count": 21,
     "metadata": {},
     "output_type": "execute_result"
    }
   ],
   "source": [
    "so"
   ]
  },
  {
   "cell_type": "code",
   "execution_count": 16,
   "id": "1ebd6156-6aff-4c0e-aea0-8415ad4a96f0",
   "metadata": {},
   "outputs": [],
   "source": [
    "so,_ = S(structure = structure, species = species, average = \"outer\")\n",
    "si,_ = S(structure = structure, species = species, average = \"inner\")"
   ]
  },
  {
   "cell_type": "code",
   "execution_count": 17,
   "id": "93111a77-d43b-415e-9f6a-673025573778",
   "metadata": {},
   "outputs": [],
   "source": [
    "import numpy as np\n",
    "import matplotlib.pyplot as plt"
   ]
  },
  {
   "cell_type": "code",
   "execution_count": 73,
   "id": "45424009-4755-40e8-ba47-6834fe36fb1d",
   "metadata": {},
   "outputs": [
    {
     "data": {
      "image/png": "[encoded data removed]",
      "text/plain": [
       "<Figure size 640x480 with 1 Axes>"
      ]
     },
     "metadata": {},
     "output_type": "display_data"
    }
   ],
   "source": [
    "plt.plot(np.arange(20), d_nmf[0], label='kernelPCA')\n",
    "plt.plot(np.arange(20), si, label='inner')\n",
    "plt.plot(np.arange(20), so, label='outer')\n",
    "\n",
    "plt.xlabel('Index')\n",
    "plt.ylabel('Value')\n",
    "plt.title('Comparison of Three Arrays')\n",
    "plt.legend()\n",
    "plt.ylim(10,-10)\n",
    "plt.grid()\n",
    "plt.tight_layout()\n",
    "plt.show()"
   ]
  },
  {
   "cell_type": "code",
   "execution_count": null,
   "id": "de6afc7b-7df9-46ff-acc2-b570b00ffa68",
   "metadata": {},
   "outputs": [],
   "source": []
  }
 ],
 "metadata": {
  "kernelspec": {
   "display_name": "pyemma",
   "language": "python",
   "name": "pyemma"
  },
  "language_info": {
   "codemirror_mode": {
    "name": "ipython",
    "version": 3
   },
   "file_extension": ".py",
   "mimetype": "text/x-python",
   "name": "python",
   "nbconvert_exporter": "python",
   "pygments_lexer": "ipython3",
   "version": "3.9.21"
  }
 },
 "nbformat": 4,
 "nbformat_minor": 5
}
