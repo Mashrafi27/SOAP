{
 "cells": [
  {
   "cell_type": "code",
   "execution_count": null,
   "id": "d00c5a80-ba28-4250-a2a9-b3f2ddbf9b3e",
   "metadata": {},
   "outputs": [],
   "source": [
    "\n",
    "\n",
    "import numpy as np\n",
    "from sklearn.decomposition import KernelPCA"
   ]
  },
  {
   "cell_type": "code",
   "execution_count": 2,
   "id": "84ba36d8-bae5-4947-9870-348306d622f0",
   "metadata": {},
   "outputs": [],
   "source": [
    "from soap import *"
   ]
  },
  {
   "cell_type": "code",
   "execution_count": 3,
   "id": "03d4a1d6-334a-4404-aceb-ae134154c254",
   "metadata": {},
   "outputs": [],
   "source": [
    "_, structure, species = read_cif(\"CIF_files/DB0-m1_o14_smb_repeat.cif\")"
   ]
  },
  {
   "cell_type": "code",
   "execution_count": 4,
   "id": "55f6f4ee-62be-47d0-bc06-4399d9e1307d",
   "metadata": {},
   "outputs": [],
   "source": [
    "soap_out, soap = S(structure = structure, species = species)"
   ]
  },
  {
   "cell_type": "code",
   "execution_count": 6,
   "id": "67b31f1e-9b69-47d5-8204-a64908310140",
   "metadata": {},
   "outputs": [
    {
     "data": {
      "text/plain": [
       "(213, 20)"
      ]
     },
     "execution_count": 6,
     "metadata": {},
     "output_type": "execute_result"
    }
   ],
   "source": [
    "soap_out.shape"
   ]
  },
  {
   "cell_type": "code",
   "execution_count": 7,
   "id": "1d7ac31e-2fe3-4119-9600-daaab5dc8e9c",
   "metadata": {},
   "outputs": [],
   "source": [
    "N_env, N_feat = soap_out.shape"
   ]
  },
  {
   "cell_type": "code",
   "execution_count": 11,
   "id": "a3d8cd28-9166-4eba-aed6-8bf41932f65a",
   "metadata": {},
   "outputs": [
    {
     "name": "stdout",
     "output_type": "stream",
     "text": [
      "collapsed descriptor shape: (1, 20)\n"
     ]
    }
   ],
   "source": [
    "# 1) Build the N_env × N_env kernel among environments.  \n",
    "#    For example, use an RBF kernel with some gamma > 0.\n",
    "def rbf_kernel(u, v, gamma=1e-3):\n",
    "    diff = u - v\n",
    "    return np.exp(-gamma * (diff @ diff))\n",
    "\n",
    "K = np.zeros((N_env, N_env))\n",
    "for i in range(N_env):\n",
    "    for j in range(N_env):\n",
    "        K[i, j] = rbf_kernel(soap_out[i], soap_out[j], gamma=1e-3)\n",
    "\n",
    "eigvals, eigvecs = np.linalg.eigh(K)\n",
    "alpha = eigvecs[:, -1]       # shape = (N_env,)\n",
    "# (Optionally, you can normalize alpha so that sum(alpha^2)=1 or so that sum(alpha)=1, etc.)\n",
    "alpha = alpha / np.linalg.norm(alpha)\n",
    "\n",
    "# --- 3) Form the weighted‐sum row d = alpha^T @ soap_out ---\n",
    "d = alpha.reshape(1, N_env) @ soap_out   # shape = (1, N_feat)\n",
    "\n",
    "print(\"collapsed descriptor shape:\", d.shape)"
   ]
  },
  {
   "cell_type": "code",
   "execution_count": 17,
   "id": "0cdd6b51-9dfb-495f-a3ab-ffc08ddc3c17",
   "metadata": {},
   "outputs": [
    {
     "data": {
      "text/plain": [
       "array([-4.29396800e+01, -7.76591118e-01, -6.10796517e+01,  7.41633485e-01,\n",
       "       -2.48782458e+00,  4.41300806e-02, -1.50099893e-01,  2.19073161e-02,\n",
       "       -2.05581195e+02, -4.83435708e+00, -2.37979335e+01,  2.37159273e-01,\n",
       "       -1.81910368e+00,  2.03033009e-01, -2.98549818e+01, -3.40070064e-01,\n",
       "       -7.09092416e+00, -4.51915788e-02, -6.53136502e+00, -1.20871675e-01])"
      ]
     },
     "execution_count": 17,
     "metadata": {},
     "output_type": "execute_result"
    }
   ],
   "source": [
    "d[0]"
   ]
  },
  {
   "cell_type": "code",
   "execution_count": 21,
   "id": "366563b2-18f5-4cd4-8fdf-210c4b6c6a51",
   "metadata": {},
   "outputs": [],
   "source": [
    "si = S(structure = structure, species = species, average = \"inner\")"
   ]
  },
  {
   "cell_type": "code",
   "execution_count": 22,
   "id": "5e6413f7-6341-49cb-905c-42b61c32891d",
   "metadata": {},
   "outputs": [
    {
     "data": {
      "text/plain": [
       "array([ 1.52091564e+00,  4.50189564e-05,  4.16378818e+00, -2.95287154e-05,\n",
       "        1.03914068e+00,  2.32330997e-06,  2.98309005e-01, -1.78135509e-05,\n",
       "        1.13991411e+01,  4.20726344e-05,  2.84484003e+00, -2.26701741e-05,\n",
       "        8.16676138e-01,  1.01262552e-05,  7.09975838e-01,  2.98115188e-05,\n",
       "        2.03814738e-01, -9.46465465e-06,  5.85096637e-02,  1.71519504e-05])"
      ]
     },
     "execution_count": 22,
     "metadata": {},
     "output_type": "execute_result"
    }
   ],
   "source": [
    "si"
   ]
  },
  {
   "cell_type": "code",
   "execution_count": 23,
   "id": "4dc2c8a2-4014-42f9-af4a-fae6375ce50e",
   "metadata": {},
   "outputs": [],
   "source": [
    "so = S(structure = structure, species = species, average = \"outer\")"
   ]
  },
  {
   "cell_type": "code",
   "execution_count": 24,
   "id": "f8f0fd40-73cd-4076-863f-b500ca20fbe4",
   "metadata": {},
   "outputs": [
    {
     "data": {
      "text/plain": [
       "array([ 2.77902631e+00,  5.32198372e-02,  4.11588378e+00, -5.19847926e-02,\n",
       "        1.63876232e-01, -2.68026443e-03,  9.99165625e-03, -1.45617068e-03,\n",
       "        1.54767122e+01,  3.17557746e-01,  1.59166562e+00, -1.56041520e-02,\n",
       "        1.21731496e-01, -1.35054514e-02,  1.99147215e+00,  2.26188261e-02,\n",
       "        4.92624250e-01,  2.93805103e-03,  4.62426975e-01,  8.11873260e-03])"
      ]
     },
     "execution_count": 24,
     "metadata": {},
     "output_type": "execute_result"
    }
   ],
   "source": [
    "so"
   ]
  },
  {
   "cell_type": "code",
   "execution_count": 20,
   "id": "e3720a25-4868-4ed1-9830-24bc2f2e6bf1",
   "metadata": {},
   "outputs": [],
   "source": [
    "import numpy as np\n",
    "import matplotlib.pyplot as plt"
   ]
  },
  {
   "cell_type": "code",
   "execution_count": 60,
   "id": "3f4b67ed-8483-4aa8-9f6c-738103d169df",
   "metadata": {
    "scrolled": true
   },
   "outputs": [
    {
     "name": "stderr",
     "output_type": "stream",
     "text": [
      "findfont: Generic family 'sans-serif' not found because none of the following families were found: Arial, Liberation Sans, Bitstream Vera Sans, sans-serif\n",
      "findfont: Generic family 'sans-serif' not found because none of the following families were found: Arial, Liberation Sans, Bitstream Vera Sans, sans-serif\n",
      "findfont: Generic family 'sans-serif' not found because none of the following families were found: Arial, Liberation Sans, Bitstream Vera Sans, sans-serif\n",
      "findfont: Generic family 'sans-serif' not found because none of the following families were found: Arial, Liberation Sans, Bitstream Vera Sans, sans-serif\n",
      "findfont: Generic family 'sans-serif' not found because none of the following families were found: Arial, Liberation Sans, Bitstream Vera Sans, sans-serif\n",
      "findfont: Generic family 'sans-serif' not found because none of the following families were found: Arial, Liberation Sans, Bitstream Vera Sans, sans-serif\n",
      "findfont: Generic family 'sans-serif' not found because none of the following families were found: Arial, Liberation Sans, Bitstream Vera Sans, sans-serif\n",
      "findfont: Generic family 'sans-serif' not found because none of the following families were found: Arial, Liberation Sans, Bitstream Vera Sans, sans-serif\n",
      "findfont: Generic family 'sans-serif' not found because none of the following families were found: Arial, Liberation Sans, Bitstream Vera Sans, sans-serif\n",
      "findfont: Generic family 'sans-serif' not found because none of the following families were found: Arial, Liberation Sans, Bitstream Vera Sans, sans-serif\n",
      "findfont: Generic family 'sans-serif' not found because none of the following families were found: Arial, Liberation Sans, Bitstream Vera Sans, sans-serif\n",
      "findfont: Generic family 'sans-serif' not found because none of the following families were found: Arial, Liberation Sans, Bitstream Vera Sans, sans-serif\n",
      "findfont: Generic family 'sans-serif' not found because none of the following families were found: Arial, Liberation Sans, Bitstream Vera Sans, sans-serif\n",
      "findfont: Generic family 'sans-serif' not found because none of the following families were found: Arial, Liberation Sans, Bitstream Vera Sans, sans-serif\n",
      "findfont: Generic family 'sans-serif' not found because none of the following families were found: Arial, Liberation Sans, Bitstream Vera Sans, sans-serif\n",
      "findfont: Generic family 'sans-serif' not found because none of the following families were found: Arial, Liberation Sans, Bitstream Vera Sans, sans-serif\n",
      "findfont: Generic family 'sans-serif' not found because none of the following families were found: Arial, Liberation Sans, Bitstream Vera Sans, sans-serif\n",
      "findfont: Generic family 'sans-serif' not found because none of the following families were found: Arial, Liberation Sans, Bitstream Vera Sans, sans-serif\n",
      "findfont: Generic family 'sans-serif' not found because none of the following families were found: Arial, Liberation Sans, Bitstream Vera Sans, sans-serif\n",
      "findfont: Generic family 'sans-serif' not found because none of the following families were found: Arial, Liberation Sans, Bitstream Vera Sans, sans-serif\n",
      "findfont: Generic family 'sans-serif' not found because none of the following families were found: Arial, Liberation Sans, Bitstream Vera Sans, sans-serif\n",
      "findfont: Generic family 'sans-serif' not found because none of the following families were found: Arial, Liberation Sans, Bitstream Vera Sans, sans-serif\n",
      "findfont: Generic family 'sans-serif' not found because none of the following families were found: Arial, Liberation Sans, Bitstream Vera Sans, sans-serif\n",
      "findfont: Generic family 'sans-serif' not found because none of the following families were found: Arial, Liberation Sans, Bitstream Vera Sans, sans-serif\n",
      "findfont: Generic family 'sans-serif' not found because none of the following families were found: Arial, Liberation Sans, Bitstream Vera Sans, sans-serif\n",
      "findfont: Generic family 'sans-serif' not found because none of the following families were found: Arial, Liberation Sans, Bitstream Vera Sans, sans-serif\n",
      "findfont: Generic family 'sans-serif' not found because none of the following families were found: Arial, Liberation Sans, Bitstream Vera Sans, sans-serif\n",
      "findfont: Generic family 'sans-serif' not found because none of the following families were found: Arial, Liberation Sans, Bitstream Vera Sans, sans-serif\n",
      "findfont: Generic family 'sans-serif' not found because none of the following families were found: Arial, Liberation Sans, Bitstream Vera Sans, sans-serif\n",
      "findfont: Generic family 'sans-serif' not found because none of the following families were found: Arial, Liberation Sans, Bitstream Vera Sans, sans-serif\n",
      "findfont: Generic family 'sans-serif' not found because none of the following families were found: Arial, Liberation Sans, Bitstream Vera Sans, sans-serif\n",
      "findfont: Generic family 'sans-serif' not found because none of the following families were found: Arial, Liberation Sans, Bitstream Vera Sans, sans-serif\n",
      "findfont: Generic family 'sans-serif' not found because none of the following families were found: Arial, Liberation Sans, Bitstream Vera Sans, sans-serif\n",
      "findfont: Generic family 'sans-serif' not found because none of the following families were found: Arial, Liberation Sans, Bitstream Vera Sans, sans-serif\n",
      "findfont: Generic family 'sans-serif' not found because none of the following families were found: Arial, Liberation Sans, Bitstream Vera Sans, sans-serif\n",
      "findfont: Generic family 'sans-serif' not found because none of the following families were found: Arial, Liberation Sans, Bitstream Vera Sans, sans-serif\n",
      "findfont: Generic family 'sans-serif' not found because none of the following families were found: Arial, Liberation Sans, Bitstream Vera Sans, sans-serif\n",
      "findfont: Generic family 'sans-serif' not found because none of the following families were found: Arial, Liberation Sans, Bitstream Vera Sans, sans-serif\n",
      "findfont: Generic family 'sans-serif' not found because none of the following families were found: Arial, Liberation Sans, Bitstream Vera Sans, sans-serif\n",
      "findfont: Generic family 'sans-serif' not found because none of the following families were found: Arial, Liberation Sans, Bitstream Vera Sans, sans-serif\n",
      "findfont: Generic family 'sans-serif' not found because none of the following families were found: Arial, Liberation Sans, Bitstream Vera Sans, sans-serif\n",
      "findfont: Generic family 'sans-serif' not found because none of the following families were found: Arial, Liberation Sans, Bitstream Vera Sans, sans-serif\n",
      "findfont: Generic family 'sans-serif' not found because none of the following families were found: Arial, Liberation Sans, Bitstream Vera Sans, sans-serif\n",
      "findfont: Generic family 'sans-serif' not found because none of the following families were found: Arial, Liberation Sans, Bitstream Vera Sans, sans-serif\n",
      "findfont: Generic family 'sans-serif' not found because none of the following families were found: Arial, Liberation Sans, Bitstream Vera Sans, sans-serif\n",
      "findfont: Generic family 'sans-serif' not found because none of the following families were found: Arial, Liberation Sans, Bitstream Vera Sans, sans-serif\n",
      "findfont: Generic family 'sans-serif' not found because none of the following families were found: Arial, Liberation Sans, Bitstream Vera Sans, sans-serif\n",
      "findfont: Generic family 'sans-serif' not found because none of the following families were found: Arial, Liberation Sans, Bitstream Vera Sans, sans-serif\n",
      "findfont: Generic family 'sans-serif' not found because none of the following families were found: Arial, Liberation Sans, Bitstream Vera Sans, sans-serif\n",
      "findfont: Generic family 'sans-serif' not found because none of the following families were found: Arial, Liberation Sans, Bitstream Vera Sans, sans-serif\n",
      "findfont: Generic family 'sans-serif' not found because none of the following families were found: Arial, Liberation Sans, Bitstream Vera Sans, sans-serif\n",
      "findfont: Generic family 'sans-serif' not found because none of the following families were found: Arial, Liberation Sans, Bitstream Vera Sans, sans-serif\n",
      "findfont: Generic family 'sans-serif' not found because none of the following families were found: Arial, Liberation Sans, Bitstream Vera Sans, sans-serif\n",
      "findfont: Generic family 'sans-serif' not found because none of the following families were found: Arial, Liberation Sans, Bitstream Vera Sans, sans-serif\n",
      "findfont: Generic family 'sans-serif' not found because none of the following families were found: Arial, Liberation Sans, Bitstream Vera Sans, sans-serif\n",
      "findfont: Generic family 'sans-serif' not found because none of the following families were found: Arial, Liberation Sans, Bitstream Vera Sans, sans-serif\n",
      "findfont: Generic family 'sans-serif' not found because none of the following families were found: Arial, Liberation Sans, Bitstream Vera Sans, sans-serif\n",
      "findfont: Generic family 'sans-serif' not found because none of the following families were found: Arial, Liberation Sans, Bitstream Vera Sans, sans-serif\n",
      "findfont: Generic family 'sans-serif' not found because none of the following families were found: Arial, Liberation Sans, Bitstream Vera Sans, sans-serif\n",
      "findfont: Generic family 'sans-serif' not found because none of the following families were found: Arial, Liberation Sans, Bitstream Vera Sans, sans-serif\n",
      "findfont: Generic family 'sans-serif' not found because none of the following families were found: Arial, Liberation Sans, Bitstream Vera Sans, sans-serif\n",
      "findfont: Generic family 'sans-serif' not found because none of the following families were found: Arial, Liberation Sans, Bitstream Vera Sans, sans-serif\n",
      "findfont: Generic family 'sans-serif' not found because none of the following families were found: Arial, Liberation Sans, Bitstream Vera Sans, sans-serif\n",
      "findfont: Generic family 'sans-serif' not found because none of the following families were found: Arial, Liberation Sans, Bitstream Vera Sans, sans-serif\n",
      "findfont: Generic family 'sans-serif' not found because none of the following families were found: Arial, Liberation Sans, Bitstream Vera Sans, sans-serif\n",
      "findfont: Generic family 'sans-serif' not found because none of the following families were found: Arial, Liberation Sans, Bitstream Vera Sans, sans-serif\n",
      "findfont: Generic family 'sans-serif' not found because none of the following families were found: Arial, Liberation Sans, Bitstream Vera Sans, sans-serif\n",
      "findfont: Generic family 'sans-serif' not found because none of the following families were found: Arial, Liberation Sans, Bitstream Vera Sans, sans-serif\n",
      "findfont: Generic family 'sans-serif' not found because none of the following families were found: Arial, Liberation Sans, Bitstream Vera Sans, sans-serif\n",
      "findfont: Generic family 'sans-serif' not found because none of the following families were found: Arial, Liberation Sans, Bitstream Vera Sans, sans-serif\n",
      "findfont: Generic family 'sans-serif' not found because none of the following families were found: Arial, Liberation Sans, Bitstream Vera Sans, sans-serif\n",
      "findfont: Generic family 'sans-serif' not found because none of the following families were found: Arial, Liberation Sans, Bitstream Vera Sans, sans-serif\n",
      "findfont: Generic family 'sans-serif' not found because none of the following families were found: Arial, Liberation Sans, Bitstream Vera Sans, sans-serif\n",
      "findfont: Generic family 'sans-serif' not found because none of the following families were found: Arial, Liberation Sans, Bitstream Vera Sans, sans-serif\n",
      "findfont: Generic family 'sans-serif' not found because none of the following families were found: Arial, Liberation Sans, Bitstream Vera Sans, sans-serif\n",
      "findfont: Generic family 'sans-serif' not found because none of the following families were found: Arial, Liberation Sans, Bitstream Vera Sans, sans-serif\n",
      "findfont: Generic family 'sans-serif' not found because none of the following families were found: Arial, Liberation Sans, Bitstream Vera Sans, sans-serif\n",
      "findfont: Generic family 'sans-serif' not found because none of the following families were found: Arial, Liberation Sans, Bitstream Vera Sans, sans-serif\n",
      "findfont: Generic family 'sans-serif' not found because none of the following families were found: Arial, Liberation Sans, Bitstream Vera Sans, sans-serif\n",
      "findfont: Generic family 'sans-serif' not found because none of the following families were found: Arial, Liberation Sans, Bitstream Vera Sans, sans-serif\n",
      "findfont: Generic family 'sans-serif' not found because none of the following families were found: Arial, Liberation Sans, Bitstream Vera Sans, sans-serif\n",
      "findfont: Generic family 'sans-serif' not found because none of the following families were found: Arial, Liberation Sans, Bitstream Vera Sans, sans-serif\n",
      "findfont: Generic family 'sans-serif' not found because none of the following families were found: Arial, Liberation Sans, Bitstream Vera Sans, sans-serif\n",
      "findfont: Generic family 'sans-serif' not found because none of the following families were found: Arial, Liberation Sans, Bitstream Vera Sans, sans-serif\n",
      "findfont: Generic family 'sans-serif' not found because none of the following families were found: Arial, Liberation Sans, Bitstream Vera Sans, sans-serif\n",
      "findfont: Generic family 'sans-serif' not found because none of the following families were found: Arial, Liberation Sans, Bitstream Vera Sans, sans-serif\n",
      "findfont: Generic family 'sans-serif' not found because none of the following families were found: Arial, Liberation Sans, Bitstream Vera Sans, sans-serif\n",
      "findfont: Generic family 'sans-serif' not found because none of the following families were found: Arial, Liberation Sans, Bitstream Vera Sans, sans-serif\n",
      "findfont: Generic family 'sans-serif' not found because none of the following families were found: Arial, Liberation Sans, Bitstream Vera Sans, sans-serif\n",
      "findfont: Generic family 'sans-serif' not found because none of the following families were found: Arial, Liberation Sans, Bitstream Vera Sans, sans-serif\n",
      "findfont: Generic family 'sans-serif' not found because none of the following families were found: Arial, Liberation Sans, Bitstream Vera Sans, sans-serif\n",
      "findfont: Generic family 'sans-serif' not found because none of the following families were found: Arial, Liberation Sans, Bitstream Vera Sans, sans-serif\n",
      "findfont: Generic family 'sans-serif' not found because none of the following families were found: Arial, Liberation Sans, Bitstream Vera Sans, sans-serif\n",
      "findfont: Generic family 'sans-serif' not found because none of the following families were found: Arial, Liberation Sans, Bitstream Vera Sans, sans-serif\n",
      "findfont: Generic family 'sans-serif' not found because none of the following families were found: Arial, Liberation Sans, Bitstream Vera Sans, sans-serif\n",
      "findfont: Generic family 'sans-serif' not found because none of the following families were found: Arial, Liberation Sans, Bitstream Vera Sans, sans-serif\n",
      "findfont: Generic family 'sans-serif' not found because none of the following families were found: Arial, Liberation Sans, Bitstream Vera Sans, sans-serif\n",
      "findfont: Generic family 'sans-serif' not found because none of the following families were found: Arial, Liberation Sans, Bitstream Vera Sans, sans-serif\n",
      "findfont: Generic family 'sans-serif' not found because none of the following families were found: Arial, Liberation Sans, Bitstream Vera Sans, sans-serif\n",
      "findfont: Generic family 'sans-serif' not found because none of the following families were found: Arial, Liberation Sans, Bitstream Vera Sans, sans-serif\n",
      "findfont: Generic family 'sans-serif' not found because none of the following families were found: Arial, Liberation Sans, Bitstream Vera Sans, sans-serif\n",
      "findfont: Generic family 'sans-serif' not found because none of the following families were found: Arial, Liberation Sans, Bitstream Vera Sans, sans-serif\n",
      "findfont: Generic family 'sans-serif' not found because none of the following families were found: Arial, Liberation Sans, Bitstream Vera Sans, sans-serif\n",
      "findfont: Generic family 'sans-serif' not found because none of the following families were found: Arial, Liberation Sans, Bitstream Vera Sans, sans-serif\n",
      "findfont: Generic family 'sans-serif' not found because none of the following families were found: Arial, Liberation Sans, Bitstream Vera Sans, sans-serif\n",
      "findfont: Generic family 'sans-serif' not found because none of the following families were found: Arial, Liberation Sans, Bitstream Vera Sans, sans-serif\n",
      "findfont: Generic family 'sans-serif' not found because none of the following families were found: Arial, Liberation Sans, Bitstream Vera Sans, sans-serif\n"
     ]
    },
    {
     "data": {
      "image/png": "[encoded data removed]",
      "text/plain": [
       "<Figure size 800x550 with 1 Axes>"
      ]
     },
     "metadata": {},
     "output_type": "display_data"
    }
   ],
   "source": [
    "plt.plot(np.arange(20), d[0], label='kernelPCA')\n",
    "plt.plot(np.arange(20), si, label='inner')\n",
    "plt.plot(np.arange(20), so, label='outer')\n",
    "\n",
    "plt.xlabel('Index')\n",
    "plt.ylabel('Value')\n",
    "plt.title('Comparison of Three Arrays')\n",
    "plt.legend()\n",
    "plt.ylim(10,-10)\n",
    "plt.grid()\n",
    "plt.tight_layout()\n",
    "plt.show()"
   ]
  },
  {
   "cell_type": "markdown",
   "id": "56e23bbb-d08b-410e-be11-53382672a923",
   "metadata": {},
   "source": [
    "# ML"
   ]
  },
  {
   "cell_type": "code",
   "execution_count": null,
   "id": "32dcb577-5b13-445b-adb5-c40bc604475a",
   "metadata": {},
   "outputs": [],
   "source": [
    "import pandas as pd\n",
    "import numpy as np\n",
    "from sklearn.model_selection import train_test_split\n",
    "from sklearn.linear_model import LinearRegression\n",
    "from sklearn.ensemble import RandomForestRegressor\n",
    "from sklearn.metrics import root_mean_squared_error, r2_score\n",
    "from sklearn.preprocessing import StandardScaler\n",
    "import matplotlib.pyplot as plt\n",
    "import xgboost as xgb\n",
    "from sklearn.neural_network import MLPRegressor\n"
   ]
  },
  {
   "cell_type": "code",
   "execution_count": null,
   "id": "5ae85108-ce69-47df-930b-c027ccc0e752",
   "metadata": {},
   "outputs": [],
   "source": [
    "# Read feature descriptors\n",
    "X = pd.read_csv('kernelPCA_soap_mofs.csv')\n",
    "\n",
    "# Read labels\n",
    "y = pd.read_csv('id_labels.csv')\n"
   ]
  },
  {
   "cell_type": "code",
   "execution_count": null,
   "id": "29b95cf5-45c1-436c-9e26-35c93839a7a9",
   "metadata": {},
   "outputs": [],
   "source": [
    "print(X.shape)\n",
    "print(y.shape)"
   ]
  },
  {
   "cell_type": "code",
   "execution_count": null,
   "id": "0f0eeddb-8b5e-4c10-9116-595ed47db284",
   "metadata": {},
   "outputs": [],
   "source": [
    "X['filename'] = X['filename'].str.replace('.cif', ' ', regex=False)"
   ]
  },
  {
   "cell_type": "code",
   "execution_count": null,
   "id": "79cb4f2b-f642-43ec-8551-38e14749016b",
   "metadata": {},
   "outputs": [],
   "source": [
    "X.head()"
   ]
  },
  {
   "cell_type": "code",
   "execution_count": null,
   "id": "79cbf04f-5d4a-47e7-abb5-d4ec315c9dc2",
   "metadata": {
    "scrolled": true
   },
   "outputs": [],
   "source": [
    "for i in range(len(X.columns)):\n",
    "    print(i, X.columns[i])"
   ]
  },
  {
   "cell_type": "code",
   "execution_count": null,
   "id": "295b7040-138c-4a6b-887f-1683f30e468d",
   "metadata": {},
   "outputs": [],
   "source": [
    "y.head()"
   ]
  },
  {
   "cell_type": "code",
   "execution_count": null,
   "id": "dd5dcbb1-484d-4189-96af-5bfdbed009c2",
   "metadata": {},
   "outputs": [],
   "source": [
    "X.set_index('filename', inplace = True)"
   ]
  },
  {
   "cell_type": "code",
   "execution_count": null,
   "id": "7521d959-2eec-4824-bb1e-6e0ec8f9cff0",
   "metadata": {},
   "outputs": [],
   "source": [
    "y.set_index('id', inplace = True)"
   ]
  },
  {
   "cell_type": "code",
   "execution_count": null,
   "id": "025ce13b-8fcc-42fe-9fd8-703f9e9ee1cb",
   "metadata": {},
   "outputs": [],
   "source": [
    "X.sort_index(inplace=True)"
   ]
  },
  {
   "cell_type": "code",
   "execution_count": null,
   "id": "7b608a49-d4ed-44a0-a345-85c39441f375",
   "metadata": {},
   "outputs": [],
   "source": [
    "y.sort_index(inplace=True)"
   ]
  },
  {
   "cell_type": "code",
   "execution_count": null,
   "id": "eeb202d9-8e6f-4c88-9e16-a57e062d0dac",
   "metadata": {},
   "outputs": [],
   "source": [
    "print(\"Are they exactly equal?\", (X.index == y.index).all())"
   ]
  },
  {
   "cell_type": "code",
   "execution_count": null,
   "id": "d94ea12a-feeb-4751-991c-d725b00194c1",
   "metadata": {},
   "outputs": [],
   "source": [
    "X"
   ]
  },
  {
   "cell_type": "code",
   "execution_count": null,
   "id": "b8f50f89-4727-4129-8247-b05b8d44b019",
   "metadata": {},
   "outputs": [],
   "source": [
    "y"
   ]
  },
  {
   "cell_type": "code",
   "execution_count": null,
   "id": "3e3db8c4-6e25-4355-a066-0457939d62c8",
   "metadata": {},
   "outputs": [],
   "source": [
    "X_train, X_test, y_train, y_test = train_test_split(\n",
    "    X, y, test_size=0.2, random_state=42\n",
    ")"
   ]
  },
  {
   "cell_type": "code",
   "execution_count": null,
   "id": "2b681d47-c53c-4e90-8667-97c1b9c200de",
   "metadata": {},
   "outputs": [],
   "source": [
    "X"
   ]
  },
  {
   "cell_type": "code",
   "execution_count": null,
   "id": "0f964974-d579-424e-8900-f85c83665793",
   "metadata": {},
   "outputs": [],
   "source": [
    "# Step 1: Scale X\n",
    "scaler = StandardScaler()\n",
    "X_scaled = pd.DataFrame(scaler.fit_transform(X), columns=X.columns, index=X.index)\n",
    "\n",
    "# Step 2: Train-test split\n",
    "X_train, X_test, y_train, y_test = train_test_split(\n",
    "    X_scaled, y, test_size=0.2, random_state=42\n",
    ")\n",
    "\n",
    "# Step 3: Train linear regression\n",
    "model = LinearRegression()\n",
    "model.fit(X_train, y_train)\n",
    "\n",
    "# Step 4: Predict\n",
    "y_pred = model.predict(X_test)\n",
    "\n",
    "# Step 5: Evaluate\n",
    "print(\"RMSE:\", root_mean_squared_error(y_test, y_pred))\n",
    "print(\"R² Score:\", r2_score(y_test, y_pred))"
   ]
  },
  {
   "cell_type": "code",
   "execution_count": null,
   "id": "146f609e-9e06-4abc-99d8-384b59207943",
   "metadata": {},
   "outputs": [],
   "source": [
    "X_train, X_test, y_train, y_test = train_test_split(\n",
    "    X, y, test_size=0.2, random_state=42\n",
    ")\n",
    "\n",
    "# Initialize Random Forest\n",
    "rf = RandomForestRegressor(n_estimators=300, random_state=42)\n",
    "\n",
    "# Train\n",
    "rf.fit(X_train, y_train)\n",
    "\n",
    "# Predict\n",
    "y_pred_rf = rf.predict(X_test)\n",
    "\n"
   ]
  },
  {
   "cell_type": "code",
   "execution_count": null,
   "id": "268ff289-f6ae-4b15-b61e-048c6e46baab",
   "metadata": {},
   "outputs": [],
   "source": [
    "# Evaluate\n",
    "print(\"Random Forest RMSE:\", root_mean_squared_error(y_test, y_pred_rf))\n",
    "print(\"Random Forest R²:\", r2_score(y_test, y_pred_rf))"
   ]
  },
  {
   "cell_type": "code",
   "execution_count": null,
   "id": "f297c975-e96f-4190-a9ba-fa4a41aa69d8",
   "metadata": {},
   "outputs": [],
   "source": [
    "# Make a scatter plot\n",
    "plt.figure(figsize=(8, 6))\n",
    "plt.scatter(y_test, y_pred_rf, alpha=0.7)\n",
    "\n",
    "# Plot a diagonal reference line (perfect prediction)\n",
    "plt.plot([y_test.min(), y_test.max()], [y_test.min(), y_test.max()], 'k--', lw=2)\n",
    "\n",
    "# Labels\n",
    "plt.xlabel('True Values')\n",
    "plt.ylabel('Predicted Values')\n",
    "plt.title('True vs Predicted Values (Random Forest)')\n",
    "plt.grid(True)\n",
    "plt.show()"
   ]
  },
  {
   "cell_type": "code",
   "execution_count": null,
   "id": "f19972e2-ea72-4a73-b7b3-cc3b33eae52a",
   "metadata": {
    "scrolled": true
   },
   "outputs": [],
   "source": [
    "# 1. Get feature importances\n",
    "importances = rf.feature_importances_\n",
    "\n",
    "# 2. Map them to feature names\n",
    "feature_names = X.columns\n",
    "feature_importances = pd.Series(importances, index=feature_names)\n",
    "\n",
    "# 3. Sort them descending\n",
    "feature_importances = feature_importances.sort_values(ascending=False)\n",
    "\n",
    "# 4. Plot the top N features\n",
    "top_n = 20  # you can change to top 10, 20, etc.\n",
    "\n",
    "plt.figure(figsize=(10, 6))\n",
    "feature_importances[:top_n].plot(kind='barh')\n",
    "plt.gca().invert_yaxis()  # Highest importance at top\n",
    "plt.xlabel('Feature Importance')\n",
    "plt.title(f'Top {top_n} Feature Importances (Random Forest)')\n",
    "plt.grid(True)\n",
    "plt.show()"
   ]
  },
  {
   "cell_type": "code",
   "execution_count": null,
   "id": "21757ac4-4ca3-429b-ab47-d4c98e8666e8",
   "metadata": {},
   "outputs": [],
   "source": []
  },
  {
   "cell_type": "code",
   "execution_count": null,
   "id": "8f211c32-cd6d-454c-8ec2-ce1221a30b5c",
   "metadata": {},
   "outputs": [],
   "source": [
    "from pycaret.regression import *"
   ]
  },
  {
   "cell_type": "code",
   "execution_count": null,
   "id": "2a5d08aa-3433-4764-a984-8cb950693210",
   "metadata": {},
   "outputs": [],
   "source": [
    "y"
   ]
  },
  {
   "cell_type": "code",
   "execution_count": null,
   "id": "8aa6124c-8397-4ab6-82b9-fb5992cbd457",
   "metadata": {},
   "outputs": [],
   "source": [
    "data = pd.concat([X, y], axis = 1)"
   ]
  },
  {
   "cell_type": "code",
   "execution_count": null,
   "id": "ad62fdf2-d39c-4554-adc9-f76a8447d9f2",
   "metadata": {},
   "outputs": [],
   "source": [
    "data"
   ]
  },
  {
   "cell_type": "code",
   "execution_count": null,
   "id": "9a2ea61a-47c2-465c-886d-39dab4dff87c",
   "metadata": {},
   "outputs": [],
   "source": [
    "exp1 = setup(data, target='label', session_id=123)"
   ]
  },
  {
   "cell_type": "code",
   "execution_count": null,
   "id": "cd83df2e-7edc-4f86-943b-10f6004e38cd",
   "metadata": {},
   "outputs": [],
   "source": [
    "best_model = compare_models()"
   ]
  },
  {
   "cell_type": "code",
   "execution_count": 28,
   "id": "6a78442d-3986-42d4-879c-efac63cfd67a",
   "metadata": {},
   "outputs": [
    {
     "data": {
      "text/html": [],
      "text/plain": [
       "<IPython.core.display.HTML object>"
      ]
     },
     "metadata": {},
     "output_type": "display_data"
    },
    {
     "data": {
      "text/html": [
       "<style type=\"text/css\">\n",
       "#T_f1d41_row10_col0, #T_f1d41_row10_col1, #T_f1d41_row10_col2, #T_f1d41_row10_col3, #T_f1d41_row10_col4, #T_f1d41_row10_col5 {\n",
       "  background: yellow;\n",
       "}\n",
       "</style>\n",
       "<table id=\"T_f1d41\">\n",
       "  <thead>\n",
       "    <tr>\n",
       "      <th class=\"blank level0\" >&nbsp;</th>\n",
       "      <th id=\"T_f1d41_level0_col0\" class=\"col_heading level0 col0\" >MAE</th>\n",
       "      <th id=\"T_f1d41_level0_col1\" class=\"col_heading level0 col1\" >MSE</th>\n",
       "      <th id=\"T_f1d41_level0_col2\" class=\"col_heading level0 col2\" >RMSE</th>\n",
       "      <th id=\"T_f1d41_level0_col3\" class=\"col_heading level0 col3\" >R2</th>\n",
       "      <th id=\"T_f1d41_level0_col4\" class=\"col_heading level0 col4\" >RMSLE</th>\n",
       "      <th id=\"T_f1d41_level0_col5\" class=\"col_heading level0 col5\" >MAPE</th>\n",
       "    </tr>\n",
       "    <tr>\n",
       "      <th class=\"index_name level0\" >Fold</th>\n",
       "      <th class=\"blank col0\" >&nbsp;</th>\n",
       "      <th class=\"blank col1\" >&nbsp;</th>\n",
       "      <th class=\"blank col2\" >&nbsp;</th>\n",
       "      <th class=\"blank col3\" >&nbsp;</th>\n",
       "      <th class=\"blank col4\" >&nbsp;</th>\n",
       "      <th class=\"blank col5\" >&nbsp;</th>\n",
       "    </tr>\n",
       "  </thead>\n",
       "  <tbody>\n",
       "    <tr>\n",
       "      <th id=\"T_f1d41_level0_row0\" class=\"row_heading level0 row0\" >0</th>\n",
       "      <td id=\"T_f1d41_row0_col0\" class=\"data row0 col0\" >4.1215</td>\n",
       "      <td id=\"T_f1d41_row0_col1\" class=\"data row0 col1\" >24.4707</td>\n",
       "      <td id=\"T_f1d41_row0_col2\" class=\"data row0 col2\" >4.9468</td>\n",
       "      <td id=\"T_f1d41_row0_col3\" class=\"data row0 col3\" >0.6446</td>\n",
       "      <td id=\"T_f1d41_row0_col4\" class=\"data row0 col4\" >0.5344</td>\n",
       "      <td id=\"T_f1d41_row0_col5\" class=\"data row0 col5\" >1.5606</td>\n",
       "    </tr>\n",
       "    <tr>\n",
       "      <th id=\"T_f1d41_level0_row1\" class=\"row_heading level0 row1\" >1</th>\n",
       "      <td id=\"T_f1d41_row1_col0\" class=\"data row1 col0\" >3.9469</td>\n",
       "      <td id=\"T_f1d41_row1_col1\" class=\"data row1 col1\" >23.9435</td>\n",
       "      <td id=\"T_f1d41_row1_col2\" class=\"data row1 col2\" >4.8932</td>\n",
       "      <td id=\"T_f1d41_row1_col3\" class=\"data row1 col3\" >0.6158</td>\n",
       "      <td id=\"T_f1d41_row1_col4\" class=\"data row1 col4\" >0.4947</td>\n",
       "      <td id=\"T_f1d41_row1_col5\" class=\"data row1 col5\" >0.6344</td>\n",
       "    </tr>\n",
       "    <tr>\n",
       "      <th id=\"T_f1d41_level0_row2\" class=\"row_heading level0 row2\" >2</th>\n",
       "      <td id=\"T_f1d41_row2_col0\" class=\"data row2 col0\" >3.9610</td>\n",
       "      <td id=\"T_f1d41_row2_col1\" class=\"data row2 col1\" >24.3766</td>\n",
       "      <td id=\"T_f1d41_row2_col2\" class=\"data row2 col2\" >4.9373</td>\n",
       "      <td id=\"T_f1d41_row2_col3\" class=\"data row2 col3\" >0.6406</td>\n",
       "      <td id=\"T_f1d41_row2_col4\" class=\"data row2 col4\" >0.5343</td>\n",
       "      <td id=\"T_f1d41_row2_col5\" class=\"data row2 col5\" >0.7496</td>\n",
       "    </tr>\n",
       "    <tr>\n",
       "      <th id=\"T_f1d41_level0_row3\" class=\"row_heading level0 row3\" >3</th>\n",
       "      <td id=\"T_f1d41_row3_col0\" class=\"data row3 col0\" >4.2786</td>\n",
       "      <td id=\"T_f1d41_row3_col1\" class=\"data row3 col1\" >25.9836</td>\n",
       "      <td id=\"T_f1d41_row3_col2\" class=\"data row3 col2\" >5.0974</td>\n",
       "      <td id=\"T_f1d41_row3_col3\" class=\"data row3 col3\" >0.5473</td>\n",
       "      <td id=\"T_f1d41_row3_col4\" class=\"data row3 col4\" >0.5683</td>\n",
       "      <td id=\"T_f1d41_row3_col5\" class=\"data row3 col5\" >0.8722</td>\n",
       "    </tr>\n",
       "    <tr>\n",
       "      <th id=\"T_f1d41_level0_row4\" class=\"row_heading level0 row4\" >4</th>\n",
       "      <td id=\"T_f1d41_row4_col0\" class=\"data row4 col0\" >3.8479</td>\n",
       "      <td id=\"T_f1d41_row4_col1\" class=\"data row4 col1\" >21.7792</td>\n",
       "      <td id=\"T_f1d41_row4_col2\" class=\"data row4 col2\" >4.6668</td>\n",
       "      <td id=\"T_f1d41_row4_col3\" class=\"data row4 col3\" >0.5718</td>\n",
       "      <td id=\"T_f1d41_row4_col4\" class=\"data row4 col4\" >0.5440</td>\n",
       "      <td id=\"T_f1d41_row4_col5\" class=\"data row4 col5\" >0.7925</td>\n",
       "    </tr>\n",
       "    <tr>\n",
       "      <th id=\"T_f1d41_level0_row5\" class=\"row_heading level0 row5\" >5</th>\n",
       "      <td id=\"T_f1d41_row5_col0\" class=\"data row5 col0\" >4.0509</td>\n",
       "      <td id=\"T_f1d41_row5_col1\" class=\"data row5 col1\" >24.0678</td>\n",
       "      <td id=\"T_f1d41_row5_col2\" class=\"data row5 col2\" >4.9059</td>\n",
       "      <td id=\"T_f1d41_row5_col3\" class=\"data row5 col3\" >0.5672</td>\n",
       "      <td id=\"T_f1d41_row5_col4\" class=\"data row5 col4\" >0.5303</td>\n",
       "      <td id=\"T_f1d41_row5_col5\" class=\"data row5 col5\" >0.7228</td>\n",
       "    </tr>\n",
       "    <tr>\n",
       "      <th id=\"T_f1d41_level0_row6\" class=\"row_heading level0 row6\" >6</th>\n",
       "      <td id=\"T_f1d41_row6_col0\" class=\"data row6 col0\" >4.1232</td>\n",
       "      <td id=\"T_f1d41_row6_col1\" class=\"data row6 col1\" >23.8568</td>\n",
       "      <td id=\"T_f1d41_row6_col2\" class=\"data row6 col2\" >4.8843</td>\n",
       "      <td id=\"T_f1d41_row6_col3\" class=\"data row6 col3\" >0.5882</td>\n",
       "      <td id=\"T_f1d41_row6_col4\" class=\"data row6 col4\" >0.5010</td>\n",
       "      <td id=\"T_f1d41_row6_col5\" class=\"data row6 col5\" >0.6561</td>\n",
       "    </tr>\n",
       "    <tr>\n",
       "      <th id=\"T_f1d41_level0_row7\" class=\"row_heading level0 row7\" >7</th>\n",
       "      <td id=\"T_f1d41_row7_col0\" class=\"data row7 col0\" >4.3785</td>\n",
       "      <td id=\"T_f1d41_row7_col1\" class=\"data row7 col1\" >26.3500</td>\n",
       "      <td id=\"T_f1d41_row7_col2\" class=\"data row7 col2\" >5.1332</td>\n",
       "      <td id=\"T_f1d41_row7_col3\" class=\"data row7 col3\" >0.5878</td>\n",
       "      <td id=\"T_f1d41_row7_col4\" class=\"data row7 col4\" >0.5487</td>\n",
       "      <td id=\"T_f1d41_row7_col5\" class=\"data row7 col5\" >0.7773</td>\n",
       "    </tr>\n",
       "    <tr>\n",
       "      <th id=\"T_f1d41_level0_row8\" class=\"row_heading level0 row8\" >8</th>\n",
       "      <td id=\"T_f1d41_row8_col0\" class=\"data row8 col0\" >4.2377</td>\n",
       "      <td id=\"T_f1d41_row8_col1\" class=\"data row8 col1\" >25.0606</td>\n",
       "      <td id=\"T_f1d41_row8_col2\" class=\"data row8 col2\" >5.0061</td>\n",
       "      <td id=\"T_f1d41_row8_col3\" class=\"data row8 col3\" >0.6175</td>\n",
       "      <td id=\"T_f1d41_row8_col4\" class=\"data row8 col4\" >0.5443</td>\n",
       "      <td id=\"T_f1d41_row8_col5\" class=\"data row8 col5\" >0.7811</td>\n",
       "    </tr>\n",
       "    <tr>\n",
       "      <th id=\"T_f1d41_level0_row9\" class=\"row_heading level0 row9\" >9</th>\n",
       "      <td id=\"T_f1d41_row9_col0\" class=\"data row9 col0\" >4.1445</td>\n",
       "      <td id=\"T_f1d41_row9_col1\" class=\"data row9 col1\" >25.5535</td>\n",
       "      <td id=\"T_f1d41_row9_col2\" class=\"data row9 col2\" >5.0550</td>\n",
       "      <td id=\"T_f1d41_row9_col3\" class=\"data row9 col3\" >0.5982</td>\n",
       "      <td id=\"T_f1d41_row9_col4\" class=\"data row9 col4\" >0.5487</td>\n",
       "      <td id=\"T_f1d41_row9_col5\" class=\"data row9 col5\" >8.1287</td>\n",
       "    </tr>\n",
       "    <tr>\n",
       "      <th id=\"T_f1d41_level0_row10\" class=\"row_heading level0 row10\" >Mean</th>\n",
       "      <td id=\"T_f1d41_row10_col0\" class=\"data row10 col0\" >4.1091</td>\n",
       "      <td id=\"T_f1d41_row10_col1\" class=\"data row10 col1\" >24.5442</td>\n",
       "      <td id=\"T_f1d41_row10_col2\" class=\"data row10 col2\" >4.9526</td>\n",
       "      <td id=\"T_f1d41_row10_col3\" class=\"data row10 col3\" >0.5979</td>\n",
       "      <td id=\"T_f1d41_row10_col4\" class=\"data row10 col4\" >0.5349</td>\n",
       "      <td id=\"T_f1d41_row10_col5\" class=\"data row10 col5\" >1.5675</td>\n",
       "    </tr>\n",
       "    <tr>\n",
       "      <th id=\"T_f1d41_level0_row11\" class=\"row_heading level0 row11\" >Std</th>\n",
       "      <td id=\"T_f1d41_row11_col0\" class=\"data row11 col0\" >0.1547</td>\n",
       "      <td id=\"T_f1d41_row11_col1\" class=\"data row11 col1\" >1.2392</td>\n",
       "      <td id=\"T_f1d41_row11_col2\" class=\"data row11 col2\" >0.1262</td>\n",
       "      <td id=\"T_f1d41_row11_col3\" class=\"data row11 col3\" >0.0301</td>\n",
       "      <td id=\"T_f1d41_row11_col4\" class=\"data row11 col4\" >0.0211</td>\n",
       "      <td id=\"T_f1d41_row11_col5\" class=\"data row11 col5\" >2.2014</td>\n",
       "    </tr>\n",
       "  </tbody>\n",
       "</table>\n"
      ],
      "text/plain": [
       "<pandas.io.formats.style.Styler at 0x1554a9051d90>"
      ]
     },
     "metadata": {},
     "output_type": "display_data"
    },
    {
     "data": {
      "text/html": [],
      "text/plain": [
       "<IPython.core.display.HTML object>"
      ]
     },
     "metadata": {},
     "output_type": "display_data"
    },
    {
     "name": "stdout",
     "output_type": "stream",
     "text": [
      "Fitting 10 folds for each of 10 candidates, totalling 100 fits\n",
      "Original model was better than the tuned model, hence it will be returned. NOTE: The display metrics are for the tuned model (not the original one).\n"
     ]
    }
   ],
   "source": [
    "tuned_model_et = tune_model(best_model)"
   ]
  },
  {
   "cell_type": "code",
   "execution_count": 29,
   "id": "c361fee2-710b-4273-b582-60661944cf1f",
   "metadata": {},
   "outputs": [
    {
     "data": {
      "text/html": [],
      "text/plain": [
       "<IPython.core.display.HTML object>"
      ]
     },
     "metadata": {},
     "output_type": "display_data"
    },
    {
     "data": {
      "text/html": [
       "<style type=\"text/css\">\n",
       "#T_f0091_row10_col0, #T_f0091_row10_col1, #T_f0091_row10_col2, #T_f0091_row10_col3, #T_f0091_row10_col4, #T_f0091_row10_col5 {\n",
       "  background: yellow;\n",
       "}\n",
       "</style>\n",
       "<table id=\"T_f0091\">\n",
       "  <thead>\n",
       "    <tr>\n",
       "      <th class=\"blank level0\" >&nbsp;</th>\n",
       "      <th id=\"T_f0091_level0_col0\" class=\"col_heading level0 col0\" >MAE</th>\n",
       "      <th id=\"T_f0091_level0_col1\" class=\"col_heading level0 col1\" >MSE</th>\n",
       "      <th id=\"T_f0091_level0_col2\" class=\"col_heading level0 col2\" >RMSE</th>\n",
       "      <th id=\"T_f0091_level0_col3\" class=\"col_heading level0 col3\" >R2</th>\n",
       "      <th id=\"T_f0091_level0_col4\" class=\"col_heading level0 col4\" >RMSLE</th>\n",
       "      <th id=\"T_f0091_level0_col5\" class=\"col_heading level0 col5\" >MAPE</th>\n",
       "    </tr>\n",
       "    <tr>\n",
       "      <th class=\"index_name level0\" >Fold</th>\n",
       "      <th class=\"blank col0\" >&nbsp;</th>\n",
       "      <th class=\"blank col1\" >&nbsp;</th>\n",
       "      <th class=\"blank col2\" >&nbsp;</th>\n",
       "      <th class=\"blank col3\" >&nbsp;</th>\n",
       "      <th class=\"blank col4\" >&nbsp;</th>\n",
       "      <th class=\"blank col5\" >&nbsp;</th>\n",
       "    </tr>\n",
       "  </thead>\n",
       "  <tbody>\n",
       "    <tr>\n",
       "      <th id=\"T_f0091_level0_row0\" class=\"row_heading level0 row0\" >0</th>\n",
       "      <td id=\"T_f0091_row0_col0\" class=\"data row0 col0\" >3.0119</td>\n",
       "      <td id=\"T_f0091_row0_col1\" class=\"data row0 col1\" >15.5164</td>\n",
       "      <td id=\"T_f0091_row0_col2\" class=\"data row0 col2\" >3.9391</td>\n",
       "      <td id=\"T_f0091_row0_col3\" class=\"data row0 col3\" >0.7747</td>\n",
       "      <td id=\"T_f0091_row0_col4\" class=\"data row0 col4\" >0.4286</td>\n",
       "      <td id=\"T_f0091_row0_col5\" class=\"data row0 col5\" >1.0348</td>\n",
       "    </tr>\n",
       "    <tr>\n",
       "      <th id=\"T_f0091_level0_row1\" class=\"row_heading level0 row1\" >1</th>\n",
       "      <td id=\"T_f0091_row1_col0\" class=\"data row1 col0\" >3.0080</td>\n",
       "      <td id=\"T_f0091_row1_col1\" class=\"data row1 col1\" >16.5659</td>\n",
       "      <td id=\"T_f0091_row1_col2\" class=\"data row1 col2\" >4.0701</td>\n",
       "      <td id=\"T_f0091_row1_col3\" class=\"data row1 col3\" >0.7342</td>\n",
       "      <td id=\"T_f0091_row1_col4\" class=\"data row1 col4\" >0.3885</td>\n",
       "      <td id=\"T_f0091_row1_col5\" class=\"data row1 col5\" >0.4045</td>\n",
       "    </tr>\n",
       "    <tr>\n",
       "      <th id=\"T_f0091_level0_row2\" class=\"row_heading level0 row2\" >2</th>\n",
       "      <td id=\"T_f0091_row2_col0\" class=\"data row2 col0\" >2.9682</td>\n",
       "      <td id=\"T_f0091_row2_col1\" class=\"data row2 col1\" >14.6227</td>\n",
       "      <td id=\"T_f0091_row2_col2\" class=\"data row2 col2\" >3.8240</td>\n",
       "      <td id=\"T_f0091_row2_col3\" class=\"data row2 col3\" >0.7844</td>\n",
       "      <td id=\"T_f0091_row2_col4\" class=\"data row2 col4\" >0.4212</td>\n",
       "      <td id=\"T_f0091_row2_col5\" class=\"data row2 col5\" >0.5063</td>\n",
       "    </tr>\n",
       "    <tr>\n",
       "      <th id=\"T_f0091_level0_row3\" class=\"row_heading level0 row3\" >3</th>\n",
       "      <td id=\"T_f0091_row3_col0\" class=\"data row3 col0\" >3.1304</td>\n",
       "      <td id=\"T_f0091_row3_col1\" class=\"data row3 col1\" >15.5835</td>\n",
       "      <td id=\"T_f0091_row3_col2\" class=\"data row3 col2\" >3.9476</td>\n",
       "      <td id=\"T_f0091_row3_col3\" class=\"data row3 col3\" >0.7285</td>\n",
       "      <td id=\"T_f0091_row3_col4\" class=\"data row3 col4\" >0.4472</td>\n",
       "      <td id=\"T_f0091_row3_col5\" class=\"data row3 col5\" >0.5904</td>\n",
       "    </tr>\n",
       "    <tr>\n",
       "      <th id=\"T_f0091_level0_row4\" class=\"row_heading level0 row4\" >4</th>\n",
       "      <td id=\"T_f0091_row4_col0\" class=\"data row4 col0\" >2.9086</td>\n",
       "      <td id=\"T_f0091_row4_col1\" class=\"data row4 col1\" >14.8737</td>\n",
       "      <td id=\"T_f0091_row4_col2\" class=\"data row4 col2\" >3.8566</td>\n",
       "      <td id=\"T_f0091_row4_col3\" class=\"data row4 col3\" >0.7076</td>\n",
       "      <td id=\"T_f0091_row4_col4\" class=\"data row4 col4\" >0.4509</td>\n",
       "      <td id=\"T_f0091_row4_col5\" class=\"data row4 col5\" >0.5612</td>\n",
       "    </tr>\n",
       "    <tr>\n",
       "      <th id=\"T_f0091_level0_row5\" class=\"row_heading level0 row5\" >5</th>\n",
       "      <td id=\"T_f0091_row5_col0\" class=\"data row5 col0\" >2.9136</td>\n",
       "      <td id=\"T_f0091_row5_col1\" class=\"data row5 col1\" >13.4640</td>\n",
       "      <td id=\"T_f0091_row5_col2\" class=\"data row5 col2\" >3.6693</td>\n",
       "      <td id=\"T_f0091_row5_col3\" class=\"data row5 col3\" >0.7579</td>\n",
       "      <td id=\"T_f0091_row5_col4\" class=\"data row5 col4\" >0.4195</td>\n",
       "      <td id=\"T_f0091_row5_col5\" class=\"data row5 col5\" >0.4990</td>\n",
       "    </tr>\n",
       "    <tr>\n",
       "      <th id=\"T_f0091_level0_row6\" class=\"row_heading level0 row6\" >6</th>\n",
       "      <td id=\"T_f0091_row6_col0\" class=\"data row6 col0\" >3.6216</td>\n",
       "      <td id=\"T_f0091_row6_col1\" class=\"data row6 col1\" >21.0609</td>\n",
       "      <td id=\"T_f0091_row6_col2\" class=\"data row6 col2\" >4.5892</td>\n",
       "      <td id=\"T_f0091_row6_col3\" class=\"data row6 col3\" >0.6364</td>\n",
       "      <td id=\"T_f0091_row6_col4\" class=\"data row6 col4\" >0.4475</td>\n",
       "      <td id=\"T_f0091_row6_col5\" class=\"data row6 col5\" >0.5050</td>\n",
       "    </tr>\n",
       "    <tr>\n",
       "      <th id=\"T_f0091_level0_row7\" class=\"row_heading level0 row7\" >7</th>\n",
       "      <td id=\"T_f0091_row7_col0\" class=\"data row7 col0\" >3.2831</td>\n",
       "      <td id=\"T_f0091_row7_col1\" class=\"data row7 col1\" >17.6454</td>\n",
       "      <td id=\"T_f0091_row7_col2\" class=\"data row7 col2\" >4.2006</td>\n",
       "      <td id=\"T_f0091_row7_col3\" class=\"data row7 col3\" >0.7239</td>\n",
       "      <td id=\"T_f0091_row7_col4\" class=\"data row7 col4\" >0.4469</td>\n",
       "      <td id=\"T_f0091_row7_col5\" class=\"data row7 col5\" >0.5396</td>\n",
       "    </tr>\n",
       "    <tr>\n",
       "      <th id=\"T_f0091_level0_row8\" class=\"row_heading level0 row8\" >8</th>\n",
       "      <td id=\"T_f0091_row8_col0\" class=\"data row8 col0\" >2.9458</td>\n",
       "      <td id=\"T_f0091_row8_col1\" class=\"data row8 col1\" >15.0509</td>\n",
       "      <td id=\"T_f0091_row8_col2\" class=\"data row8 col2\" >3.8796</td>\n",
       "      <td id=\"T_f0091_row8_col3\" class=\"data row8 col3\" >0.7703</td>\n",
       "      <td id=\"T_f0091_row8_col4\" class=\"data row8 col4\" >0.4076</td>\n",
       "      <td id=\"T_f0091_row8_col5\" class=\"data row8 col5\" >0.4696</td>\n",
       "    </tr>\n",
       "    <tr>\n",
       "      <th id=\"T_f0091_level0_row9\" class=\"row_heading level0 row9\" >9</th>\n",
       "      <td id=\"T_f0091_row9_col0\" class=\"data row9 col0\" >3.1477</td>\n",
       "      <td id=\"T_f0091_row9_col1\" class=\"data row9 col1\" >16.7174</td>\n",
       "      <td id=\"T_f0091_row9_col2\" class=\"data row9 col2\" >4.0887</td>\n",
       "      <td id=\"T_f0091_row9_col3\" class=\"data row9 col3\" >0.7371</td>\n",
       "      <td id=\"T_f0091_row9_col4\" class=\"data row9 col4\" >0.4590</td>\n",
       "      <td id=\"T_f0091_row9_col5\" class=\"data row9 col5\" >8.3357</td>\n",
       "    </tr>\n",
       "    <tr>\n",
       "      <th id=\"T_f0091_level0_row10\" class=\"row_heading level0 row10\" >Mean</th>\n",
       "      <td id=\"T_f0091_row10_col0\" class=\"data row10 col0\" >3.0939</td>\n",
       "      <td id=\"T_f0091_row10_col1\" class=\"data row10 col1\" >16.1101</td>\n",
       "      <td id=\"T_f0091_row10_col2\" class=\"data row10 col2\" >4.0065</td>\n",
       "      <td id=\"T_f0091_row10_col3\" class=\"data row10 col3\" >0.7355</td>\n",
       "      <td id=\"T_f0091_row10_col4\" class=\"data row10 col4\" >0.4317</td>\n",
       "      <td id=\"T_f0091_row10_col5\" class=\"data row10 col5\" >1.3446</td>\n",
       "    </tr>\n",
       "    <tr>\n",
       "      <th id=\"T_f0091_level0_row11\" class=\"row_heading level0 row11\" >Std</th>\n",
       "      <td id=\"T_f0091_row11_col0\" class=\"data row11 col0\" >0.2091</td>\n",
       "      <td id=\"T_f0091_row11_col1\" class=\"data row11 col1\" >1.9985</td>\n",
       "      <td id=\"T_f0091_row11_col2\" class=\"data row11 col2\" >0.2412</td>\n",
       "      <td id=\"T_f0091_row11_col3\" class=\"data row11 col3\" >0.0405</td>\n",
       "      <td id=\"T_f0091_row11_col4\" class=\"data row11 col4\" >0.0213</td>\n",
       "      <td id=\"T_f0091_row11_col5\" class=\"data row11 col5\" >2.3361</td>\n",
       "    </tr>\n",
       "  </tbody>\n",
       "</table>\n"
      ],
      "text/plain": [
       "<pandas.io.formats.style.Styler at 0x15549c4b1b50>"
      ]
     },
     "metadata": {},
     "output_type": "display_data"
    },
    {
     "data": {
      "text/html": [],
      "text/plain": [
       "<IPython.core.display.HTML object>"
      ]
     },
     "metadata": {},
     "output_type": "display_data"
    },
    {
     "data": {
      "text/html": [],
      "text/plain": [
       "<IPython.core.display.HTML object>"
      ]
     },
     "metadata": {},
     "output_type": "display_data"
    },
    {
     "data": {
      "text/html": [
       "<style type=\"text/css\">\n",
       "#T_ac4c9_row10_col0, #T_ac4c9_row10_col1, #T_ac4c9_row10_col2, #T_ac4c9_row10_col3, #T_ac4c9_row10_col4, #T_ac4c9_row10_col5 {\n",
       "  background: yellow;\n",
       "}\n",
       "</style>\n",
       "<table id=\"T_ac4c9\">\n",
       "  <thead>\n",
       "    <tr>\n",
       "      <th class=\"blank level0\" >&nbsp;</th>\n",
       "      <th id=\"T_ac4c9_level0_col0\" class=\"col_heading level0 col0\" >MAE</th>\n",
       "      <th id=\"T_ac4c9_level0_col1\" class=\"col_heading level0 col1\" >MSE</th>\n",
       "      <th id=\"T_ac4c9_level0_col2\" class=\"col_heading level0 col2\" >RMSE</th>\n",
       "      <th id=\"T_ac4c9_level0_col3\" class=\"col_heading level0 col3\" >R2</th>\n",
       "      <th id=\"T_ac4c9_level0_col4\" class=\"col_heading level0 col4\" >RMSLE</th>\n",
       "      <th id=\"T_ac4c9_level0_col5\" class=\"col_heading level0 col5\" >MAPE</th>\n",
       "    </tr>\n",
       "    <tr>\n",
       "      <th class=\"index_name level0\" >Fold</th>\n",
       "      <th class=\"blank col0\" >&nbsp;</th>\n",
       "      <th class=\"blank col1\" >&nbsp;</th>\n",
       "      <th class=\"blank col2\" >&nbsp;</th>\n",
       "      <th class=\"blank col3\" >&nbsp;</th>\n",
       "      <th class=\"blank col4\" >&nbsp;</th>\n",
       "      <th class=\"blank col5\" >&nbsp;</th>\n",
       "    </tr>\n",
       "  </thead>\n",
       "  <tbody>\n",
       "    <tr>\n",
       "      <th id=\"T_ac4c9_level0_row0\" class=\"row_heading level0 row0\" >0</th>\n",
       "      <td id=\"T_ac4c9_row0_col0\" class=\"data row0 col0\" >3.3540</td>\n",
       "      <td id=\"T_ac4c9_row0_col1\" class=\"data row0 col1\" >17.2212</td>\n",
       "      <td id=\"T_ac4c9_row0_col2\" class=\"data row0 col2\" >4.1498</td>\n",
       "      <td id=\"T_ac4c9_row0_col3\" class=\"data row0 col3\" >0.7499</td>\n",
       "      <td id=\"T_ac4c9_row0_col4\" class=\"data row0 col4\" >0.4604</td>\n",
       "      <td id=\"T_ac4c9_row0_col5\" class=\"data row0 col5\" >1.2186</td>\n",
       "    </tr>\n",
       "    <tr>\n",
       "      <th id=\"T_ac4c9_level0_row1\" class=\"row_heading level0 row1\" >1</th>\n",
       "      <td id=\"T_ac4c9_row1_col0\" class=\"data row1 col0\" >3.3102</td>\n",
       "      <td id=\"T_ac4c9_row1_col1\" class=\"data row1 col1\" >18.4923</td>\n",
       "      <td id=\"T_ac4c9_row1_col2\" class=\"data row1 col2\" >4.3003</td>\n",
       "      <td id=\"T_ac4c9_row1_col3\" class=\"data row1 col3\" >0.7033</td>\n",
       "      <td id=\"T_ac4c9_row1_col4\" class=\"data row1 col4\" >0.4250</td>\n",
       "      <td id=\"T_ac4c9_row1_col5\" class=\"data row1 col5\" >0.4859</td>\n",
       "    </tr>\n",
       "    <tr>\n",
       "      <th id=\"T_ac4c9_level0_row2\" class=\"row_heading level0 row2\" >2</th>\n",
       "      <td id=\"T_ac4c9_row2_col0\" class=\"data row2 col0\" >3.2572</td>\n",
       "      <td id=\"T_ac4c9_row2_col1\" class=\"data row2 col1\" >16.5891</td>\n",
       "      <td id=\"T_ac4c9_row2_col2\" class=\"data row2 col2\" >4.0730</td>\n",
       "      <td id=\"T_ac4c9_row2_col3\" class=\"data row2 col3\" >0.7554</td>\n",
       "      <td id=\"T_ac4c9_row2_col4\" class=\"data row2 col4\" >0.4529</td>\n",
       "      <td id=\"T_ac4c9_row2_col5\" class=\"data row2 col5\" >0.5828</td>\n",
       "    </tr>\n",
       "    <tr>\n",
       "      <th id=\"T_ac4c9_level0_row3\" class=\"row_heading level0 row3\" >3</th>\n",
       "      <td id=\"T_ac4c9_row3_col0\" class=\"data row3 col0\" >3.5233</td>\n",
       "      <td id=\"T_ac4c9_row3_col1\" class=\"data row3 col1\" >17.8997</td>\n",
       "      <td id=\"T_ac4c9_row3_col2\" class=\"data row3 col2\" >4.2308</td>\n",
       "      <td id=\"T_ac4c9_row3_col3\" class=\"data row3 col3\" >0.6882</td>\n",
       "      <td id=\"T_ac4c9_row3_col4\" class=\"data row3 col4\" >0.4787</td>\n",
       "      <td id=\"T_ac4c9_row3_col5\" class=\"data row3 col5\" >0.6716</td>\n",
       "    </tr>\n",
       "    <tr>\n",
       "      <th id=\"T_ac4c9_level0_row4\" class=\"row_heading level0 row4\" >4</th>\n",
       "      <td id=\"T_ac4c9_row4_col0\" class=\"data row4 col0\" >3.2638</td>\n",
       "      <td id=\"T_ac4c9_row4_col1\" class=\"data row4 col1\" >16.4872</td>\n",
       "      <td id=\"T_ac4c9_row4_col2\" class=\"data row4 col2\" >4.0604</td>\n",
       "      <td id=\"T_ac4c9_row4_col3\" class=\"data row4 col3\" >0.6759</td>\n",
       "      <td id=\"T_ac4c9_row4_col4\" class=\"data row4 col4\" >0.4784</td>\n",
       "      <td id=\"T_ac4c9_row4_col5\" class=\"data row4 col5\" >0.6341</td>\n",
       "    </tr>\n",
       "    <tr>\n",
       "      <th id=\"T_ac4c9_level0_row5\" class=\"row_heading level0 row5\" >5</th>\n",
       "      <td id=\"T_ac4c9_row5_col0\" class=\"data row5 col0\" >3.2812</td>\n",
       "      <td id=\"T_ac4c9_row5_col1\" class=\"data row5 col1\" >16.2586</td>\n",
       "      <td id=\"T_ac4c9_row5_col2\" class=\"data row5 col2\" >4.0322</td>\n",
       "      <td id=\"T_ac4c9_row5_col3\" class=\"data row5 col3\" >0.7077</td>\n",
       "      <td id=\"T_ac4c9_row5_col4\" class=\"data row5 col4\" >0.4511</td>\n",
       "      <td id=\"T_ac4c9_row5_col5\" class=\"data row5 col5\" >0.5591</td>\n",
       "    </tr>\n",
       "    <tr>\n",
       "      <th id=\"T_ac4c9_level0_row6\" class=\"row_heading level0 row6\" >6</th>\n",
       "      <td id=\"T_ac4c9_row6_col0\" class=\"data row6 col0\" >3.8954</td>\n",
       "      <td id=\"T_ac4c9_row6_col1\" class=\"data row6 col1\" >22.3219</td>\n",
       "      <td id=\"T_ac4c9_row6_col2\" class=\"data row6 col2\" >4.7246</td>\n",
       "      <td id=\"T_ac4c9_row6_col3\" class=\"data row6 col3\" >0.6147</td>\n",
       "      <td id=\"T_ac4c9_row6_col4\" class=\"data row6 col4\" >0.4658</td>\n",
       "      <td id=\"T_ac4c9_row6_col5\" class=\"data row6 col5\" >0.5659</td>\n",
       "    </tr>\n",
       "    <tr>\n",
       "      <th id=\"T_ac4c9_level0_row7\" class=\"row_heading level0 row7\" >7</th>\n",
       "      <td id=\"T_ac4c9_row7_col0\" class=\"data row7 col0\" >3.6430</td>\n",
       "      <td id=\"T_ac4c9_row7_col1\" class=\"data row7 col1\" >20.1952</td>\n",
       "      <td id=\"T_ac4c9_row7_col2\" class=\"data row7 col2\" >4.4939</td>\n",
       "      <td id=\"T_ac4c9_row7_col3\" class=\"data row7 col3\" >0.6841</td>\n",
       "      <td id=\"T_ac4c9_row7_col4\" class=\"data row7 col4\" >0.4676</td>\n",
       "      <td id=\"T_ac4c9_row7_col5\" class=\"data row7 col5\" >0.5929</td>\n",
       "    </tr>\n",
       "    <tr>\n",
       "      <th id=\"T_ac4c9_level0_row8\" class=\"row_heading level0 row8\" >8</th>\n",
       "      <td id=\"T_ac4c9_row8_col0\" class=\"data row8 col0\" >3.3888</td>\n",
       "      <td id=\"T_ac4c9_row8_col1\" class=\"data row8 col1\" >17.6612</td>\n",
       "      <td id=\"T_ac4c9_row8_col2\" class=\"data row8 col2\" >4.2025</td>\n",
       "      <td id=\"T_ac4c9_row8_col3\" class=\"data row8 col3\" >0.7305</td>\n",
       "      <td id=\"T_ac4c9_row8_col4\" class=\"data row8 col4\" >0.4493</td>\n",
       "      <td id=\"T_ac4c9_row8_col5\" class=\"data row8 col5\" >0.5706</td>\n",
       "    </tr>\n",
       "    <tr>\n",
       "      <th id=\"T_ac4c9_level0_row9\" class=\"row_heading level0 row9\" >9</th>\n",
       "      <td id=\"T_ac4c9_row9_col0\" class=\"data row9 col0\" >3.4986</td>\n",
       "      <td id=\"T_ac4c9_row9_col1\" class=\"data row9 col1\" >19.4619</td>\n",
       "      <td id=\"T_ac4c9_row9_col2\" class=\"data row9 col2\" >4.4116</td>\n",
       "      <td id=\"T_ac4c9_row9_col3\" class=\"data row9 col3\" >0.6940</td>\n",
       "      <td id=\"T_ac4c9_row9_col4\" class=\"data row9 col4\" >0.4869</td>\n",
       "      <td id=\"T_ac4c9_row9_col5\" class=\"data row9 col5\" >8.2772</td>\n",
       "    </tr>\n",
       "    <tr>\n",
       "      <th id=\"T_ac4c9_level0_row10\" class=\"row_heading level0 row10\" >Mean</th>\n",
       "      <td id=\"T_ac4c9_row10_col0\" class=\"data row10 col0\" >3.4416</td>\n",
       "      <td id=\"T_ac4c9_row10_col1\" class=\"data row10 col1\" >18.2588</td>\n",
       "      <td id=\"T_ac4c9_row10_col2\" class=\"data row10 col2\" >4.2679</td>\n",
       "      <td id=\"T_ac4c9_row10_col3\" class=\"data row10 col3\" >0.7003</td>\n",
       "      <td id=\"T_ac4c9_row10_col4\" class=\"data row10 col4\" >0.4616</td>\n",
       "      <td id=\"T_ac4c9_row10_col5\" class=\"data row10 col5\" >1.4159</td>\n",
       "    </tr>\n",
       "    <tr>\n",
       "      <th id=\"T_ac4c9_level0_row11\" class=\"row_heading level0 row11\" >Std</th>\n",
       "      <td id=\"T_ac4c9_row11_col0\" class=\"data row11 col0\" >0.1938</td>\n",
       "      <td id=\"T_ac4c9_row11_col1\" class=\"data row11 col1\" >1.8235</td>\n",
       "      <td id=\"T_ac4c9_row11_col2\" class=\"data row11 col2\" >0.2092</td>\n",
       "      <td id=\"T_ac4c9_row11_col3\" class=\"data row11 col3\" >0.0385</td>\n",
       "      <td id=\"T_ac4c9_row11_col4\" class=\"data row11 col4\" >0.0172</td>\n",
       "      <td id=\"T_ac4c9_row11_col5\" class=\"data row11 col5\" >2.2954</td>\n",
       "    </tr>\n",
       "  </tbody>\n",
       "</table>\n"
      ],
      "text/plain": [
       "<pandas.io.formats.style.Styler at 0x15549c566520>"
      ]
     },
     "metadata": {},
     "output_type": "display_data"
    },
    {
     "data": {
      "text/html": [],
      "text/plain": [
       "<IPython.core.display.HTML object>"
      ]
     },
     "metadata": {},
     "output_type": "display_data"
    },
    {
     "name": "stdout",
     "output_type": "stream",
     "text": [
      "Fitting 10 folds for each of 10 candidates, totalling 100 fits\n",
      "Original model was better than the tuned model, hence it will be returned. NOTE: The display metrics are for the tuned model (not the original one).\n"
     ]
    }
   ],
   "source": [
    "tuned_model_rf = tune_model(create_model('rf'))"
   ]
  },
  {
   "cell_type": "code",
   "execution_count": 30,
   "id": "760724ff-1ddc-4277-90c9-181cd8ce0116",
   "metadata": {},
   "outputs": [
    {
     "data": {
      "text/html": [],
      "text/plain": [
       "<IPython.core.display.HTML object>"
      ]
     },
     "metadata": {},
     "output_type": "display_data"
    },
    {
     "data": {
      "text/html": [
       "<style type=\"text/css\">\n",
       "#T_8c5c3_row10_col0, #T_8c5c3_row10_col1, #T_8c5c3_row10_col2, #T_8c5c3_row10_col3, #T_8c5c3_row10_col4, #T_8c5c3_row10_col5 {\n",
       "  background: yellow;\n",
       "}\n",
       "</style>\n",
       "<table id=\"T_8c5c3\">\n",
       "  <thead>\n",
       "    <tr>\n",
       "      <th class=\"blank level0\" >&nbsp;</th>\n",
       "      <th id=\"T_8c5c3_level0_col0\" class=\"col_heading level0 col0\" >MAE</th>\n",
       "      <th id=\"T_8c5c3_level0_col1\" class=\"col_heading level0 col1\" >MSE</th>\n",
       "      <th id=\"T_8c5c3_level0_col2\" class=\"col_heading level0 col2\" >RMSE</th>\n",
       "      <th id=\"T_8c5c3_level0_col3\" class=\"col_heading level0 col3\" >R2</th>\n",
       "      <th id=\"T_8c5c3_level0_col4\" class=\"col_heading level0 col4\" >RMSLE</th>\n",
       "      <th id=\"T_8c5c3_level0_col5\" class=\"col_heading level0 col5\" >MAPE</th>\n",
       "    </tr>\n",
       "    <tr>\n",
       "      <th class=\"index_name level0\" >Fold</th>\n",
       "      <th class=\"blank col0\" >&nbsp;</th>\n",
       "      <th class=\"blank col1\" >&nbsp;</th>\n",
       "      <th class=\"blank col2\" >&nbsp;</th>\n",
       "      <th class=\"blank col3\" >&nbsp;</th>\n",
       "      <th class=\"blank col4\" >&nbsp;</th>\n",
       "      <th class=\"blank col5\" >&nbsp;</th>\n",
       "    </tr>\n",
       "  </thead>\n",
       "  <tbody>\n",
       "    <tr>\n",
       "      <th id=\"T_8c5c3_level0_row0\" class=\"row_heading level0 row0\" >0</th>\n",
       "      <td id=\"T_8c5c3_row0_col0\" class=\"data row0 col0\" >3.4617</td>\n",
       "      <td id=\"T_8c5c3_row0_col1\" class=\"data row0 col1\" >19.2560</td>\n",
       "      <td id=\"T_8c5c3_row0_col2\" class=\"data row0 col2\" >4.3882</td>\n",
       "      <td id=\"T_8c5c3_row0_col3\" class=\"data row0 col3\" >0.7204</td>\n",
       "      <td id=\"T_8c5c3_row0_col4\" class=\"data row0 col4\" >0.4697</td>\n",
       "      <td id=\"T_8c5c3_row0_col5\" class=\"data row0 col5\" >1.1653</td>\n",
       "    </tr>\n",
       "    <tr>\n",
       "      <th id=\"T_8c5c3_level0_row1\" class=\"row_heading level0 row1\" >1</th>\n",
       "      <td id=\"T_8c5c3_row1_col0\" class=\"data row1 col0\" >3.2201</td>\n",
       "      <td id=\"T_8c5c3_row1_col1\" class=\"data row1 col1\" >18.9816</td>\n",
       "      <td id=\"T_8c5c3_row1_col2\" class=\"data row1 col2\" >4.3568</td>\n",
       "      <td id=\"T_8c5c3_row1_col3\" class=\"data row1 col3\" >0.6954</td>\n",
       "      <td id=\"T_8c5c3_row1_col4\" class=\"data row1 col4\" >0.4204</td>\n",
       "      <td id=\"T_8c5c3_row1_col5\" class=\"data row1 col5\" >0.4095</td>\n",
       "    </tr>\n",
       "    <tr>\n",
       "      <th id=\"T_8c5c3_level0_row2\" class=\"row_heading level0 row2\" >2</th>\n",
       "      <td id=\"T_8c5c3_row2_col0\" class=\"data row2 col0\" >2.9371</td>\n",
       "      <td id=\"T_8c5c3_row2_col1\" class=\"data row2 col1\" >14.9482</td>\n",
       "      <td id=\"T_8c5c3_row2_col2\" class=\"data row2 col2\" >3.8663</td>\n",
       "      <td id=\"T_8c5c3_row2_col3\" class=\"data row2 col3\" >0.7796</td>\n",
       "      <td id=\"T_8c5c3_row2_col4\" class=\"data row2 col4\" >0.4304</td>\n",
       "      <td id=\"T_8c5c3_row2_col5\" class=\"data row2 col5\" >0.4715</td>\n",
       "    </tr>\n",
       "    <tr>\n",
       "      <th id=\"T_8c5c3_level0_row3\" class=\"row_heading level0 row3\" >3</th>\n",
       "      <td id=\"T_8c5c3_row3_col0\" class=\"data row3 col0\" >3.3167</td>\n",
       "      <td id=\"T_8c5c3_row3_col1\" class=\"data row3 col1\" >19.6765</td>\n",
       "      <td id=\"T_8c5c3_row3_col2\" class=\"data row3 col2\" >4.4358</td>\n",
       "      <td id=\"T_8c5c3_row3_col3\" class=\"data row3 col3\" >0.6572</td>\n",
       "      <td id=\"T_8c5c3_row3_col4\" class=\"data row3 col4\" >0.4760</td>\n",
       "      <td id=\"T_8c5c3_row3_col5\" class=\"data row3 col5\" >0.6102</td>\n",
       "    </tr>\n",
       "    <tr>\n",
       "      <th id=\"T_8c5c3_level0_row4\" class=\"row_heading level0 row4\" >4</th>\n",
       "      <td id=\"T_8c5c3_row4_col0\" class=\"data row4 col0\" >3.1659</td>\n",
       "      <td id=\"T_8c5c3_row4_col1\" class=\"data row4 col1\" >17.8344</td>\n",
       "      <td id=\"T_8c5c3_row4_col2\" class=\"data row4 col2\" >4.2231</td>\n",
       "      <td id=\"T_8c5c3_row4_col3\" class=\"data row4 col3\" >0.6494</td>\n",
       "      <td id=\"T_8c5c3_row4_col4\" class=\"data row4 col4\" >0.4668</td>\n",
       "      <td id=\"T_8c5c3_row4_col5\" class=\"data row4 col5\" >0.5705</td>\n",
       "    </tr>\n",
       "    <tr>\n",
       "      <th id=\"T_8c5c3_level0_row5\" class=\"row_heading level0 row5\" >5</th>\n",
       "      <td id=\"T_8c5c3_row5_col0\" class=\"data row5 col0\" >2.9913</td>\n",
       "      <td id=\"T_8c5c3_row5_col1\" class=\"data row5 col1\" >14.1051</td>\n",
       "      <td id=\"T_8c5c3_row5_col2\" class=\"data row5 col2\" >3.7557</td>\n",
       "      <td id=\"T_8c5c3_row5_col3\" class=\"data row5 col3\" >0.7464</td>\n",
       "      <td id=\"T_8c5c3_row5_col4\" class=\"data row5 col4\" >0.4444</td>\n",
       "      <td id=\"T_8c5c3_row5_col5\" class=\"data row5 col5\" >0.4810</td>\n",
       "    </tr>\n",
       "    <tr>\n",
       "      <th id=\"T_8c5c3_level0_row6\" class=\"row_heading level0 row6\" >6</th>\n",
       "      <td id=\"T_8c5c3_row6_col0\" class=\"data row6 col0\" >3.6170</td>\n",
       "      <td id=\"T_8c5c3_row6_col1\" class=\"data row6 col1\" >21.9147</td>\n",
       "      <td id=\"T_8c5c3_row6_col2\" class=\"data row6 col2\" >4.6813</td>\n",
       "      <td id=\"T_8c5c3_row6_col3\" class=\"data row6 col3\" >0.6217</td>\n",
       "      <td id=\"T_8c5c3_row6_col4\" class=\"data row6 col4\" >0.4640</td>\n",
       "      <td id=\"T_8c5c3_row6_col5\" class=\"data row6 col5\" >0.5094</td>\n",
       "    </tr>\n",
       "    <tr>\n",
       "      <th id=\"T_8c5c3_level0_row7\" class=\"row_heading level0 row7\" >7</th>\n",
       "      <td id=\"T_8c5c3_row7_col0\" class=\"data row7 col0\" >3.3604</td>\n",
       "      <td id=\"T_8c5c3_row7_col1\" class=\"data row7 col1\" >19.3320</td>\n",
       "      <td id=\"T_8c5c3_row7_col2\" class=\"data row7 col2\" >4.3968</td>\n",
       "      <td id=\"T_8c5c3_row7_col3\" class=\"data row7 col3\" >0.6976</td>\n",
       "      <td id=\"T_8c5c3_row7_col4\" class=\"data row7 col4\" >0.4884</td>\n",
       "      <td id=\"T_8c5c3_row7_col5\" class=\"data row7 col5\" >0.5502</td>\n",
       "    </tr>\n",
       "    <tr>\n",
       "      <th id=\"T_8c5c3_level0_row8\" class=\"row_heading level0 row8\" >8</th>\n",
       "      <td id=\"T_8c5c3_row8_col0\" class=\"data row8 col0\" >3.1644</td>\n",
       "      <td id=\"T_8c5c3_row8_col1\" class=\"data row8 col1\" >17.7970</td>\n",
       "      <td id=\"T_8c5c3_row8_col2\" class=\"data row8 col2\" >4.2186</td>\n",
       "      <td id=\"T_8c5c3_row8_col3\" class=\"data row8 col3\" >0.7284</td>\n",
       "      <td id=\"T_8c5c3_row8_col4\" class=\"data row8 col4\" >0.4313</td>\n",
       "      <td id=\"T_8c5c3_row8_col5\" class=\"data row8 col5\" >0.4630</td>\n",
       "    </tr>\n",
       "    <tr>\n",
       "      <th id=\"T_8c5c3_level0_row9\" class=\"row_heading level0 row9\" >9</th>\n",
       "      <td id=\"T_8c5c3_row9_col0\" class=\"data row9 col0\" >3.1914</td>\n",
       "      <td id=\"T_8c5c3_row9_col1\" class=\"data row9 col1\" >16.8651</td>\n",
       "      <td id=\"T_8c5c3_row9_col2\" class=\"data row9 col2\" >4.1067</td>\n",
       "      <td id=\"T_8c5c3_row9_col3\" class=\"data row9 col3\" >0.7348</td>\n",
       "      <td id=\"T_8c5c3_row9_col4\" class=\"data row9 col4\" >0.4491</td>\n",
       "      <td id=\"T_8c5c3_row9_col5\" class=\"data row9 col5\" >7.9652</td>\n",
       "    </tr>\n",
       "    <tr>\n",
       "      <th id=\"T_8c5c3_level0_row10\" class=\"row_heading level0 row10\" >Mean</th>\n",
       "      <td id=\"T_8c5c3_row10_col0\" class=\"data row10 col0\" >3.2426</td>\n",
       "      <td id=\"T_8c5c3_row10_col1\" class=\"data row10 col1\" >18.0711</td>\n",
       "      <td id=\"T_8c5c3_row10_col2\" class=\"data row10 col2\" >4.2429</td>\n",
       "      <td id=\"T_8c5c3_row10_col3\" class=\"data row10 col3\" >0.7031</td>\n",
       "      <td id=\"T_8c5c3_row10_col4\" class=\"data row10 col4\" >0.4541</td>\n",
       "      <td id=\"T_8c5c3_row10_col5\" class=\"data row10 col5\" >1.3196</td>\n",
       "    </tr>\n",
       "    <tr>\n",
       "      <th id=\"T_8c5c3_level0_row11\" class=\"row_heading level0 row11\" >Std</th>\n",
       "      <td id=\"T_8c5c3_row11_col0\" class=\"data row11 col0\" >0.1947</td>\n",
       "      <td id=\"T_8c5c3_row11_col1\" class=\"data row11 col1\" >2.1964</td>\n",
       "      <td id=\"T_8c5c3_row11_col2\" class=\"data row11 col2\" >0.2619</td>\n",
       "      <td id=\"T_8c5c3_row11_col3\" class=\"data row11 col3\" >0.0462</td>\n",
       "      <td id=\"T_8c5c3_row11_col4\" class=\"data row11 col4\" >0.0212</td>\n",
       "      <td id=\"T_8c5c3_row11_col5\" class=\"data row11 col5\" >2.2245</td>\n",
       "    </tr>\n",
       "  </tbody>\n",
       "</table>\n"
      ],
      "text/plain": [
       "<pandas.io.formats.style.Styler at 0x15549c442850>"
      ]
     },
     "metadata": {},
     "output_type": "display_data"
    },
    {
     "data": {
      "text/html": [],
      "text/plain": [
       "<IPython.core.display.HTML object>"
      ]
     },
     "metadata": {},
     "output_type": "display_data"
    },
    {
     "data": {
      "text/html": [],
      "text/plain": [
       "<IPython.core.display.HTML object>"
      ]
     },
     "metadata": {},
     "output_type": "display_data"
    },
    {
     "data": {
      "text/html": [
       "<style type=\"text/css\">\n",
       "#T_86f23_row10_col0, #T_86f23_row10_col1, #T_86f23_row10_col2, #T_86f23_row10_col3, #T_86f23_row10_col4, #T_86f23_row10_col5 {\n",
       "  background: yellow;\n",
       "}\n",
       "</style>\n",
       "<table id=\"T_86f23\">\n",
       "  <thead>\n",
       "    <tr>\n",
       "      <th class=\"blank level0\" >&nbsp;</th>\n",
       "      <th id=\"T_86f23_level0_col0\" class=\"col_heading level0 col0\" >MAE</th>\n",
       "      <th id=\"T_86f23_level0_col1\" class=\"col_heading level0 col1\" >MSE</th>\n",
       "      <th id=\"T_86f23_level0_col2\" class=\"col_heading level0 col2\" >RMSE</th>\n",
       "      <th id=\"T_86f23_level0_col3\" class=\"col_heading level0 col3\" >R2</th>\n",
       "      <th id=\"T_86f23_level0_col4\" class=\"col_heading level0 col4\" >RMSLE</th>\n",
       "      <th id=\"T_86f23_level0_col5\" class=\"col_heading level0 col5\" >MAPE</th>\n",
       "    </tr>\n",
       "    <tr>\n",
       "      <th class=\"index_name level0\" >Fold</th>\n",
       "      <th class=\"blank col0\" >&nbsp;</th>\n",
       "      <th class=\"blank col1\" >&nbsp;</th>\n",
       "      <th class=\"blank col2\" >&nbsp;</th>\n",
       "      <th class=\"blank col3\" >&nbsp;</th>\n",
       "      <th class=\"blank col4\" >&nbsp;</th>\n",
       "      <th class=\"blank col5\" >&nbsp;</th>\n",
       "    </tr>\n",
       "  </thead>\n",
       "  <tbody>\n",
       "    <tr>\n",
       "      <th id=\"T_86f23_level0_row0\" class=\"row_heading level0 row0\" >0</th>\n",
       "      <td id=\"T_86f23_row0_col0\" class=\"data row0 col0\" >3.0592</td>\n",
       "      <td id=\"T_86f23_row0_col1\" class=\"data row0 col1\" >15.6409</td>\n",
       "      <td id=\"T_86f23_row0_col2\" class=\"data row0 col2\" >3.9549</td>\n",
       "      <td id=\"T_86f23_row0_col3\" class=\"data row0 col3\" >0.7729</td>\n",
       "      <td id=\"T_86f23_row0_col4\" class=\"data row0 col4\" >0.4166</td>\n",
       "      <td id=\"T_86f23_row0_col5\" class=\"data row0 col5\" >1.1081</td>\n",
       "    </tr>\n",
       "    <tr>\n",
       "      <th id=\"T_86f23_level0_row1\" class=\"row_heading level0 row1\" >1</th>\n",
       "      <td id=\"T_86f23_row1_col0\" class=\"data row1 col0\" >3.0793</td>\n",
       "      <td id=\"T_86f23_row1_col1\" class=\"data row1 col1\" >17.5297</td>\n",
       "      <td id=\"T_86f23_row1_col2\" class=\"data row1 col2\" >4.1869</td>\n",
       "      <td id=\"T_86f23_row1_col3\" class=\"data row1 col3\" >0.7187</td>\n",
       "      <td id=\"T_86f23_row1_col4\" class=\"data row1 col4\" >0.4191</td>\n",
       "      <td id=\"T_86f23_row1_col5\" class=\"data row1 col5\" >0.4036</td>\n",
       "    </tr>\n",
       "    <tr>\n",
       "      <th id=\"T_86f23_level0_row2\" class=\"row_heading level0 row2\" >2</th>\n",
       "      <td id=\"T_86f23_row2_col0\" class=\"data row2 col0\" >3.0510</td>\n",
       "      <td id=\"T_86f23_row2_col1\" class=\"data row2 col1\" >15.5787</td>\n",
       "      <td id=\"T_86f23_row2_col2\" class=\"data row2 col2\" >3.9470</td>\n",
       "      <td id=\"T_86f23_row2_col3\" class=\"data row2 col3\" >0.7703</td>\n",
       "      <td id=\"T_86f23_row2_col4\" class=\"data row2 col4\" >0.4194</td>\n",
       "      <td id=\"T_86f23_row2_col5\" class=\"data row2 col5\" >0.4833</td>\n",
       "    </tr>\n",
       "    <tr>\n",
       "      <th id=\"T_86f23_level0_row3\" class=\"row_heading level0 row3\" >3</th>\n",
       "      <td id=\"T_86f23_row3_col0\" class=\"data row3 col0\" >3.2074</td>\n",
       "      <td id=\"T_86f23_row3_col1\" class=\"data row3 col1\" >17.2547</td>\n",
       "      <td id=\"T_86f23_row3_col2\" class=\"data row3 col2\" >4.1539</td>\n",
       "      <td id=\"T_86f23_row3_col3\" class=\"data row3 col3\" >0.6994</td>\n",
       "      <td id=\"T_86f23_row3_col4\" class=\"data row3 col4\" >0.4676</td>\n",
       "      <td id=\"T_86f23_row3_col5\" class=\"data row3 col5\" >0.6139</td>\n",
       "    </tr>\n",
       "    <tr>\n",
       "      <th id=\"T_86f23_level0_row4\" class=\"row_heading level0 row4\" >4</th>\n",
       "      <td id=\"T_86f23_row4_col0\" class=\"data row4 col0\" >3.0493</td>\n",
       "      <td id=\"T_86f23_row4_col1\" class=\"data row4 col1\" >15.8055</td>\n",
       "      <td id=\"T_86f23_row4_col2\" class=\"data row4 col2\" >3.9756</td>\n",
       "      <td id=\"T_86f23_row4_col3\" class=\"data row4 col3\" >0.6893</td>\n",
       "      <td id=\"T_86f23_row4_col4\" class=\"data row4 col4\" >0.4598</td>\n",
       "      <td id=\"T_86f23_row4_col5\" class=\"data row4 col5\" >0.5457</td>\n",
       "    </tr>\n",
       "    <tr>\n",
       "      <th id=\"T_86f23_level0_row5\" class=\"row_heading level0 row5\" >5</th>\n",
       "      <td id=\"T_86f23_row5_col0\" class=\"data row5 col0\" >3.0003</td>\n",
       "      <td id=\"T_86f23_row5_col1\" class=\"data row5 col1\" >13.9238</td>\n",
       "      <td id=\"T_86f23_row5_col2\" class=\"data row5 col2\" >3.7315</td>\n",
       "      <td id=\"T_86f23_row5_col3\" class=\"data row5 col3\" >0.7496</td>\n",
       "      <td id=\"T_86f23_row5_col4\" class=\"data row5 col4\" >0.4142</td>\n",
       "      <td id=\"T_86f23_row5_col5\" class=\"data row5 col5\" >0.4751</td>\n",
       "    </tr>\n",
       "    <tr>\n",
       "      <th id=\"T_86f23_level0_row6\" class=\"row_heading level0 row6\" >6</th>\n",
       "      <td id=\"T_86f23_row6_col0\" class=\"data row6 col0\" >3.4982</td>\n",
       "      <td id=\"T_86f23_row6_col1\" class=\"data row6 col1\" >20.9135</td>\n",
       "      <td id=\"T_86f23_row6_col2\" class=\"data row6 col2\" >4.5731</td>\n",
       "      <td id=\"T_86f23_row6_col3\" class=\"data row6 col3\" >0.6390</td>\n",
       "      <td id=\"T_86f23_row6_col4\" class=\"data row6 col4\" >0.4575</td>\n",
       "      <td id=\"T_86f23_row6_col5\" class=\"data row6 col5\" >0.5029</td>\n",
       "    </tr>\n",
       "    <tr>\n",
       "      <th id=\"T_86f23_level0_row7\" class=\"row_heading level0 row7\" >7</th>\n",
       "      <td id=\"T_86f23_row7_col0\" class=\"data row7 col0\" >3.2908</td>\n",
       "      <td id=\"T_86f23_row7_col1\" class=\"data row7 col1\" >18.7659</td>\n",
       "      <td id=\"T_86f23_row7_col2\" class=\"data row7 col2\" >4.3320</td>\n",
       "      <td id=\"T_86f23_row7_col3\" class=\"data row7 col3\" >0.7064</td>\n",
       "      <td id=\"T_86f23_row7_col4\" class=\"data row7 col4\" >0.4639</td>\n",
       "      <td id=\"T_86f23_row7_col5\" class=\"data row7 col5\" >0.5313</td>\n",
       "    </tr>\n",
       "    <tr>\n",
       "      <th id=\"T_86f23_level0_row8\" class=\"row_heading level0 row8\" >8</th>\n",
       "      <td id=\"T_86f23_row8_col0\" class=\"data row8 col0\" >2.9329</td>\n",
       "      <td id=\"T_86f23_row8_col1\" class=\"data row8 col1\" >14.5606</td>\n",
       "      <td id=\"T_86f23_row8_col2\" class=\"data row8 col2\" >3.8158</td>\n",
       "      <td id=\"T_86f23_row8_col3\" class=\"data row8 col3\" >0.7778</td>\n",
       "      <td id=\"T_86f23_row8_col4\" class=\"data row8 col4\" >0.4048</td>\n",
       "      <td id=\"T_86f23_row8_col5\" class=\"data row8 col5\" >0.4724</td>\n",
       "    </tr>\n",
       "    <tr>\n",
       "      <th id=\"T_86f23_level0_row9\" class=\"row_heading level0 row9\" >9</th>\n",
       "      <td id=\"T_86f23_row9_col0\" class=\"data row9 col0\" >3.1636</td>\n",
       "      <td id=\"T_86f23_row9_col1\" class=\"data row9 col1\" >17.0480</td>\n",
       "      <td id=\"T_86f23_row9_col2\" class=\"data row9 col2\" >4.1289</td>\n",
       "      <td id=\"T_86f23_row9_col3\" class=\"data row9 col3\" >0.7319</td>\n",
       "      <td id=\"T_86f23_row9_col4\" class=\"data row9 col4\" >0.4496</td>\n",
       "      <td id=\"T_86f23_row9_col5\" class=\"data row9 col5\" >8.5879</td>\n",
       "    </tr>\n",
       "    <tr>\n",
       "      <th id=\"T_86f23_level0_row10\" class=\"row_heading level0 row10\" >Mean</th>\n",
       "      <td id=\"T_86f23_row10_col0\" class=\"data row10 col0\" >3.1332</td>\n",
       "      <td id=\"T_86f23_row10_col1\" class=\"data row10 col1\" >16.7021</td>\n",
       "      <td id=\"T_86f23_row10_col2\" class=\"data row10 col2\" >4.0799</td>\n",
       "      <td id=\"T_86f23_row10_col3\" class=\"data row10 col3\" >0.7255</td>\n",
       "      <td id=\"T_86f23_row10_col4\" class=\"data row10 col4\" >0.4372</td>\n",
       "      <td id=\"T_86f23_row10_col5\" class=\"data row10 col5\" >1.3724</td>\n",
       "    </tr>\n",
       "    <tr>\n",
       "      <th id=\"T_86f23_level0_row11\" class=\"row_heading level0 row11\" >Std</th>\n",
       "      <td id=\"T_86f23_row11_col0\" class=\"data row11 col0\" >0.1563</td>\n",
       "      <td id=\"T_86f23_row11_col1\" class=\"data row11 col1\" >1.9648</td>\n",
       "      <td id=\"T_86f23_row11_col2\" class=\"data row11 col2\" >0.2369</td>\n",
       "      <td id=\"T_86f23_row11_col3\" class=\"data row11 col3\" >0.0418</td>\n",
       "      <td id=\"T_86f23_row11_col4\" class=\"data row11 col4\" >0.0231</td>\n",
       "      <td id=\"T_86f23_row11_col5\" class=\"data row11 col5\" >2.4125</td>\n",
       "    </tr>\n",
       "  </tbody>\n",
       "</table>\n"
      ],
      "text/plain": [
       "<pandas.io.formats.style.Styler at 0x15549c5354f0>"
      ]
     },
     "metadata": {},
     "output_type": "display_data"
    },
    {
     "data": {
      "text/html": [],
      "text/plain": [
       "<IPython.core.display.HTML object>"
      ]
     },
     "metadata": {},
     "output_type": "display_data"
    },
    {
     "name": "stdout",
     "output_type": "stream",
     "text": [
      "Fitting 10 folds for each of 10 candidates, totalling 100 fits\n"
     ]
    }
   ],
   "source": [
    "tuned_model_xg = tune_model(create_model('xgboost'))"
   ]
  },
  {
   "cell_type": "code",
   "execution_count": null,
   "id": "58468607-2853-49cf-8fe4-73a23ee0d36c",
   "metadata": {},
   "outputs": [
    {
     "data": {
      "text/html": [
       "<div>\n",
       "<style scoped>\n",
       "    .dataframe tbody tr th:only-of-type {\n",
       "        vertical-align: middle;\n",
       "    }\n",
       "\n",
       "    .dataframe tbody tr th {\n",
       "        vertical-align: top;\n",
       "    }\n",
       "\n",
       "    .dataframe thead th {\n",
       "        text-align: right;\n",
       "    }\n",
       "</style>\n",
       "<table border=\"1\" class=\"dataframe\">\n",
       "  <thead>\n",
       "    <tr style=\"text-align: right;\">\n",
       "      <th></th>\n",
       "      <th></th>\n",
       "      <th></th>\n",
       "    </tr>\n",
       "    <tr>\n",
       "      <th></th>\n",
       "      <th></th>\n",
       "      <th></th>\n",
       "    </tr>\n",
       "  </thead>\n",
       "  <tbody>\n",
       "    <tr>\n",
       "      <th>Initiated</th>\n",
       "      <td>. . . . . . . . . . . . . . . . . .</td>\n",
       "      <td>12:23:09</td>\n",
       "    </tr>\n",
       "    <tr>\n",
       "      <th>Status</th>\n",
       "      <td>. . . . . . . . . . . . . . . . . .</td>\n",
       "      <td>Fitting 10 Folds</td>\n",
       "    </tr>\n",
       "    <tr>\n",
       "      <th>Estimator</th>\n",
       "      <td>. . . . . . . . . . . . . . . . . .</td>\n",
       "      <td>Light Gradient Boosting Machine</td>\n",
       "    </tr>\n",
       "  </tbody>\n",
       "</table>\n",
       "</div>"
      ],
      "text/plain": [
       "                                                \\\n",
       "                                                 \n",
       "Initiated  . . . . . . . . . . . . . . . . . .   \n",
       "Status     . . . . . . . . . . . . . . . . . .   \n",
       "Estimator  . . . . . . . . . . . . . . . . . .   \n",
       "\n",
       "                                            \n",
       "                                            \n",
       "Initiated                         12:23:09  \n",
       "Status                    Fitting 10 Folds  \n",
       "Estimator  Light Gradient Boosting Machine  "
      ]
     },
     "metadata": {},
     "output_type": "display_data"
    },
    {
     "data": {
      "text/html": [],
      "text/plain": [
       "<IPython.core.display.HTML object>"
      ]
     },
     "metadata": {},
     "output_type": "display_data"
    },
    {
     "data": {
      "application/vnd.jupyter.widget-view+json": {
       "model_id": "713df4605bf043da8c69ebc8891d7d41",
       "version_major": 2,
       "version_minor": 0
      },
      "text/plain": [
       "Processing:   0%|          | 0/4 [00:00<?, ?it/s]"
      ]
     },
     "metadata": {},
     "output_type": "display_data"
    }
   ],
   "source": [
    "tuned_model_lgbm = tune_model(create_model('lightgbm'))"
   ]
  },
  {
   "cell_type": "code",
   "execution_count": null,
   "id": "3ff37dc9-047b-4ce3-bf3a-58e37cd22c93",
   "metadata": {},
   "outputs": [],
   "source": []
  }
 ],
 "metadata": {
  "kernelspec": {
   "display_name": "pyemma",
   "language": "python",
   "name": "pyemma"
  },
  "language_info": {
   "codemirror_mode": {
    "name": "ipython",
    "version": 3
   },
   "file_extension": ".py",
   "mimetype": "text/x-python",
   "name": "python",
   "nbconvert_exporter": "python",
   "pygments_lexer": "ipython3",
   "version": "3.9.21"
  }
 },
 "nbformat": 4,
 "nbformat_minor": 5
}
