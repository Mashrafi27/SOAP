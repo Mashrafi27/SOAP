{
 "cells": [
  {
   "cell_type": "code",
   "execution_count": 1,
   "id": "d00c5a80-ba28-4250-a2a9-b3f2ddbf9b3e",
   "metadata": {},
   "outputs": [],
   "source": [
    "import numpy as np\n",
    "from sklearn.decomposition import KernelPCA"
   ]
  },
  {
   "cell_type": "code",
   "execution_count": 2,
   "id": "84ba36d8-bae5-4947-9870-348306d622f0",
   "metadata": {},
   "outputs": [],
   "source": [
    "from soap import *"
   ]
  },
  {
   "cell_type": "code",
   "execution_count": 3,
   "id": "03d4a1d6-334a-4404-aceb-ae134154c254",
   "metadata": {},
   "outputs": [],
   "source": [
    "_, structure, species = read_cif(\"CIF_files/DB0-m1_o14_smb_repeat.cif\")"
   ]
  },
  {
   "cell_type": "code",
   "execution_count": 4,
   "id": "55f6f4ee-62be-47d0-bc06-4399d9e1307d",
   "metadata": {},
   "outputs": [],
   "source": [
    "soap_out, soap = S(structure = structure, species = species)"
   ]
  },
  {
   "cell_type": "code",
   "execution_count": 5,
   "id": "67b31f1e-9b69-47d5-8204-a64908310140",
   "metadata": {},
   "outputs": [
    {
     "data": {
      "text/plain": [
       "(213, 20)"
      ]
     },
     "execution_count": 5,
     "metadata": {},
     "output_type": "execute_result"
    }
   ],
   "source": [
    "soap_out.shape"
   ]
  },
  {
   "cell_type": "code",
   "execution_count": 6,
   "id": "1d7ac31e-2fe3-4119-9600-daaab5dc8e9c",
   "metadata": {},
   "outputs": [],
   "source": [
    "N_env, N_feat = soap_out.shape"
   ]
  },
  {
   "cell_type": "code",
   "execution_count": 46,
   "id": "a3d8cd28-9166-4eba-aed6-8bf41932f65a",
   "metadata": {},
   "outputs": [],
   "source": [
    "# 1) Build the N_env × N_env kernel among environments.  \n",
    "#    For example, use an RBF kernel with some gamma > 0.\n",
    "def rbf_kernel(u, v, gamma=1e-3):\n",
    "    diff = u - v\n",
    "    return np.exp(-gamma * (diff @ diff))\n",
    "\n",
    "K = np.zeros((N_feat, N_feat))\n",
    "for i in range(N_feat):\n",
    "    for j in range(N_feat):\n",
    "        K[i, j] = rbf_kernel(soap_out[:,i], soap_out[:,j], gamma=1e-3)\n",
    "\n",
    "eigvals, eigvecs = np.linalg.eigh(K)\n",
    "alpha = eigvecs[:, -1]       # shape = (N_env,)\n",
    "# (Optionally, you can normalize alpha so that sum(alpha^2)=1 or so that sum(alpha)=1, etc.)\n",
    "alpha = alpha / np.linalg.norm(alpha)\n",
    "\n",
    "# # --- 3) Form the weighted‐sum row d = alpha^T @ soap_out ---\n",
    "# d = alpha.reshape(1, N_feat) @ soap_out   # shape = (1, N_feat)\n",
    "\n",
    "# print(\"collapsed descriptor shape:\", d.shape)"
   ]
  },
  {
   "cell_type": "code",
   "execution_count": 47,
   "id": "13a88c12-88ab-4b85-9805-eeb7e89d7cce",
   "metadata": {},
   "outputs": [
    {
     "data": {
      "text/plain": [
       "(20,)"
      ]
     },
     "execution_count": 47,
     "metadata": {},
     "output_type": "execute_result"
    }
   ],
   "source": [
    "alpha.shape"
   ]
  },
  {
   "cell_type": "code",
   "execution_count": 48,
   "id": "c8e57a87-8b31-4ae1-aa4a-efa9b6c94ace",
   "metadata": {},
   "outputs": [
    {
     "data": {
      "text/plain": [
       "20"
      ]
     },
     "execution_count": 48,
     "metadata": {},
     "output_type": "execute_result"
    }
   ],
   "source": [
    "N_feat"
   ]
  },
  {
   "cell_type": "code",
   "execution_count": 49,
   "id": "2c9acfcf-2e15-41ec-bc0e-63302a78a591",
   "metadata": {},
   "outputs": [
    {
     "data": {
      "text/plain": [
       "(20,)"
      ]
     },
     "execution_count": 49,
     "metadata": {},
     "output_type": "execute_result"
    }
   ],
   "source": [
    "alpha.shape"
   ]
  },
  {
   "cell_type": "code",
   "execution_count": 52,
   "id": "36e3b4dc-af8a-430c-adb1-f052ed740d52",
   "metadata": {},
   "outputs": [
    {
     "data": {
      "text/plain": [
       "(213, 20)"
      ]
     },
     "execution_count": 52,
     "metadata": {},
     "output_type": "execute_result"
    }
   ],
   "source": [
    "soap_out.shape"
   ]
  },
  {
   "cell_type": "code",
   "execution_count": 50,
   "id": "3d72545b-6cd1-4d93-9918-f97208690f5d",
   "metadata": {},
   "outputs": [],
   "source": [
    "d = (soap_out * alpha).mean(axis=0, keepdims=True)"
   ]
  },
  {
   "cell_type": "code",
   "execution_count": 51,
   "id": "57e66182-3760-4efa-a642-636d615cdbd6",
   "metadata": {},
   "outputs": [
    {
     "data": {
      "text/plain": [
       "(1, 20)"
      ]
     },
     "execution_count": 51,
     "metadata": {},
     "output_type": "execute_result"
    }
   ],
   "source": [
    "d.shape"
   ]
  },
  {
   "cell_type": "code",
   "execution_count": 31,
   "id": "0cdd6b51-9dfb-495f-a3ab-ffc08ddc3c17",
   "metadata": {},
   "outputs": [
    {
     "data": {
      "text/plain": [
       "array([ 1.98887248e-02,  1.42402717e-02,  2.00565801e-03, -1.38706216e-02,\n",
       "        4.36124519e-02, -7.17911631e-04,  2.67829005e-03, -3.90048751e-04,\n",
       "        2.08858708e-32,  8.33363883e-02,  8.30706535e-02, -4.17494182e-03,\n",
       "        3.24709208e-02, -3.61391006e-03,  4.16059825e-02,  6.06245800e-03,\n",
       "        1.00896216e-01,  7.87191977e-04,  7.62855528e-02,  2.17593092e-03])"
      ]
     },
     "execution_count": 31,
     "metadata": {},
     "output_type": "execute_result"
    }
   ],
   "source": [
    "d[0]"
   ]
  },
  {
   "cell_type": "code",
   "execution_count": 35,
   "id": "366563b2-18f5-4cd4-8fdf-210c4b6c6a51",
   "metadata": {},
   "outputs": [],
   "source": [
    "si,_ = S(structure = structure, species = species, average = \"inner\")"
   ]
  },
  {
   "cell_type": "code",
   "execution_count": 36,
   "id": "5e6413f7-6341-49cb-905c-42b61c32891d",
   "metadata": {},
   "outputs": [
    {
     "data": {
      "text/plain": [
       "array([ 1.52091564e+00,  4.50189564e-05,  4.16378818e+00, -2.95287154e-05,\n",
       "        1.03914068e+00,  2.32330997e-06,  2.98309005e-01, -1.78135509e-05,\n",
       "        1.13991411e+01,  4.20726344e-05,  2.84484003e+00, -2.26701741e-05,\n",
       "        8.16676138e-01,  1.01262552e-05,  7.09975838e-01,  2.98115188e-05,\n",
       "        2.03814738e-01, -9.46465465e-06,  5.85096637e-02,  1.71519504e-05])"
      ]
     },
     "execution_count": 36,
     "metadata": {},
     "output_type": "execute_result"
    }
   ],
   "source": [
    "si"
   ]
  },
  {
   "cell_type": "code",
   "execution_count": 38,
   "id": "4dc2c8a2-4014-42f9-af4a-fae6375ce50e",
   "metadata": {},
   "outputs": [],
   "source": [
    "so,_ = S(structure = structure, species = species, average = \"outer\")"
   ]
  },
  {
   "cell_type": "code",
   "execution_count": 39,
   "id": "f8f0fd40-73cd-4076-863f-b500ca20fbe4",
   "metadata": {},
   "outputs": [
    {
     "data": {
      "text/plain": [
       "array([ 2.77902631e+00,  5.32198372e-02,  4.11588378e+00, -5.19847926e-02,\n",
       "        1.63876232e-01, -2.68026443e-03,  9.99165625e-03, -1.45617068e-03,\n",
       "        1.54767122e+01,  3.17557746e-01,  1.59166562e+00, -1.56041520e-02,\n",
       "        1.21731496e-01, -1.35054514e-02,  1.99147215e+00,  2.26188261e-02,\n",
       "        4.92624250e-01,  2.93805103e-03,  4.62426975e-01,  8.11873260e-03])"
      ]
     },
     "execution_count": 39,
     "metadata": {},
     "output_type": "execute_result"
    }
   ],
   "source": [
    "so"
   ]
  },
  {
   "cell_type": "code",
   "execution_count": 40,
   "id": "e3720a25-4868-4ed1-9830-24bc2f2e6bf1",
   "metadata": {},
   "outputs": [],
   "source": [
    "import numpy as np\n",
    "import matplotlib.pyplot as plt"
   ]
  },
  {
   "cell_type": "code",
   "execution_count": 43,
   "id": "3f4b67ed-8483-4aa8-9f6c-738103d169df",
   "metadata": {
    "scrolled": true
   },
   "outputs": [
    {
     "data": {
      "image/png": "[encoded data removed]",
      "text/plain": [
       "<Figure size 640x480 with 1 Axes>"
      ]
     },
     "metadata": {},
     "output_type": "display_data"
    }
   ],
   "source": [
    "plt.plot(np.arange(20), d[0], label='kernelPCA')\n",
    "plt.plot(np.arange(20), si, label='inner')\n",
    "plt.plot(np.arange(20), so, label='outer')\n",
    "\n",
    "plt.xlabel('Index')\n",
    "plt.ylabel('Value')\n",
    "plt.title('Comparison of Three Arrays')\n",
    "plt.legend()\n",
    "plt.ylim(0.1,-0.1)\n",
    "plt.grid()\n",
    "plt.tight_layout()\n",
    "plt.show()"
   ]
  },
  {
   "cell_type": "markdown",
   "id": "56e23bbb-d08b-410e-be11-53382672a923",
   "metadata": {},
   "source": [
    "# ML"
   ]
  },
  {
   "cell_type": "code",
   "execution_count": null,
   "id": "32dcb577-5b13-445b-adb5-c40bc604475a",
   "metadata": {},
   "outputs": [],
   "source": [
    "import pandas as pd\n",
    "import numpy as np\n",
    "from sklearn.model_selection import train_test_split\n",
    "from sklearn.linear_model import LinearRegression\n",
    "from sklearn.ensemble import RandomForestRegressor\n",
    "from sklearn.metrics import root_mean_squared_error, r2_score\n",
    "from sklearn.preprocessing import StandardScaler\n",
    "import matplotlib.pyplot as plt\n",
    "import xgboost as xgb\n",
    "from sklearn.neural_network import MLPRegressor\n"
   ]
  },
  {
   "cell_type": "code",
   "execution_count": null,
   "id": "5ae85108-ce69-47df-930b-c027ccc0e752",
   "metadata": {},
   "outputs": [],
   "source": [
    "# Read feature descriptors\n",
    "X = pd.read_csv('TrkernelPCA_soap_mofs.csv')\n",
    "\n",
    "# Read labels\n",
    "y = pd.read_csv('id_labels.csv')\n"
   ]
  },
  {
   "cell_type": "code",
   "execution_count": null,
   "id": "29b95cf5-45c1-436c-9e26-35c93839a7a9",
   "metadata": {},
   "outputs": [],
   "source": [
    "print(X.shape)\n",
    "print(y.shape)"
   ]
  },
  {
   "cell_type": "code",
   "execution_count": null,
   "id": "0f0eeddb-8b5e-4c10-9116-595ed47db284",
   "metadata": {},
   "outputs": [],
   "source": [
    "X['filename'] = X['filename'].str.replace('.cif', ' ', regex=False)"
   ]
  },
  {
   "cell_type": "code",
   "execution_count": null,
   "id": "79cb4f2b-f642-43ec-8551-38e14749016b",
   "metadata": {},
   "outputs": [],
   "source": [
    "X.head()"
   ]
  },
  {
   "cell_type": "code",
   "execution_count": null,
   "id": "295b7040-138c-4a6b-887f-1683f30e468d",
   "metadata": {},
   "outputs": [],
   "source": [
    "y.head()"
   ]
  },
  {
   "cell_type": "code",
   "execution_count": null,
   "id": "dd5dcbb1-484d-4189-96af-5bfdbed009c2",
   "metadata": {},
   "outputs": [],
   "source": [
    "X.set_index('filename', inplace = True)"
   ]
  },
  {
   "cell_type": "code",
   "execution_count": null,
   "id": "7521d959-2eec-4824-bb1e-6e0ec8f9cff0",
   "metadata": {},
   "outputs": [],
   "source": [
    "y.set_index('id', inplace = True)"
   ]
  },
  {
   "cell_type": "code",
   "execution_count": null,
   "id": "025ce13b-8fcc-42fe-9fd8-703f9e9ee1cb",
   "metadata": {},
   "outputs": [],
   "source": [
    "X.sort_index(inplace=True)"
   ]
  },
  {
   "cell_type": "code",
   "execution_count": null,
   "id": "7b608a49-d4ed-44a0-a345-85c39441f375",
   "metadata": {},
   "outputs": [],
   "source": [
    "y.sort_index(inplace=True)"
   ]
  },
  {
   "cell_type": "code",
   "execution_count": null,
   "id": "eeb202d9-8e6f-4c88-9e16-a57e062d0dac",
   "metadata": {},
   "outputs": [],
   "source": [
    "print(\"Are they exactly equal?\", (X.index == y.index).all())"
   ]
  },
  {
   "cell_type": "code",
   "execution_count": null,
   "id": "d94ea12a-feeb-4751-991c-d725b00194c1",
   "metadata": {},
   "outputs": [],
   "source": [
    "X"
   ]
  },
  {
   "cell_type": "code",
   "execution_count": null,
   "id": "d57d1cd6-e05d-48ac-af5a-44eb4c251414",
   "metadata": {},
   "outputs": [],
   "source": [
    "for i in range(len(X.columns)):\n",
    "    print(i, X.columns[i])"
   ]
  },
  {
   "cell_type": "code",
   "execution_count": null,
   "id": "b8f50f89-4727-4129-8247-b05b8d44b019",
   "metadata": {},
   "outputs": [],
   "source": [
    "y"
   ]
  },
  {
   "cell_type": "code",
   "execution_count": null,
   "id": "3e3db8c4-6e25-4355-a066-0457939d62c8",
   "metadata": {},
   "outputs": [],
   "source": [
    "X_train, X_test, y_train, y_test = train_test_split(\n",
    "    X, y, test_size=0.2, random_state=42\n",
    ")"
   ]
  },
  {
   "cell_type": "code",
   "execution_count": null,
   "id": "2b681d47-c53c-4e90-8667-97c1b9c200de",
   "metadata": {},
   "outputs": [],
   "source": [
    "X"
   ]
  },
  {
   "cell_type": "code",
   "execution_count": null,
   "id": "0f964974-d579-424e-8900-f85c83665793",
   "metadata": {},
   "outputs": [],
   "source": [
    "# Step 1: Scale X\n",
    "scaler = StandardScaler()\n",
    "X_scaled = pd.DataFrame(scaler.fit_transform(X), columns=X.columns, index=X.index)\n",
    "\n",
    "# Step 2: Train-test split\n",
    "X_train, X_test, y_train, y_test = train_test_split(\n",
    "    X_scaled, y, test_size=0.2, random_state=42\n",
    ")\n",
    "\n",
    "# Step 3: Train linear regression\n",
    "model = LinearRegression()\n",
    "model.fit(X_train, y_train)\n",
    "\n",
    "# Step 4: Predict\n",
    "y_pred = model.predict(X_test)\n",
    "\n",
    "# Step 5: Evaluate\n",
    "print(\"RMSE:\", root_mean_squared_error(y_test, y_pred))\n",
    "print(\"R² Score:\", r2_score(y_test, y_pred))"
   ]
  },
  {
   "cell_type": "code",
   "execution_count": null,
   "id": "146f609e-9e06-4abc-99d8-384b59207943",
   "metadata": {},
   "outputs": [],
   "source": [
    "X_train, X_test, y_train, y_test = train_test_split(\n",
    "    X, y, test_size=0.2, random_state=42\n",
    ")\n",
    "\n",
    "# Initialize Random Forest\n",
    "rf = RandomForestRegressor(n_estimators=300, random_state=42)\n",
    "\n",
    "# Train\n",
    "rf.fit(X_train, y_train)\n",
    "\n",
    "# Predict\n",
    "y_pred_rf = rf.predict(X_test)\n",
    "\n"
   ]
  },
  {
   "cell_type": "code",
   "execution_count": null,
   "id": "268ff289-f6ae-4b15-b61e-048c6e46baab",
   "metadata": {},
   "outputs": [],
   "source": [
    "# Evaluate\n",
    "print(\"Random Forest RMSE:\", root_mean_squared_error(y_test, y_pred_rf))\n",
    "print(\"Random Forest R²:\", r2_score(y_test, y_pred_rf))"
   ]
  },
  {
   "cell_type": "code",
   "execution_count": null,
   "id": "f297c975-e96f-4190-a9ba-fa4a41aa69d8",
   "metadata": {},
   "outputs": [],
   "source": [
    "# Make a scatter plot\n",
    "plt.figure(figsize=(8, 6))\n",
    "plt.scatter(y_test, y_pred_rf, alpha=0.7)\n",
    "\n",
    "# Plot a diagonal reference line (perfect prediction)\n",
    "plt.plot([y_test.min(), y_test.max()], [y_test.min(), y_test.max()], 'k--', lw=2)\n",
    "\n",
    "# Labels\n",
    "plt.xlabel('True Values')\n",
    "plt.ylabel('Predicted Values')\n",
    "plt.title('True vs Predicted Values (Random Forest)')\n",
    "plt.grid(True)\n",
    "plt.show()"
   ]
  },
  {
   "cell_type": "code",
   "execution_count": null,
   "id": "f19972e2-ea72-4a73-b7b3-cc3b33eae52a",
   "metadata": {
    "scrolled": true
   },
   "outputs": [],
   "source": [
    "# 1. Get feature importances\n",
    "importances = rf.feature_importances_\n",
    "\n",
    "# 2. Map them to feature names\n",
    "feature_names = X.columns\n",
    "feature_importances = pd.Series(importances, index=feature_names)\n",
    "\n",
    "# 3. Sort them descending\n",
    "feature_importances = feature_importances.sort_values(ascending=False)\n",
    "\n",
    "# 4. Plot the top N features\n",
    "top_n = 20  # you can change to top 10, 20, etc.\n",
    "\n",
    "plt.figure(figsize=(10, 6))\n",
    "feature_importances[:top_n].plot(kind='barh')\n",
    "plt.gca().invert_yaxis()  # Highest importance at top\n",
    "plt.xlabel('Feature Importance')\n",
    "plt.title(f'Top {top_n} Feature Importances (Random Forest)')\n",
    "plt.grid(True)\n",
    "plt.show()"
   ]
  },
  {
   "cell_type": "code",
   "execution_count": null,
   "id": "21757ac4-4ca3-429b-ab47-d4c98e8666e8",
   "metadata": {},
   "outputs": [],
   "source": []
  },
  {
   "cell_type": "code",
   "execution_count": null,
   "id": "8f211c32-cd6d-454c-8ec2-ce1221a30b5c",
   "metadata": {},
   "outputs": [],
   "source": [
    "from pycaret.regression import *"
   ]
  },
  {
   "cell_type": "code",
   "execution_count": null,
   "id": "2a5d08aa-3433-4764-a984-8cb950693210",
   "metadata": {},
   "outputs": [],
   "source": [
    "y"
   ]
  },
  {
   "cell_type": "code",
   "execution_count": null,
   "id": "8aa6124c-8397-4ab6-82b9-fb5992cbd457",
   "metadata": {},
   "outputs": [],
   "source": [
    "data = pd.concat([X, y], axis = 1)"
   ]
  },
  {
   "cell_type": "code",
   "execution_count": null,
   "id": "ad62fdf2-d39c-4554-adc9-f76a8447d9f2",
   "metadata": {},
   "outputs": [],
   "source": [
    "data"
   ]
  },
  {
   "cell_type": "code",
   "execution_count": null,
   "id": "bd32d93f-4378-49f9-9d59-362a71cd2233",
   "metadata": {},
   "outputs": [],
   "source": [
    "data.columns"
   ]
  },
  {
   "cell_type": "code",
   "execution_count": null,
   "id": "2a84b476-c3af-4bbe-914c-60c64aee3502",
   "metadata": {},
   "outputs": [],
   "source": [
    "exp1 = setup(data, target='label', session_id=123)"
   ]
  },
  {
   "cell_type": "code",
   "execution_count": null,
   "id": "cd83df2e-7edc-4f86-943b-10f6004e38cd",
   "metadata": {},
   "outputs": [],
   "source": [
    "best_model = compare_models()"
   ]
  },
  {
   "cell_type": "code",
   "execution_count": 29,
   "id": "6a78442d-3986-42d4-879c-efac63cfd67a",
   "metadata": {},
   "outputs": [
    {
     "data": {
      "text/html": [],
      "text/plain": [
       "<IPython.core.display.HTML object>"
      ]
     },
     "metadata": {},
     "output_type": "display_data"
    },
    {
     "data": {
      "text/html": [
       "<style type=\"text/css\">\n",
       "#T_28d82_row10_col0, #T_28d82_row10_col1, #T_28d82_row10_col2, #T_28d82_row10_col3, #T_28d82_row10_col4, #T_28d82_row10_col5 {\n",
       "  background: yellow;\n",
       "}\n",
       "</style>\n",
       "<table id=\"T_28d82\">\n",
       "  <thead>\n",
       "    <tr>\n",
       "      <th class=\"blank level0\" >&nbsp;</th>\n",
       "      <th id=\"T_28d82_level0_col0\" class=\"col_heading level0 col0\" >MAE</th>\n",
       "      <th id=\"T_28d82_level0_col1\" class=\"col_heading level0 col1\" >MSE</th>\n",
       "      <th id=\"T_28d82_level0_col2\" class=\"col_heading level0 col2\" >RMSE</th>\n",
       "      <th id=\"T_28d82_level0_col3\" class=\"col_heading level0 col3\" >R2</th>\n",
       "      <th id=\"T_28d82_level0_col4\" class=\"col_heading level0 col4\" >RMSLE</th>\n",
       "      <th id=\"T_28d82_level0_col5\" class=\"col_heading level0 col5\" >MAPE</th>\n",
       "    </tr>\n",
       "    <tr>\n",
       "      <th class=\"index_name level0\" >Fold</th>\n",
       "      <th class=\"blank col0\" >&nbsp;</th>\n",
       "      <th class=\"blank col1\" >&nbsp;</th>\n",
       "      <th class=\"blank col2\" >&nbsp;</th>\n",
       "      <th class=\"blank col3\" >&nbsp;</th>\n",
       "      <th class=\"blank col4\" >&nbsp;</th>\n",
       "      <th class=\"blank col5\" >&nbsp;</th>\n",
       "    </tr>\n",
       "  </thead>\n",
       "  <tbody>\n",
       "    <tr>\n",
       "      <th id=\"T_28d82_level0_row0\" class=\"row_heading level0 row0\" >0</th>\n",
       "      <td id=\"T_28d82_row0_col0\" class=\"data row0 col0\" >3.5343</td>\n",
       "      <td id=\"T_28d82_row0_col1\" class=\"data row0 col1\" >18.3490</td>\n",
       "      <td id=\"T_28d82_row0_col2\" class=\"data row0 col2\" >4.2836</td>\n",
       "      <td id=\"T_28d82_row0_col3\" class=\"data row0 col3\" >0.7335</td>\n",
       "      <td id=\"T_28d82_row0_col4\" class=\"data row0 col4\" >0.4700</td>\n",
       "      <td id=\"T_28d82_row0_col5\" class=\"data row0 col5\" >1.3075</td>\n",
       "    </tr>\n",
       "    <tr>\n",
       "      <th id=\"T_28d82_level0_row1\" class=\"row_heading level0 row1\" >1</th>\n",
       "      <td id=\"T_28d82_row1_col0\" class=\"data row1 col0\" >3.5922</td>\n",
       "      <td id=\"T_28d82_row1_col1\" class=\"data row1 col1\" >20.0390</td>\n",
       "      <td id=\"T_28d82_row1_col2\" class=\"data row1 col2\" >4.4765</td>\n",
       "      <td id=\"T_28d82_row1_col3\" class=\"data row1 col3\" >0.6784</td>\n",
       "      <td id=\"T_28d82_row1_col4\" class=\"data row1 col4\" >0.4375</td>\n",
       "      <td id=\"T_28d82_row1_col5\" class=\"data row1 col5\" >0.5162</td>\n",
       "    </tr>\n",
       "    <tr>\n",
       "      <th id=\"T_28d82_level0_row2\" class=\"row_heading level0 row2\" >2</th>\n",
       "      <td id=\"T_28d82_row2_col0\" class=\"data row2 col0\" >3.5644</td>\n",
       "      <td id=\"T_28d82_row2_col1\" class=\"data row2 col1\" >18.6220</td>\n",
       "      <td id=\"T_28d82_row2_col2\" class=\"data row2 col2\" >4.3153</td>\n",
       "      <td id=\"T_28d82_row2_col3\" class=\"data row2 col3\" >0.7254</td>\n",
       "      <td id=\"T_28d82_row2_col4\" class=\"data row2 col4\" >0.4683</td>\n",
       "      <td id=\"T_28d82_row2_col5\" class=\"data row2 col5\" >0.6159</td>\n",
       "    </tr>\n",
       "    <tr>\n",
       "      <th id=\"T_28d82_level0_row3\" class=\"row_heading level0 row3\" >3</th>\n",
       "      <td id=\"T_28d82_row3_col0\" class=\"data row3 col0\" >3.8298</td>\n",
       "      <td id=\"T_28d82_row3_col1\" class=\"data row3 col1\" >20.1107</td>\n",
       "      <td id=\"T_28d82_row3_col2\" class=\"data row3 col2\" >4.4845</td>\n",
       "      <td id=\"T_28d82_row3_col3\" class=\"data row3 col3\" >0.6496</td>\n",
       "      <td id=\"T_28d82_row3_col4\" class=\"data row3 col4\" >0.5053</td>\n",
       "      <td id=\"T_28d82_row3_col5\" class=\"data row3 col5\" >0.7195</td>\n",
       "    </tr>\n",
       "    <tr>\n",
       "      <th id=\"T_28d82_level0_row4\" class=\"row_heading level0 row4\" >4</th>\n",
       "      <td id=\"T_28d82_row4_col0\" class=\"data row4 col0\" >3.5321</td>\n",
       "      <td id=\"T_28d82_row4_col1\" class=\"data row4 col1\" >18.7298</td>\n",
       "      <td id=\"T_28d82_row4_col2\" class=\"data row4 col2\" >4.3278</td>\n",
       "      <td id=\"T_28d82_row4_col3\" class=\"data row4 col3\" >0.6318</td>\n",
       "      <td id=\"T_28d82_row4_col4\" class=\"data row4 col4\" >0.4977</td>\n",
       "      <td id=\"T_28d82_row4_col5\" class=\"data row4 col5\" >0.6828</td>\n",
       "    </tr>\n",
       "    <tr>\n",
       "      <th id=\"T_28d82_level0_row5\" class=\"row_heading level0 row5\" >5</th>\n",
       "      <td id=\"T_28d82_row5_col0\" class=\"data row5 col0\" >3.4995</td>\n",
       "      <td id=\"T_28d82_row5_col1\" class=\"data row5 col1\" >19.3535</td>\n",
       "      <td id=\"T_28d82_row5_col2\" class=\"data row5 col2\" >4.3993</td>\n",
       "      <td id=\"T_28d82_row5_col3\" class=\"data row5 col3\" >0.6520</td>\n",
       "      <td id=\"T_28d82_row5_col4\" class=\"data row5 col4\" >0.4773</td>\n",
       "      <td id=\"T_28d82_row5_col5\" class=\"data row5 col5\" >0.6038</td>\n",
       "    </tr>\n",
       "    <tr>\n",
       "      <th id=\"T_28d82_level0_row6\" class=\"row_heading level0 row6\" >6</th>\n",
       "      <td id=\"T_28d82_row6_col0\" class=\"data row6 col0\" >3.8585</td>\n",
       "      <td id=\"T_28d82_row6_col1\" class=\"data row6 col1\" >20.6650</td>\n",
       "      <td id=\"T_28d82_row6_col2\" class=\"data row6 col2\" >4.5459</td>\n",
       "      <td id=\"T_28d82_row6_col3\" class=\"data row6 col3\" >0.6433</td>\n",
       "      <td id=\"T_28d82_row6_col4\" class=\"data row6 col4\" >0.4526</td>\n",
       "      <td id=\"T_28d82_row6_col5\" class=\"data row6 col5\" >0.5535</td>\n",
       "    </tr>\n",
       "    <tr>\n",
       "      <th id=\"T_28d82_level0_row7\" class=\"row_heading level0 row7\" >7</th>\n",
       "      <td id=\"T_28d82_row7_col0\" class=\"data row7 col0\" >3.9042</td>\n",
       "      <td id=\"T_28d82_row7_col1\" class=\"data row7 col1\" >22.7469</td>\n",
       "      <td id=\"T_28d82_row7_col2\" class=\"data row7 col2\" >4.7694</td>\n",
       "      <td id=\"T_28d82_row7_col3\" class=\"data row7 col3\" >0.6441</td>\n",
       "      <td id=\"T_28d82_row7_col4\" class=\"data row7 col4\" >0.4966</td>\n",
       "      <td id=\"T_28d82_row7_col5\" class=\"data row7 col5\" >0.6482</td>\n",
       "    </tr>\n",
       "    <tr>\n",
       "      <th id=\"T_28d82_level0_row8\" class=\"row_heading level0 row8\" >8</th>\n",
       "      <td id=\"T_28d82_row8_col0\" class=\"data row8 col0\" >3.7955</td>\n",
       "      <td id=\"T_28d82_row8_col1\" class=\"data row8 col1\" >21.0370</td>\n",
       "      <td id=\"T_28d82_row8_col2\" class=\"data row8 col2\" >4.5866</td>\n",
       "      <td id=\"T_28d82_row8_col3\" class=\"data row8 col3\" >0.6789</td>\n",
       "      <td id=\"T_28d82_row8_col4\" class=\"data row8 col4\" >0.4944</td>\n",
       "      <td id=\"T_28d82_row8_col5\" class=\"data row8 col5\" >0.6665</td>\n",
       "    </tr>\n",
       "    <tr>\n",
       "      <th id=\"T_28d82_level0_row9\" class=\"row_heading level0 row9\" >9</th>\n",
       "      <td id=\"T_28d82_row9_col0\" class=\"data row9 col0\" >3.7417</td>\n",
       "      <td id=\"T_28d82_row9_col1\" class=\"data row9 col1\" >20.5431</td>\n",
       "      <td id=\"T_28d82_row9_col2\" class=\"data row9 col2\" >4.5325</td>\n",
       "      <td id=\"T_28d82_row9_col3\" class=\"data row9 col3\" >0.6770</td>\n",
       "      <td id=\"T_28d82_row9_col4\" class=\"data row9 col4\" >0.4873</td>\n",
       "      <td id=\"T_28d82_row9_col5\" class=\"data row9 col5\" >8.3524</td>\n",
       "    </tr>\n",
       "    <tr>\n",
       "      <th id=\"T_28d82_level0_row10\" class=\"row_heading level0 row10\" >Mean</th>\n",
       "      <td id=\"T_28d82_row10_col0\" class=\"data row10 col0\" >3.6852</td>\n",
       "      <td id=\"T_28d82_row10_col1\" class=\"data row10 col1\" >20.0196</td>\n",
       "      <td id=\"T_28d82_row10_col2\" class=\"data row10 col2\" >4.4721</td>\n",
       "      <td id=\"T_28d82_row10_col3\" class=\"data row10 col3\" >0.6714</td>\n",
       "      <td id=\"T_28d82_row10_col4\" class=\"data row10 col4\" >0.4787</td>\n",
       "      <td id=\"T_28d82_row10_col5\" class=\"data row10 col5\" >1.4666</td>\n",
       "    </tr>\n",
       "    <tr>\n",
       "      <th id=\"T_28d82_level0_row11\" class=\"row_heading level0 row11\" >Std</th>\n",
       "      <td id=\"T_28d82_row11_col0\" class=\"data row11 col0\" >0.1477</td>\n",
       "      <td id=\"T_28d82_row11_col1\" class=\"data row11 col1\" >1.2659</td>\n",
       "      <td id=\"T_28d82_row11_col2\" class=\"data row11 col2\" >0.1404</td>\n",
       "      <td id=\"T_28d82_row11_col3\" class=\"data row11 col3\" >0.0330</td>\n",
       "      <td id=\"T_28d82_row11_col4\" class=\"data row11 col4\" >0.0207</td>\n",
       "      <td id=\"T_28d82_row11_col5\" class=\"data row11 col5\" >2.3049</td>\n",
       "    </tr>\n",
       "  </tbody>\n",
       "</table>\n"
      ],
      "text/plain": [
       "<pandas.io.formats.style.Styler at 0x1554a7dcc400>"
      ]
     },
     "metadata": {},
     "output_type": "display_data"
    },
    {
     "data": {
      "text/html": [],
      "text/plain": [
       "<IPython.core.display.HTML object>"
      ]
     },
     "metadata": {},
     "output_type": "display_data"
    },
    {
     "name": "stdout",
     "output_type": "stream",
     "text": [
      "Fitting 10 folds for each of 10 candidates, totalling 100 fits\n",
      "Original model was better than the tuned model, hence it will be returned. NOTE: The display metrics are for the tuned model (not the original one).\n"
     ]
    }
   ],
   "source": [
    "tuned_model_et = tune_model(best_model)"
   ]
  },
  {
   "cell_type": "code",
   "execution_count": 30,
   "id": "1de76f9b-4c0b-4677-be45-745cd08b900f",
   "metadata": {},
   "outputs": [
    {
     "data": {
      "text/html": [],
      "text/plain": [
       "<IPython.core.display.HTML object>"
      ]
     },
     "metadata": {},
     "output_type": "display_data"
    },
    {
     "data": {
      "text/html": [
       "<style type=\"text/css\">\n",
       "#T_99ab2_row10_col0, #T_99ab2_row10_col1, #T_99ab2_row10_col2, #T_99ab2_row10_col3, #T_99ab2_row10_col4, #T_99ab2_row10_col5 {\n",
       "  background: yellow;\n",
       "}\n",
       "</style>\n",
       "<table id=\"T_99ab2\">\n",
       "  <thead>\n",
       "    <tr>\n",
       "      <th class=\"blank level0\" >&nbsp;</th>\n",
       "      <th id=\"T_99ab2_level0_col0\" class=\"col_heading level0 col0\" >MAE</th>\n",
       "      <th id=\"T_99ab2_level0_col1\" class=\"col_heading level0 col1\" >MSE</th>\n",
       "      <th id=\"T_99ab2_level0_col2\" class=\"col_heading level0 col2\" >RMSE</th>\n",
       "      <th id=\"T_99ab2_level0_col3\" class=\"col_heading level0 col3\" >R2</th>\n",
       "      <th id=\"T_99ab2_level0_col4\" class=\"col_heading level0 col4\" >RMSLE</th>\n",
       "      <th id=\"T_99ab2_level0_col5\" class=\"col_heading level0 col5\" >MAPE</th>\n",
       "    </tr>\n",
       "    <tr>\n",
       "      <th class=\"index_name level0\" >Fold</th>\n",
       "      <th class=\"blank col0\" >&nbsp;</th>\n",
       "      <th class=\"blank col1\" >&nbsp;</th>\n",
       "      <th class=\"blank col2\" >&nbsp;</th>\n",
       "      <th class=\"blank col3\" >&nbsp;</th>\n",
       "      <th class=\"blank col4\" >&nbsp;</th>\n",
       "      <th class=\"blank col5\" >&nbsp;</th>\n",
       "    </tr>\n",
       "  </thead>\n",
       "  <tbody>\n",
       "    <tr>\n",
       "      <th id=\"T_99ab2_level0_row0\" class=\"row_heading level0 row0\" >0</th>\n",
       "      <td id=\"T_99ab2_row0_col0\" class=\"data row0 col0\" >3.0999</td>\n",
       "      <td id=\"T_99ab2_row0_col1\" class=\"data row0 col1\" >15.9708</td>\n",
       "      <td id=\"T_99ab2_row0_col2\" class=\"data row0 col2\" >3.9964</td>\n",
       "      <td id=\"T_99ab2_row0_col3\" class=\"data row0 col3\" >0.7681</td>\n",
       "      <td id=\"T_99ab2_row0_col4\" class=\"data row0 col4\" >0.4323</td>\n",
       "      <td id=\"T_99ab2_row0_col5\" class=\"data row0 col5\" >1.1246</td>\n",
       "    </tr>\n",
       "    <tr>\n",
       "      <th id=\"T_99ab2_level0_row1\" class=\"row_heading level0 row1\" >1</th>\n",
       "      <td id=\"T_99ab2_row1_col0\" class=\"data row1 col0\" >2.8943</td>\n",
       "      <td id=\"T_99ab2_row1_col1\" class=\"data row1 col1\" >14.4239</td>\n",
       "      <td id=\"T_99ab2_row1_col2\" class=\"data row1 col2\" >3.7979</td>\n",
       "      <td id=\"T_99ab2_row1_col3\" class=\"data row1 col3\" >0.7685</td>\n",
       "      <td id=\"T_99ab2_row1_col4\" class=\"data row1 col4\" >0.3732</td>\n",
       "      <td id=\"T_99ab2_row1_col5\" class=\"data row1 col5\" >0.3972</td>\n",
       "    </tr>\n",
       "    <tr>\n",
       "      <th id=\"T_99ab2_level0_row2\" class=\"row_heading level0 row2\" >2</th>\n",
       "      <td id=\"T_99ab2_row2_col0\" class=\"data row2 col0\" >3.0284</td>\n",
       "      <td id=\"T_99ab2_row2_col1\" class=\"data row2 col1\" >14.7340</td>\n",
       "      <td id=\"T_99ab2_row2_col2\" class=\"data row2 col2\" >3.8385</td>\n",
       "      <td id=\"T_99ab2_row2_col3\" class=\"data row2 col3\" >0.7828</td>\n",
       "      <td id=\"T_99ab2_row2_col4\" class=\"data row2 col4\" >0.4119</td>\n",
       "      <td id=\"T_99ab2_row2_col5\" class=\"data row2 col5\" >0.4941</td>\n",
       "    </tr>\n",
       "    <tr>\n",
       "      <th id=\"T_99ab2_level0_row3\" class=\"row_heading level0 row3\" >3</th>\n",
       "      <td id=\"T_99ab2_row3_col0\" class=\"data row3 col0\" >3.2801</td>\n",
       "      <td id=\"T_99ab2_row3_col1\" class=\"data row3 col1\" >16.5426</td>\n",
       "      <td id=\"T_99ab2_row3_col2\" class=\"data row3 col2\" >4.0673</td>\n",
       "      <td id=\"T_99ab2_row3_col3\" class=\"data row3 col3\" >0.7118</td>\n",
       "      <td id=\"T_99ab2_row3_col4\" class=\"data row3 col4\" >0.4563</td>\n",
       "      <td id=\"T_99ab2_row3_col5\" class=\"data row3 col5\" >0.6105</td>\n",
       "    </tr>\n",
       "    <tr>\n",
       "      <th id=\"T_99ab2_level0_row4\" class=\"row_heading level0 row4\" >4</th>\n",
       "      <td id=\"T_99ab2_row4_col0\" class=\"data row4 col0\" >3.0029</td>\n",
       "      <td id=\"T_99ab2_row4_col1\" class=\"data row4 col1\" >15.9591</td>\n",
       "      <td id=\"T_99ab2_row4_col2\" class=\"data row4 col2\" >3.9949</td>\n",
       "      <td id=\"T_99ab2_row4_col3\" class=\"data row4 col3\" >0.6863</td>\n",
       "      <td id=\"T_99ab2_row4_col4\" class=\"data row4 col4\" >0.4548</td>\n",
       "      <td id=\"T_99ab2_row4_col5\" class=\"data row4 col5\" >0.5612</td>\n",
       "    </tr>\n",
       "    <tr>\n",
       "      <th id=\"T_99ab2_level0_row5\" class=\"row_heading level0 row5\" >5</th>\n",
       "      <td id=\"T_99ab2_row5_col0\" class=\"data row5 col0\" >2.8216</td>\n",
       "      <td id=\"T_99ab2_row5_col1\" class=\"data row5 col1\" >13.3719</td>\n",
       "      <td id=\"T_99ab2_row5_col2\" class=\"data row5 col2\" >3.6568</td>\n",
       "      <td id=\"T_99ab2_row5_col3\" class=\"data row5 col3\" >0.7596</td>\n",
       "      <td id=\"T_99ab2_row5_col4\" class=\"data row5 col4\" >0.4192</td>\n",
       "      <td id=\"T_99ab2_row5_col5\" class=\"data row5 col5\" >0.4926</td>\n",
       "    </tr>\n",
       "    <tr>\n",
       "      <th id=\"T_99ab2_level0_row6\" class=\"row_heading level0 row6\" >6</th>\n",
       "      <td id=\"T_99ab2_row6_col0\" class=\"data row6 col0\" >3.3271</td>\n",
       "      <td id=\"T_99ab2_row6_col1\" class=\"data row6 col1\" >17.7651</td>\n",
       "      <td id=\"T_99ab2_row6_col2\" class=\"data row6 col2\" >4.2149</td>\n",
       "      <td id=\"T_99ab2_row6_col3\" class=\"data row6 col3\" >0.6933</td>\n",
       "      <td id=\"T_99ab2_row6_col4\" class=\"data row6 col4\" >0.4196</td>\n",
       "      <td id=\"T_99ab2_row6_col5\" class=\"data row6 col5\" >0.4515</td>\n",
       "    </tr>\n",
       "    <tr>\n",
       "      <th id=\"T_99ab2_level0_row7\" class=\"row_heading level0 row7\" >7</th>\n",
       "      <td id=\"T_99ab2_row7_col0\" class=\"data row7 col0\" >3.2215</td>\n",
       "      <td id=\"T_99ab2_row7_col1\" class=\"data row7 col1\" >17.0039</td>\n",
       "      <td id=\"T_99ab2_row7_col2\" class=\"data row7 col2\" >4.1236</td>\n",
       "      <td id=\"T_99ab2_row7_col3\" class=\"data row7 col3\" >0.7340</td>\n",
       "      <td id=\"T_99ab2_row7_col4\" class=\"data row7 col4\" >0.4442</td>\n",
       "      <td id=\"T_99ab2_row7_col5\" class=\"data row7 col5\" >0.5461</td>\n",
       "    </tr>\n",
       "    <tr>\n",
       "      <th id=\"T_99ab2_level0_row8\" class=\"row_heading level0 row8\" >8</th>\n",
       "      <td id=\"T_99ab2_row8_col0\" class=\"data row8 col0\" >3.1477</td>\n",
       "      <td id=\"T_99ab2_row8_col1\" class=\"data row8 col1\" >16.3419</td>\n",
       "      <td id=\"T_99ab2_row8_col2\" class=\"data row8 col2\" >4.0425</td>\n",
       "      <td id=\"T_99ab2_row8_col3\" class=\"data row8 col3\" >0.7506</td>\n",
       "      <td id=\"T_99ab2_row8_col4\" class=\"data row8 col4\" >0.4367</td>\n",
       "      <td id=\"T_99ab2_row8_col5\" class=\"data row8 col5\" >0.5292</td>\n",
       "    </tr>\n",
       "    <tr>\n",
       "      <th id=\"T_99ab2_level0_row9\" class=\"row_heading level0 row9\" >9</th>\n",
       "      <td id=\"T_99ab2_row9_col0\" class=\"data row9 col0\" >3.1663</td>\n",
       "      <td id=\"T_99ab2_row9_col1\" class=\"data row9 col1\" >16.9190</td>\n",
       "      <td id=\"T_99ab2_row9_col2\" class=\"data row9 col2\" >4.1133</td>\n",
       "      <td id=\"T_99ab2_row9_col3\" class=\"data row9 col3\" >0.7340</td>\n",
       "      <td id=\"T_99ab2_row9_col4\" class=\"data row9 col4\" >0.4317</td>\n",
       "      <td id=\"T_99ab2_row9_col5\" class=\"data row9 col5\" >8.5422</td>\n",
       "    </tr>\n",
       "    <tr>\n",
       "      <th id=\"T_99ab2_level0_row10\" class=\"row_heading level0 row10\" >Mean</th>\n",
       "      <td id=\"T_99ab2_row10_col0\" class=\"data row10 col0\" >3.0990</td>\n",
       "      <td id=\"T_99ab2_row10_col1\" class=\"data row10 col1\" >15.9032</td>\n",
       "      <td id=\"T_99ab2_row10_col2\" class=\"data row10 col2\" >3.9846</td>\n",
       "      <td id=\"T_99ab2_row10_col3\" class=\"data row10 col3\" >0.7389</td>\n",
       "      <td id=\"T_99ab2_row10_col4\" class=\"data row10 col4\" >0.4280</td>\n",
       "      <td id=\"T_99ab2_row10_col5\" class=\"data row10 col5\" >1.3749</td>\n",
       "    </tr>\n",
       "    <tr>\n",
       "      <th id=\"T_99ab2_level0_row11\" class=\"row_heading level0 row11\" >Std</th>\n",
       "      <td id=\"T_99ab2_row11_col0\" class=\"data row11 col0\" >0.1549</td>\n",
       "      <td id=\"T_99ab2_row11_col1\" class=\"data row11 col1\" >1.2760</td>\n",
       "      <td id=\"T_99ab2_row11_col2\" class=\"data row11 col2\" >0.1622</td>\n",
       "      <td id=\"T_99ab2_row11_col3\" class=\"data row11 col3\" >0.0314</td>\n",
       "      <td id=\"T_99ab2_row11_col4\" class=\"data row11 col4\" >0.0230</td>\n",
       "      <td id=\"T_99ab2_row11_col5\" class=\"data row11 col5\" >2.3967</td>\n",
       "    </tr>\n",
       "  </tbody>\n",
       "</table>\n"
      ],
      "text/plain": [
       "<pandas.io.formats.style.Styler at 0x15549c2fc700>"
      ]
     },
     "metadata": {},
     "output_type": "display_data"
    },
    {
     "data": {
      "text/html": [],
      "text/plain": [
       "<IPython.core.display.HTML object>"
      ]
     },
     "metadata": {},
     "output_type": "display_data"
    },
    {
     "data": {
      "text/html": [],
      "text/plain": [
       "<IPython.core.display.HTML object>"
      ]
     },
     "metadata": {},
     "output_type": "display_data"
    },
    {
     "data": {
      "text/html": [
       "<style type=\"text/css\">\n",
       "#T_427e2_row10_col0, #T_427e2_row10_col1, #T_427e2_row10_col2, #T_427e2_row10_col3, #T_427e2_row10_col4, #T_427e2_row10_col5 {\n",
       "  background: yellow;\n",
       "}\n",
       "</style>\n",
       "<table id=\"T_427e2\">\n",
       "  <thead>\n",
       "    <tr>\n",
       "      <th class=\"blank level0\" >&nbsp;</th>\n",
       "      <th id=\"T_427e2_level0_col0\" class=\"col_heading level0 col0\" >MAE</th>\n",
       "      <th id=\"T_427e2_level0_col1\" class=\"col_heading level0 col1\" >MSE</th>\n",
       "      <th id=\"T_427e2_level0_col2\" class=\"col_heading level0 col2\" >RMSE</th>\n",
       "      <th id=\"T_427e2_level0_col3\" class=\"col_heading level0 col3\" >R2</th>\n",
       "      <th id=\"T_427e2_level0_col4\" class=\"col_heading level0 col4\" >RMSLE</th>\n",
       "      <th id=\"T_427e2_level0_col5\" class=\"col_heading level0 col5\" >MAPE</th>\n",
       "    </tr>\n",
       "    <tr>\n",
       "      <th class=\"index_name level0\" >Fold</th>\n",
       "      <th class=\"blank col0\" >&nbsp;</th>\n",
       "      <th class=\"blank col1\" >&nbsp;</th>\n",
       "      <th class=\"blank col2\" >&nbsp;</th>\n",
       "      <th class=\"blank col3\" >&nbsp;</th>\n",
       "      <th class=\"blank col4\" >&nbsp;</th>\n",
       "      <th class=\"blank col5\" >&nbsp;</th>\n",
       "    </tr>\n",
       "  </thead>\n",
       "  <tbody>\n",
       "    <tr>\n",
       "      <th id=\"T_427e2_level0_row0\" class=\"row_heading level0 row0\" >0</th>\n",
       "      <td id=\"T_427e2_row0_col0\" class=\"data row0 col0\" >3.3451</td>\n",
       "      <td id=\"T_427e2_row0_col1\" class=\"data row0 col1\" >16.9408</td>\n",
       "      <td id=\"T_427e2_row0_col2\" class=\"data row0 col2\" >4.1159</td>\n",
       "      <td id=\"T_427e2_row0_col3\" class=\"data row0 col3\" >0.7540</td>\n",
       "      <td id=\"T_427e2_row0_col4\" class=\"data row0 col4\" >0.4408</td>\n",
       "      <td id=\"T_427e2_row0_col5\" class=\"data row0 col5\" >1.0795</td>\n",
       "    </tr>\n",
       "    <tr>\n",
       "      <th id=\"T_427e2_level0_row1\" class=\"row_heading level0 row1\" >1</th>\n",
       "      <td id=\"T_427e2_row1_col0\" class=\"data row1 col0\" >3.2650</td>\n",
       "      <td id=\"T_427e2_row1_col1\" class=\"data row1 col1\" >17.0359</td>\n",
       "      <td id=\"T_427e2_row1_col2\" class=\"data row1 col2\" >4.1275</td>\n",
       "      <td id=\"T_427e2_row1_col3\" class=\"data row1 col3\" >0.7266</td>\n",
       "      <td id=\"T_427e2_row1_col4\" class=\"data row1 col4\" >0.4030</td>\n",
       "      <td id=\"T_427e2_row1_col5\" class=\"data row1 col5\" >0.4509</td>\n",
       "    </tr>\n",
       "    <tr>\n",
       "      <th id=\"T_427e2_level0_row2\" class=\"row_heading level0 row2\" >2</th>\n",
       "      <td id=\"T_427e2_row2_col0\" class=\"data row2 col0\" >3.2213</td>\n",
       "      <td id=\"T_427e2_row2_col1\" class=\"data row2 col1\" >15.9140</td>\n",
       "      <td id=\"T_427e2_row2_col2\" class=\"data row2 col2\" >3.9892</td>\n",
       "      <td id=\"T_427e2_row2_col3\" class=\"data row2 col3\" >0.7654</td>\n",
       "      <td id=\"T_427e2_row2_col4\" class=\"data row2 col4\" >0.4320</td>\n",
       "      <td id=\"T_427e2_row2_col5\" class=\"data row2 col5\" >0.5378</td>\n",
       "    </tr>\n",
       "    <tr>\n",
       "      <th id=\"T_427e2_level0_row3\" class=\"row_heading level0 row3\" >3</th>\n",
       "      <td id=\"T_427e2_row3_col0\" class=\"data row3 col0\" >3.5531</td>\n",
       "      <td id=\"T_427e2_row3_col1\" class=\"data row3 col1\" >18.4848</td>\n",
       "      <td id=\"T_427e2_row3_col2\" class=\"data row3 col2\" >4.2994</td>\n",
       "      <td id=\"T_427e2_row3_col3\" class=\"data row3 col3\" >0.6780</td>\n",
       "      <td id=\"T_427e2_row3_col4\" class=\"data row3 col4\" >0.4792</td>\n",
       "      <td id=\"T_427e2_row3_col5\" class=\"data row3 col5\" >0.6567</td>\n",
       "    </tr>\n",
       "    <tr>\n",
       "      <th id=\"T_427e2_level0_row4\" class=\"row_heading level0 row4\" >4</th>\n",
       "      <td id=\"T_427e2_row4_col0\" class=\"data row4 col0\" >3.3379</td>\n",
       "      <td id=\"T_427e2_row4_col1\" class=\"data row4 col1\" >18.1670</td>\n",
       "      <td id=\"T_427e2_row4_col2\" class=\"data row4 col2\" >4.2623</td>\n",
       "      <td id=\"T_427e2_row4_col3\" class=\"data row4 col3\" >0.6428</td>\n",
       "      <td id=\"T_427e2_row4_col4\" class=\"data row4 col4\" >0.4826</td>\n",
       "      <td id=\"T_427e2_row4_col5\" class=\"data row4 col5\" >0.6245</td>\n",
       "    </tr>\n",
       "    <tr>\n",
       "      <th id=\"T_427e2_level0_row5\" class=\"row_heading level0 row5\" >5</th>\n",
       "      <td id=\"T_427e2_row5_col0\" class=\"data row5 col0\" >3.1314</td>\n",
       "      <td id=\"T_427e2_row5_col1\" class=\"data row5 col1\" >15.5981</td>\n",
       "      <td id=\"T_427e2_row5_col2\" class=\"data row5 col2\" >3.9494</td>\n",
       "      <td id=\"T_427e2_row5_col3\" class=\"data row5 col3\" >0.7195</td>\n",
       "      <td id=\"T_427e2_row5_col4\" class=\"data row5 col4\" >0.4456</td>\n",
       "      <td id=\"T_427e2_row5_col5\" class=\"data row5 col5\" >0.5406</td>\n",
       "    </tr>\n",
       "    <tr>\n",
       "      <th id=\"T_427e2_level0_row6\" class=\"row_heading level0 row6\" >6</th>\n",
       "      <td id=\"T_427e2_row6_col0\" class=\"data row6 col0\" >3.6272</td>\n",
       "      <td id=\"T_427e2_row6_col1\" class=\"data row6 col1\" >19.2517</td>\n",
       "      <td id=\"T_427e2_row6_col2\" class=\"data row6 col2\" >4.3877</td>\n",
       "      <td id=\"T_427e2_row6_col3\" class=\"data row6 col3\" >0.6677</td>\n",
       "      <td id=\"T_427e2_row6_col4\" class=\"data row6 col4\" >0.4360</td>\n",
       "      <td id=\"T_427e2_row6_col5\" class=\"data row6 col5\" >0.5064</td>\n",
       "    </tr>\n",
       "    <tr>\n",
       "      <th id=\"T_427e2_level0_row7\" class=\"row_heading level0 row7\" >7</th>\n",
       "      <td id=\"T_427e2_row7_col0\" class=\"data row7 col0\" >3.4877</td>\n",
       "      <td id=\"T_427e2_row7_col1\" class=\"data row7 col1\" >19.1978</td>\n",
       "      <td id=\"T_427e2_row7_col2\" class=\"data row7 col2\" >4.3815</td>\n",
       "      <td id=\"T_427e2_row7_col3\" class=\"data row7 col3\" >0.6997</td>\n",
       "      <td id=\"T_427e2_row7_col4\" class=\"data row7 col4\" >0.4616</td>\n",
       "      <td id=\"T_427e2_row7_col5\" class=\"data row7 col5\" >0.5710</td>\n",
       "    </tr>\n",
       "    <tr>\n",
       "      <th id=\"T_427e2_level0_row8\" class=\"row_heading level0 row8\" >8</th>\n",
       "      <td id=\"T_427e2_row8_col0\" class=\"data row8 col0\" >3.4752</td>\n",
       "      <td id=\"T_427e2_row8_col1\" class=\"data row8 col1\" >18.8366</td>\n",
       "      <td id=\"T_427e2_row8_col2\" class=\"data row8 col2\" >4.3401</td>\n",
       "      <td id=\"T_427e2_row8_col3\" class=\"data row8 col3\" >0.7125</td>\n",
       "      <td id=\"T_427e2_row8_col4\" class=\"data row8 col4\" >0.4635</td>\n",
       "      <td id=\"T_427e2_row8_col5\" class=\"data row8 col5\" >0.5888</td>\n",
       "    </tr>\n",
       "    <tr>\n",
       "      <th id=\"T_427e2_level0_row9\" class=\"row_heading level0 row9\" >9</th>\n",
       "      <td id=\"T_427e2_row9_col0\" class=\"data row9 col0\" >3.4266</td>\n",
       "      <td id=\"T_427e2_row9_col1\" class=\"data row9 col1\" >18.5222</td>\n",
       "      <td id=\"T_427e2_row9_col2\" class=\"data row9 col2\" >4.3037</td>\n",
       "      <td id=\"T_427e2_row9_col3\" class=\"data row9 col3\" >0.7088</td>\n",
       "      <td id=\"T_427e2_row9_col4\" class=\"data row9 col4\" >0.4528</td>\n",
       "      <td id=\"T_427e2_row9_col5\" class=\"data row9 col5\" >8.6780</td>\n",
       "    </tr>\n",
       "    <tr>\n",
       "      <th id=\"T_427e2_level0_row10\" class=\"row_heading level0 row10\" >Mean</th>\n",
       "      <td id=\"T_427e2_row10_col0\" class=\"data row10 col0\" >3.3870</td>\n",
       "      <td id=\"T_427e2_row10_col1\" class=\"data row10 col1\" >17.7949</td>\n",
       "      <td id=\"T_427e2_row10_col2\" class=\"data row10 col2\" >4.2157</td>\n",
       "      <td id=\"T_427e2_row10_col3\" class=\"data row10 col3\" >0.7075</td>\n",
       "      <td id=\"T_427e2_row10_col4\" class=\"data row10 col4\" >0.4497</td>\n",
       "      <td id=\"T_427e2_row10_col5\" class=\"data row10 col5\" >1.4234</td>\n",
       "    </tr>\n",
       "    <tr>\n",
       "      <th id=\"T_427e2_level0_row11\" class=\"row_heading level0 row11\" >Std</th>\n",
       "      <td id=\"T_427e2_row11_col0\" class=\"data row11 col0\" >0.1472</td>\n",
       "      <td id=\"T_427e2_row11_col1\" class=\"data row11 col1\" >1.2644</td>\n",
       "      <td id=\"T_427e2_row11_col2\" class=\"data row11 col2\" >0.1515</td>\n",
       "      <td id=\"T_427e2_row11_col3\" class=\"data row11 col3\" >0.0357</td>\n",
       "      <td id=\"T_427e2_row11_col4\" class=\"data row11 col4\" >0.0225</td>\n",
       "      <td id=\"T_427e2_row11_col5\" class=\"data row11 col5\" >2.4238</td>\n",
       "    </tr>\n",
       "  </tbody>\n",
       "</table>\n"
      ],
      "text/plain": [
       "<pandas.io.formats.style.Styler at 0x1554a9174a00>"
      ]
     },
     "metadata": {},
     "output_type": "display_data"
    },
    {
     "data": {
      "text/html": [],
      "text/plain": [
       "<IPython.core.display.HTML object>"
      ]
     },
     "metadata": {},
     "output_type": "display_data"
    },
    {
     "name": "stdout",
     "output_type": "stream",
     "text": [
      "Fitting 10 folds for each of 10 candidates, totalling 100 fits\n",
      "Original model was better than the tuned model, hence it will be returned. NOTE: The display metrics are for the tuned model (not the original one).\n"
     ]
    }
   ],
   "source": [
    "tuned_model_rf = tune_model(create_model('rf'))"
   ]
  },
  {
   "cell_type": "code",
   "execution_count": 31,
   "id": "87e49ef7-2162-439f-8ecb-f4da455de181",
   "metadata": {},
   "outputs": [
    {
     "data": {
      "text/html": [],
      "text/plain": [
       "<IPython.core.display.HTML object>"
      ]
     },
     "metadata": {},
     "output_type": "display_data"
    },
    {
     "data": {
      "text/html": [
       "<style type=\"text/css\">\n",
       "#T_ac1e2_row10_col0, #T_ac1e2_row10_col1, #T_ac1e2_row10_col2, #T_ac1e2_row10_col3, #T_ac1e2_row10_col4, #T_ac1e2_row10_col5 {\n",
       "  background: yellow;\n",
       "}\n",
       "</style>\n",
       "<table id=\"T_ac1e2\">\n",
       "  <thead>\n",
       "    <tr>\n",
       "      <th class=\"blank level0\" >&nbsp;</th>\n",
       "      <th id=\"T_ac1e2_level0_col0\" class=\"col_heading level0 col0\" >MAE</th>\n",
       "      <th id=\"T_ac1e2_level0_col1\" class=\"col_heading level0 col1\" >MSE</th>\n",
       "      <th id=\"T_ac1e2_level0_col2\" class=\"col_heading level0 col2\" >RMSE</th>\n",
       "      <th id=\"T_ac1e2_level0_col3\" class=\"col_heading level0 col3\" >R2</th>\n",
       "      <th id=\"T_ac1e2_level0_col4\" class=\"col_heading level0 col4\" >RMSLE</th>\n",
       "      <th id=\"T_ac1e2_level0_col5\" class=\"col_heading level0 col5\" >MAPE</th>\n",
       "    </tr>\n",
       "    <tr>\n",
       "      <th class=\"index_name level0\" >Fold</th>\n",
       "      <th class=\"blank col0\" >&nbsp;</th>\n",
       "      <th class=\"blank col1\" >&nbsp;</th>\n",
       "      <th class=\"blank col2\" >&nbsp;</th>\n",
       "      <th class=\"blank col3\" >&nbsp;</th>\n",
       "      <th class=\"blank col4\" >&nbsp;</th>\n",
       "      <th class=\"blank col5\" >&nbsp;</th>\n",
       "    </tr>\n",
       "  </thead>\n",
       "  <tbody>\n",
       "    <tr>\n",
       "      <th id=\"T_ac1e2_level0_row0\" class=\"row_heading level0 row0\" >0</th>\n",
       "      <td id=\"T_ac1e2_row0_col0\" class=\"data row0 col0\" >3.1947</td>\n",
       "      <td id=\"T_ac1e2_row0_col1\" class=\"data row0 col1\" >17.1262</td>\n",
       "      <td id=\"T_ac1e2_row0_col2\" class=\"data row0 col2\" >4.1384</td>\n",
       "      <td id=\"T_ac1e2_row0_col3\" class=\"data row0 col3\" >0.7513</td>\n",
       "      <td id=\"T_ac1e2_row0_col4\" class=\"data row0 col4\" >0.4338</td>\n",
       "      <td id=\"T_ac1e2_row0_col5\" class=\"data row0 col5\" >0.9580</td>\n",
       "    </tr>\n",
       "    <tr>\n",
       "      <th id=\"T_ac1e2_level0_row1\" class=\"row_heading level0 row1\" >1</th>\n",
       "      <td id=\"T_ac1e2_row1_col0\" class=\"data row1 col0\" >2.7889</td>\n",
       "      <td id=\"T_ac1e2_row1_col1\" class=\"data row1 col1\" >14.8557</td>\n",
       "      <td id=\"T_ac1e2_row1_col2\" class=\"data row1 col2\" >3.8543</td>\n",
       "      <td id=\"T_ac1e2_row1_col3\" class=\"data row1 col3\" >0.7616</td>\n",
       "      <td id=\"T_ac1e2_row1_col4\" class=\"data row1 col4\" >0.3704</td>\n",
       "      <td id=\"T_ac1e2_row1_col5\" class=\"data row1 col5\" >0.3494</td>\n",
       "    </tr>\n",
       "    <tr>\n",
       "      <th id=\"T_ac1e2_level0_row2\" class=\"row_heading level0 row2\" >2</th>\n",
       "      <td id=\"T_ac1e2_row2_col0\" class=\"data row2 col0\" >3.0203</td>\n",
       "      <td id=\"T_ac1e2_row2_col1\" class=\"data row2 col1\" >17.2838</td>\n",
       "      <td id=\"T_ac1e2_row2_col2\" class=\"data row2 col2\" >4.1574</td>\n",
       "      <td id=\"T_ac1e2_row2_col3\" class=\"data row2 col3\" >0.7452</td>\n",
       "      <td id=\"T_ac1e2_row2_col4\" class=\"data row2 col4\" >0.4318</td>\n",
       "      <td id=\"T_ac1e2_row2_col5\" class=\"data row2 col5\" >0.4934</td>\n",
       "    </tr>\n",
       "    <tr>\n",
       "      <th id=\"T_ac1e2_level0_row3\" class=\"row_heading level0 row3\" >3</th>\n",
       "      <td id=\"T_ac1e2_row3_col0\" class=\"data row3 col0\" >3.3165</td>\n",
       "      <td id=\"T_ac1e2_row3_col1\" class=\"data row3 col1\" >18.5206</td>\n",
       "      <td id=\"T_ac1e2_row3_col2\" class=\"data row3 col2\" >4.3036</td>\n",
       "      <td id=\"T_ac1e2_row3_col3\" class=\"data row3 col3\" >0.6773</td>\n",
       "      <td id=\"T_ac1e2_row3_col4\" class=\"data row3 col4\" >0.4791</td>\n",
       "      <td id=\"T_ac1e2_row3_col5\" class=\"data row3 col5\" >0.5848</td>\n",
       "    </tr>\n",
       "    <tr>\n",
       "      <th id=\"T_ac1e2_level0_row4\" class=\"row_heading level0 row4\" >4</th>\n",
       "      <td id=\"T_ac1e2_row4_col0\" class=\"data row4 col0\" >3.2490</td>\n",
       "      <td id=\"T_ac1e2_row4_col1\" class=\"data row4 col1\" >18.5421</td>\n",
       "      <td id=\"T_ac1e2_row4_col2\" class=\"data row4 col2\" >4.3061</td>\n",
       "      <td id=\"T_ac1e2_row4_col3\" class=\"data row4 col3\" >0.6355</td>\n",
       "      <td id=\"T_ac1e2_row4_col4\" class=\"data row4 col4\" >0.4777</td>\n",
       "      <td id=\"T_ac1e2_row4_col5\" class=\"data row4 col5\" >0.5459</td>\n",
       "    </tr>\n",
       "    <tr>\n",
       "      <th id=\"T_ac1e2_level0_row5\" class=\"row_heading level0 row5\" >5</th>\n",
       "      <td id=\"T_ac1e2_row5_col0\" class=\"data row5 col0\" >2.9294</td>\n",
       "      <td id=\"T_ac1e2_row5_col1\" class=\"data row5 col1\" >13.6559</td>\n",
       "      <td id=\"T_ac1e2_row5_col2\" class=\"data row5 col2\" >3.6954</td>\n",
       "      <td id=\"T_ac1e2_row5_col3\" class=\"data row5 col3\" >0.7545</td>\n",
       "      <td id=\"T_ac1e2_row5_col4\" class=\"data row5 col4\" >0.4071</td>\n",
       "      <td id=\"T_ac1e2_row5_col5\" class=\"data row5 col5\" >0.4581</td>\n",
       "    </tr>\n",
       "    <tr>\n",
       "      <th id=\"T_ac1e2_level0_row6\" class=\"row_heading level0 row6\" >6</th>\n",
       "      <td id=\"T_ac1e2_row6_col0\" class=\"data row6 col0\" >3.4868</td>\n",
       "      <td id=\"T_ac1e2_row6_col1\" class=\"data row6 col1\" >20.8753</td>\n",
       "      <td id=\"T_ac1e2_row6_col2\" class=\"data row6 col2\" >4.5690</td>\n",
       "      <td id=\"T_ac1e2_row6_col3\" class=\"data row6 col3\" >0.6396</td>\n",
       "      <td id=\"T_ac1e2_row6_col4\" class=\"data row6 col4\" >0.4622</td>\n",
       "      <td id=\"T_ac1e2_row6_col5\" class=\"data row6 col5\" >0.4964</td>\n",
       "    </tr>\n",
       "    <tr>\n",
       "      <th id=\"T_ac1e2_level0_row7\" class=\"row_heading level0 row7\" >7</th>\n",
       "      <td id=\"T_ac1e2_row7_col0\" class=\"data row7 col0\" >3.2382</td>\n",
       "      <td id=\"T_ac1e2_row7_col1\" class=\"data row7 col1\" >17.5682</td>\n",
       "      <td id=\"T_ac1e2_row7_col2\" class=\"data row7 col2\" >4.1914</td>\n",
       "      <td id=\"T_ac1e2_row7_col3\" class=\"data row7 col3\" >0.7252</td>\n",
       "      <td id=\"T_ac1e2_row7_col4\" class=\"data row7 col4\" >0.4643</td>\n",
       "      <td id=\"T_ac1e2_row7_col5\" class=\"data row7 col5\" >0.5659</td>\n",
       "    </tr>\n",
       "    <tr>\n",
       "      <th id=\"T_ac1e2_level0_row8\" class=\"row_heading level0 row8\" >8</th>\n",
       "      <td id=\"T_ac1e2_row8_col0\" class=\"data row8 col0\" >3.0927</td>\n",
       "      <td id=\"T_ac1e2_row8_col1\" class=\"data row8 col1\" >16.6214</td>\n",
       "      <td id=\"T_ac1e2_row8_col2\" class=\"data row8 col2\" >4.0769</td>\n",
       "      <td id=\"T_ac1e2_row8_col3\" class=\"data row8 col3\" >0.7463</td>\n",
       "      <td id=\"T_ac1e2_row8_col4\" class=\"data row8 col4\" >0.4330</td>\n",
       "      <td id=\"T_ac1e2_row8_col5\" class=\"data row8 col5\" >0.4875</td>\n",
       "    </tr>\n",
       "    <tr>\n",
       "      <th id=\"T_ac1e2_level0_row9\" class=\"row_heading level0 row9\" >9</th>\n",
       "      <td id=\"T_ac1e2_row9_col0\" class=\"data row9 col0\" >3.1774</td>\n",
       "      <td id=\"T_ac1e2_row9_col1\" class=\"data row9 col1\" >16.8558</td>\n",
       "      <td id=\"T_ac1e2_row9_col2\" class=\"data row9 col2\" >4.1056</td>\n",
       "      <td id=\"T_ac1e2_row9_col3\" class=\"data row9 col3\" >0.7350</td>\n",
       "      <td id=\"T_ac1e2_row9_col4\" class=\"data row9 col4\" >0.4399</td>\n",
       "      <td id=\"T_ac1e2_row9_col5\" class=\"data row9 col5\" >9.0768</td>\n",
       "    </tr>\n",
       "    <tr>\n",
       "      <th id=\"T_ac1e2_level0_row10\" class=\"row_heading level0 row10\" >Mean</th>\n",
       "      <td id=\"T_ac1e2_row10_col0\" class=\"data row10 col0\" >3.1494</td>\n",
       "      <td id=\"T_ac1e2_row10_col1\" class=\"data row10 col1\" >17.1905</td>\n",
       "      <td id=\"T_ac1e2_row10_col2\" class=\"data row10 col2\" >4.1398</td>\n",
       "      <td id=\"T_ac1e2_row10_col3\" class=\"data row10 col3\" >0.7171</td>\n",
       "      <td id=\"T_ac1e2_row10_col4\" class=\"data row10 col4\" >0.4399</td>\n",
       "      <td id=\"T_ac1e2_row10_col5\" class=\"data row10 col5\" >1.4016</td>\n",
       "    </tr>\n",
       "    <tr>\n",
       "      <th id=\"T_ac1e2_level0_row11\" class=\"row_heading level0 row11\" >Std</th>\n",
       "      <td id=\"T_ac1e2_row11_col0\" class=\"data row11 col0\" >0.1899</td>\n",
       "      <td id=\"T_ac1e2_row11_col1\" class=\"data row11 col1\" >1.8897</td>\n",
       "      <td id=\"T_ac1e2_row11_col2\" class=\"data row11 col2\" >0.2293</td>\n",
       "      <td id=\"T_ac1e2_row11_col3\" class=\"data row11 col3\" >0.0456</td>\n",
       "      <td id=\"T_ac1e2_row11_col4\" class=\"data row11 col4\" >0.0318</td>\n",
       "      <td id=\"T_ac1e2_row11_col5\" class=\"data row11 col5\" >2.5628</td>\n",
       "    </tr>\n",
       "  </tbody>\n",
       "</table>\n"
      ],
      "text/plain": [
       "<pandas.io.formats.style.Styler at 0x15549c4431f0>"
      ]
     },
     "metadata": {},
     "output_type": "display_data"
    },
    {
     "data": {
      "text/html": [],
      "text/plain": [
       "<IPython.core.display.HTML object>"
      ]
     },
     "metadata": {},
     "output_type": "display_data"
    },
    {
     "data": {
      "text/html": [],
      "text/plain": [
       "<IPython.core.display.HTML object>"
      ]
     },
     "metadata": {},
     "output_type": "display_data"
    },
    {
     "data": {
      "text/html": [
       "<style type=\"text/css\">\n",
       "#T_7d844_row10_col0, #T_7d844_row10_col1, #T_7d844_row10_col2, #T_7d844_row10_col3, #T_7d844_row10_col4, #T_7d844_row10_col5 {\n",
       "  background: yellow;\n",
       "}\n",
       "</style>\n",
       "<table id=\"T_7d844\">\n",
       "  <thead>\n",
       "    <tr>\n",
       "      <th class=\"blank level0\" >&nbsp;</th>\n",
       "      <th id=\"T_7d844_level0_col0\" class=\"col_heading level0 col0\" >MAE</th>\n",
       "      <th id=\"T_7d844_level0_col1\" class=\"col_heading level0 col1\" >MSE</th>\n",
       "      <th id=\"T_7d844_level0_col2\" class=\"col_heading level0 col2\" >RMSE</th>\n",
       "      <th id=\"T_7d844_level0_col3\" class=\"col_heading level0 col3\" >R2</th>\n",
       "      <th id=\"T_7d844_level0_col4\" class=\"col_heading level0 col4\" >RMSLE</th>\n",
       "      <th id=\"T_7d844_level0_col5\" class=\"col_heading level0 col5\" >MAPE</th>\n",
       "    </tr>\n",
       "    <tr>\n",
       "      <th class=\"index_name level0\" >Fold</th>\n",
       "      <th class=\"blank col0\" >&nbsp;</th>\n",
       "      <th class=\"blank col1\" >&nbsp;</th>\n",
       "      <th class=\"blank col2\" >&nbsp;</th>\n",
       "      <th class=\"blank col3\" >&nbsp;</th>\n",
       "      <th class=\"blank col4\" >&nbsp;</th>\n",
       "      <th class=\"blank col5\" >&nbsp;</th>\n",
       "    </tr>\n",
       "  </thead>\n",
       "  <tbody>\n",
       "    <tr>\n",
       "      <th id=\"T_7d844_level0_row0\" class=\"row_heading level0 row0\" >0</th>\n",
       "      <td id=\"T_7d844_row0_col0\" class=\"data row0 col0\" >3.1638</td>\n",
       "      <td id=\"T_7d844_row0_col1\" class=\"data row0 col1\" >16.8014</td>\n",
       "      <td id=\"T_7d844_row0_col2\" class=\"data row0 col2\" >4.0990</td>\n",
       "      <td id=\"T_7d844_row0_col3\" class=\"data row0 col3\" >0.7560</td>\n",
       "      <td id=\"T_7d844_row0_col4\" class=\"data row0 col4\" >0.4343</td>\n",
       "      <td id=\"T_7d844_row0_col5\" class=\"data row0 col5\" >1.1905</td>\n",
       "    </tr>\n",
       "    <tr>\n",
       "      <th id=\"T_7d844_level0_row1\" class=\"row_heading level0 row1\" >1</th>\n",
       "      <td id=\"T_7d844_row1_col0\" class=\"data row1 col0\" >2.7979</td>\n",
       "      <td id=\"T_7d844_row1_col1\" class=\"data row1 col1\" >15.0510</td>\n",
       "      <td id=\"T_7d844_row1_col2\" class=\"data row1 col2\" >3.8796</td>\n",
       "      <td id=\"T_7d844_row1_col3\" class=\"data row1 col3\" >0.7585</td>\n",
       "      <td id=\"T_7d844_row1_col4\" class=\"data row1 col4\" >0.3969</td>\n",
       "      <td id=\"T_7d844_row1_col5\" class=\"data row1 col5\" >0.3580</td>\n",
       "    </tr>\n",
       "    <tr>\n",
       "      <th id=\"T_7d844_level0_row2\" class=\"row_heading level0 row2\" >2</th>\n",
       "      <td id=\"T_7d844_row2_col0\" class=\"data row2 col0\" >2.8828</td>\n",
       "      <td id=\"T_7d844_row2_col1\" class=\"data row2 col1\" >13.7735</td>\n",
       "      <td id=\"T_7d844_row2_col2\" class=\"data row2 col2\" >3.7113</td>\n",
       "      <td id=\"T_7d844_row2_col3\" class=\"data row2 col3\" >0.7969</td>\n",
       "      <td id=\"T_7d844_row2_col4\" class=\"data row2 col4\" >0.3988</td>\n",
       "      <td id=\"T_7d844_row2_col5\" class=\"data row2 col5\" >0.4564</td>\n",
       "    </tr>\n",
       "    <tr>\n",
       "      <th id=\"T_7d844_level0_row3\" class=\"row_heading level0 row3\" >3</th>\n",
       "      <td id=\"T_7d844_row3_col0\" class=\"data row3 col0\" >3.2828</td>\n",
       "      <td id=\"T_7d844_row3_col1\" class=\"data row3 col1\" >17.7192</td>\n",
       "      <td id=\"T_7d844_row3_col2\" class=\"data row3 col2\" >4.2094</td>\n",
       "      <td id=\"T_7d844_row3_col3\" class=\"data row3 col3\" >0.6913</td>\n",
       "      <td id=\"T_7d844_row3_col4\" class=\"data row3 col4\" >0.4809</td>\n",
       "      <td id=\"T_7d844_row3_col5\" class=\"data row3 col5\" >0.6215</td>\n",
       "    </tr>\n",
       "    <tr>\n",
       "      <th id=\"T_7d844_level0_row4\" class=\"row_heading level0 row4\" >4</th>\n",
       "      <td id=\"T_7d844_row4_col0\" class=\"data row4 col0\" >3.0259</td>\n",
       "      <td id=\"T_7d844_row4_col1\" class=\"data row4 col1\" >16.1907</td>\n",
       "      <td id=\"T_7d844_row4_col2\" class=\"data row4 col2\" >4.0238</td>\n",
       "      <td id=\"T_7d844_row4_col3\" class=\"data row4 col3\" >0.6817</td>\n",
       "      <td id=\"T_7d844_row4_col4\" class=\"data row4 col4\" >0.4506</td>\n",
       "      <td id=\"T_7d844_row4_col5\" class=\"data row4 col5\" >0.5485</td>\n",
       "    </tr>\n",
       "    <tr>\n",
       "      <th id=\"T_7d844_level0_row5\" class=\"row_heading level0 row5\" >5</th>\n",
       "      <td id=\"T_7d844_row5_col0\" class=\"data row5 col0\" >2.8639</td>\n",
       "      <td id=\"T_7d844_row5_col1\" class=\"data row5 col1\" >12.7721</td>\n",
       "      <td id=\"T_7d844_row5_col2\" class=\"data row5 col2\" >3.5738</td>\n",
       "      <td id=\"T_7d844_row5_col3\" class=\"data row5 col3\" >0.7703</td>\n",
       "      <td id=\"T_7d844_row5_col4\" class=\"data row5 col4\" >0.3993</td>\n",
       "      <td id=\"T_7d844_row5_col5\" class=\"data row5 col5\" >0.4620</td>\n",
       "    </tr>\n",
       "    <tr>\n",
       "      <th id=\"T_7d844_level0_row6\" class=\"row_heading level0 row6\" >6</th>\n",
       "      <td id=\"T_7d844_row6_col0\" class=\"data row6 col0\" >3.3132</td>\n",
       "      <td id=\"T_7d844_row6_col1\" class=\"data row6 col1\" >18.7841</td>\n",
       "      <td id=\"T_7d844_row6_col2\" class=\"data row6 col2\" >4.3341</td>\n",
       "      <td id=\"T_7d844_row6_col3\" class=\"data row6 col3\" >0.6757</td>\n",
       "      <td id=\"T_7d844_row6_col4\" class=\"data row6 col4\" >0.4366</td>\n",
       "      <td id=\"T_7d844_row6_col5\" class=\"data row6 col5\" >0.4673</td>\n",
       "    </tr>\n",
       "    <tr>\n",
       "      <th id=\"T_7d844_level0_row7\" class=\"row_heading level0 row7\" >7</th>\n",
       "      <td id=\"T_7d844_row7_col0\" class=\"data row7 col0\" >3.0754</td>\n",
       "      <td id=\"T_7d844_row7_col1\" class=\"data row7 col1\" >17.0027</td>\n",
       "      <td id=\"T_7d844_row7_col2\" class=\"data row7 col2\" >4.1234</td>\n",
       "      <td id=\"T_7d844_row7_col3\" class=\"data row7 col3\" >0.7340</td>\n",
       "      <td id=\"T_7d844_row7_col4\" class=\"data row7 col4\" >0.4462</td>\n",
       "      <td id=\"T_7d844_row7_col5\" class=\"data row7 col5\" >0.5284</td>\n",
       "    </tr>\n",
       "    <tr>\n",
       "      <th id=\"T_7d844_level0_row8\" class=\"row_heading level0 row8\" >8</th>\n",
       "      <td id=\"T_7d844_row8_col0\" class=\"data row8 col0\" >3.0167</td>\n",
       "      <td id=\"T_7d844_row8_col1\" class=\"data row8 col1\" >15.3759</td>\n",
       "      <td id=\"T_7d844_row8_col2\" class=\"data row8 col2\" >3.9212</td>\n",
       "      <td id=\"T_7d844_row8_col3\" class=\"data row8 col3\" >0.7653</td>\n",
       "      <td id=\"T_7d844_row8_col4\" class=\"data row8 col4\" >0.4296</td>\n",
       "      <td id=\"T_7d844_row8_col5\" class=\"data row8 col5\" >0.4816</td>\n",
       "    </tr>\n",
       "    <tr>\n",
       "      <th id=\"T_7d844_level0_row9\" class=\"row_heading level0 row9\" >9</th>\n",
       "      <td id=\"T_7d844_row9_col0\" class=\"data row9 col0\" >3.1172</td>\n",
       "      <td id=\"T_7d844_row9_col1\" class=\"data row9 col1\" >16.3434</td>\n",
       "      <td id=\"T_7d844_row9_col2\" class=\"data row9 col2\" >4.0427</td>\n",
       "      <td id=\"T_7d844_row9_col3\" class=\"data row9 col3\" >0.7430</td>\n",
       "      <td id=\"T_7d844_row9_col4\" class=\"data row9 col4\" >0.4459</td>\n",
       "      <td id=\"T_7d844_row9_col5\" class=\"data row9 col5\" >6.3502</td>\n",
       "    </tr>\n",
       "    <tr>\n",
       "      <th id=\"T_7d844_level0_row10\" class=\"row_heading level0 row10\" >Mean</th>\n",
       "      <td id=\"T_7d844_row10_col0\" class=\"data row10 col0\" >3.0540</td>\n",
       "      <td id=\"T_7d844_row10_col1\" class=\"data row10 col1\" >15.9814</td>\n",
       "      <td id=\"T_7d844_row10_col2\" class=\"data row10 col2\" >3.9918</td>\n",
       "      <td id=\"T_7d844_row10_col3\" class=\"data row10 col3\" >0.7373</td>\n",
       "      <td id=\"T_7d844_row10_col4\" class=\"data row10 col4\" >0.4319</td>\n",
       "      <td id=\"T_7d844_row10_col5\" class=\"data row10 col5\" >1.1464</td>\n",
       "    </tr>\n",
       "    <tr>\n",
       "      <th id=\"T_7d844_level0_row11\" class=\"row_heading level0 row11\" >Std</th>\n",
       "      <td id=\"T_7d844_row11_col0\" class=\"data row11 col0\" >0.1641</td>\n",
       "      <td id=\"T_7d844_row11_col1\" class=\"data row11 col1\" >1.7080</td>\n",
       "      <td id=\"T_7d844_row11_col2\" class=\"data row11 col2\" >0.2163</td>\n",
       "      <td id=\"T_7d844_row11_col3\" class=\"data row11 col3\" >0.0391</td>\n",
       "      <td id=\"T_7d844_row11_col4\" class=\"data row11 col4\" >0.0256</td>\n",
       "      <td id=\"T_7d844_row11_col5\" class=\"data row11 col5\" >1.7483</td>\n",
       "    </tr>\n",
       "  </tbody>\n",
       "</table>\n"
      ],
      "text/plain": [
       "<pandas.io.formats.style.Styler at 0x15549ce6caf0>"
      ]
     },
     "metadata": {},
     "output_type": "display_data"
    },
    {
     "data": {
      "text/html": [],
      "text/plain": [
       "<IPython.core.display.HTML object>"
      ]
     },
     "metadata": {},
     "output_type": "display_data"
    },
    {
     "name": "stdout",
     "output_type": "stream",
     "text": [
      "Fitting 10 folds for each of 10 candidates, totalling 100 fits\n"
     ]
    }
   ],
   "source": [
    "tuned_model_xg = tune_model(create_model('xgboost'))"
   ]
  },
  {
   "cell_type": "code",
   "execution_count": null,
   "id": "13f93d8d-882f-4501-b362-e0c56def92fe",
   "metadata": {},
   "outputs": [
    {
     "data": {
      "text/html": [
       "<div>\n",
       "<style scoped>\n",
       "    .dataframe tbody tr th:only-of-type {\n",
       "        vertical-align: middle;\n",
       "    }\n",
       "\n",
       "    .dataframe tbody tr th {\n",
       "        vertical-align: top;\n",
       "    }\n",
       "\n",
       "    .dataframe thead th {\n",
       "        text-align: right;\n",
       "    }\n",
       "</style>\n",
       "<table border=\"1\" class=\"dataframe\">\n",
       "  <thead>\n",
       "    <tr style=\"text-align: right;\">\n",
       "      <th></th>\n",
       "      <th></th>\n",
       "      <th></th>\n",
       "    </tr>\n",
       "    <tr>\n",
       "      <th></th>\n",
       "      <th></th>\n",
       "      <th></th>\n",
       "    </tr>\n",
       "  </thead>\n",
       "  <tbody>\n",
       "    <tr>\n",
       "      <th>Initiated</th>\n",
       "      <td>. . . . . . . . . . . . . . . . . .</td>\n",
       "      <td>12:23:06</td>\n",
       "    </tr>\n",
       "    <tr>\n",
       "      <th>Status</th>\n",
       "      <td>. . . . . . . . . . . . . . . . . .</td>\n",
       "      <td>Fitting 10 Folds</td>\n",
       "    </tr>\n",
       "    <tr>\n",
       "      <th>Estimator</th>\n",
       "      <td>. . . . . . . . . . . . . . . . . .</td>\n",
       "      <td>Light Gradient Boosting Machine</td>\n",
       "    </tr>\n",
       "  </tbody>\n",
       "</table>\n",
       "</div>"
      ],
      "text/plain": [
       "                                                \\\n",
       "                                                 \n",
       "Initiated  . . . . . . . . . . . . . . . . . .   \n",
       "Status     . . . . . . . . . . . . . . . . . .   \n",
       "Estimator  . . . . . . . . . . . . . . . . . .   \n",
       "\n",
       "                                            \n",
       "                                            \n",
       "Initiated                         12:23:06  \n",
       "Status                    Fitting 10 Folds  \n",
       "Estimator  Light Gradient Boosting Machine  "
      ]
     },
     "metadata": {},
     "output_type": "display_data"
    },
    {
     "data": {
      "text/html": [],
      "text/plain": [
       "<IPython.core.display.HTML object>"
      ]
     },
     "metadata": {},
     "output_type": "display_data"
    },
    {
     "data": {
      "application/vnd.jupyter.widget-view+json": {
       "model_id": "12f4a948b743473a862a1bf00615cec3",
       "version_major": 2,
       "version_minor": 0
      },
      "text/plain": [
       "Processing:   0%|          | 0/4 [00:00<?, ?it/s]"
      ]
     },
     "metadata": {},
     "output_type": "display_data"
    }
   ],
   "source": [
    "tuned_model_lgbm = tune_model(create_model('lightgbm'))"
   ]
  },
  {
   "cell_type": "code",
   "execution_count": null,
   "id": "b42d800a-d6ed-4fd4-913c-b5c69af31f35",
   "metadata": {},
   "outputs": [],
   "source": []
  }
 ],
 "metadata": {
  "kernelspec": {
   "display_name": "pyemma",
   "language": "python",
   "name": "pyemma"
  },
  "language_info": {
   "codemirror_mode": {
    "name": "ipython",
    "version": 3
   },
   "file_extension": ".py",
   "mimetype": "text/x-python",
   "name": "python",
   "nbconvert_exporter": "python",
   "pygments_lexer": "ipython3",
   "version": "3.9.21"
  }
 },
 "nbformat": 4,
 "nbformat_minor": 5
}
