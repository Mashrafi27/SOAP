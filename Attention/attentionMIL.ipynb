{
 "cells": [
  {
   "cell_type": "code",
   "execution_count": 1,
   "id": "209f9874-c696-4317-91c1-d7e02d07e2fe",
   "metadata": {},
   "outputs": [],
   "source": [
    "from soap_utils import *\n",
    "from dataset import *\n",
    "from model import AttentionMIL\n",
    "from model_enhanced import *\n",
    "from model_hybrid import *\n",
    "import numpy as np\n",
    "from torch.utils.data import DataLoader\n",
    "import torch\n",
    "import torch.nn as nn\n",
    "import torch.optim as optim\n",
    "from tqdm.auto import tqdm\n",
    "import pandas as pd\n",
    "import os\n",
    "import pickle\n",
    "from typing import List, Tuple, Dict, Optional"
   ]
  },
  {
   "cell_type": "code",
   "execution_count": 2,
   "id": "21fa9885-16fa-4b41-ac0f-116549d35317",
   "metadata": {},
   "outputs": [],
   "source": [
    "# Parameters\n",
    "cif_dir = \"../CIF_files\"\n",
    "target_path = './id_labels.csv'\n",
    "soap_params = {\"r_cut\": 5.0, \"n_max\": 1, \"l_max\": 1, \"periodic\": True}\n",
    "max_envs = 200\n",
    "n_workers = 8\n",
    "batch_size = 16\n",
    "embed_dim = 128\n",
    "attention_dim = 64\n",
    "learning_rate = 1e-3\n",
    "epochs = 10"
   ]
  },
  {
   "cell_type": "code",
   "execution_count": 3,
   "id": "5bceb004",
   "metadata": {},
   "outputs": [],
   "source": [
    "folder_path = '../CIF_files'\n",
    "n_max = 1\n",
    "l_max = 1"
   ]
  },
  {
   "cell_type": "code",
   "execution_count": 4,
   "id": "e5eb1d0d",
   "metadata": {},
   "outputs": [],
   "source": [
    "soap_file_path = 'soap_2d_matrices.npz'\n",
    "metadata_file_path = 'soap_2d_metadata.pkl'\n",
    "labels_file_path = 'id_labels.csv'"
   ]
  },
  {
   "cell_type": "code",
   "execution_count": 5,
   "id": "f3655a0d",
   "metadata": {},
   "outputs": [
    {
     "name": "stdout",
     "output_type": "stream",
     "text": [
      "Loading SOAP matrices...\n",
      "Loaded 3089 SOAP matrices\n",
      "Each matrix has 484 features\n",
      "Loading labels...\n",
      "Loaded 3089 labels\n",
      "Columns: ['id', 'label']\n",
      "Matching SOAP matrices with labels...\n",
      "✓ Successfully matched: 3089 samples\n",
      "⚠ Unmatched SOAP matrices: 0\n",
      "⚠ Unmatched labels: 0\n",
      "\n",
      "=== Dataset Created Successfully ===\n",
      "Total samples: 3089\n",
      "SOAP matrix shape example: (123, 484)\n",
      "Target range: [0.006, 37.706]\n"
     ]
    }
   ],
   "source": [
    "dataset, matched_ids = create_soap_dataset(\n",
    "    soap_file_path=soap_file_path,\n",
    "    metadata_file_path=metadata_file_path,\n",
    "    labels_file_path=labels_file_path\n",
    ")"
   ]
  },
  {
   "cell_type": "code",
   "execution_count": 6,
   "id": "c2755cce",
   "metadata": {},
   "outputs": [
    {
     "name": "stdout",
     "output_type": "stream",
     "text": [
      "\n",
      "=== Dataset Split ===\n",
      "Total samples: 3089\n",
      "Train: 2162 (70.0%)\n",
      "Validation: 463 (15.0%)\n",
      "Test: 464 (15.0%)\n"
     ]
    }
   ],
   "source": [
    "train_dataset, val_dataset, test_dataset, split_info = split_dataset(\n",
    "    dataset, matched_ids,\n",
    "    train_ratio=0.7,\n",
    "    val_ratio=0.15,\n",
    "    test_ratio=0.15,\n",
    "    random_seed=42\n",
    ")"
   ]
  },
  {
   "cell_type": "code",
   "execution_count": 7,
   "id": "97a3ff52",
   "metadata": {},
   "outputs": [
    {
     "name": "stdout",
     "output_type": "stream",
     "text": [
      "\n",
      "=== Creating DataLoaders ===\n",
      "Batch size: 32\n",
      "Train batches: 68\n",
      "Validation batches: 15\n",
      "Test batches: 15\n"
     ]
    }
   ],
   "source": [
    "train_dataloader, val_dataloader, test_dataloader = create_split_dataloaders(\n",
    "    train_dataset, val_dataset, test_dataset,\n",
    "    batch_size=32,\n",
    "    num_workers=0\n",
    ")"
   ]
  },
  {
   "cell_type": "code",
   "execution_count": 14,
   "id": "95681f01",
   "metadata": {},
   "outputs": [
    {
     "name": "stdout",
     "output_type": "stream",
     "text": [
      "Epoch   0: Train Loss: 68.9004, Val Loss: 31.0611\n",
      "Epoch  10: Train Loss: 19.4921, Val Loss: 18.2259\n",
      "Pre-training completed! Best Val Loss: 18.2259\n",
      "Extracting features from training data...\n",
      "Extracting features from validation data...\n",
      "Training LightGBM with 516 features...\n",
      "Training until validation scores don't improve for 50 rounds\n",
      "[100]\tvalid_0's rmse: 3.91663\n",
      "[200]\tvalid_0's rmse: 3.90796\n",
      "Early stopping, best iteration is:\n",
      "[157]\tvalid_0's rmse: 3.89831\n",
      "LightGBM training completed!\n",
      "=== Hybrid Model Test Results ===\n",
      "Test RMSE: 4.1037\n",
      "Test MAE: 3.2048\n",
      "Test R²: 0.7190\n"
     ]
    }
   ],
   "source": [
    "# Debug version - this will show exactly what's happening\n",
    "device = torch.device('cuda' if torch.cuda.is_available() else 'cpu')\n",
    "\n",
    "# hybrid_model = train_hybrid_model(train_dataloader, val_dataloader, input_dim=484)\n",
    "\n",
    "# print(f\"DEBUG: hybrid_model = {hybrid_model}\")\n",
    "# print(f\"DEBUG: type = {type(hybrid_model)}\")\n",
    "\n",
    "# if hybrid_model is None:\n",
    "#     print(\"ERROR: Function returned None!\")\n",
    "    # Let's create it manually\n",
    "hybrid_model = HybridAttentionLGB(\n",
    "    input_dim=484,\n",
    "    embed_dim=256,\n",
    "    attention_dim=128, \n",
    "    feature_dim=128\n",
    ")\n",
    "hybrid_model.feature_extractor = hybrid_model.feature_extractor.to(device)\n",
    "\n",
    "# Pre-train\n",
    "pretrain_attention_extractor(\n",
    "    hybrid_model.feature_extractor,\n",
    "    train_dataloader,\n",
    "    val_dataloader, \n",
    "    device,\n",
    "    epochs=12,\n",
    "    feature_dim=128\n",
    ")\n",
    "\n",
    "# Train LightGBM\n",
    "hybrid_model.train(train_dataloader, val_dataloader, device=device)\n",
    "\n",
    "# Now evaluate\n",
    "results = evaluate_hybrid_model(hybrid_model, test_dataloader)"
   ]
  },
  {
   "cell_type": "code",
   "execution_count": 8,
   "id": "10f13b03",
   "metadata": {},
   "outputs": [
    {
     "name": "stdout",
     "output_type": "stream",
     "text": [
      "=== Step 1: Pre-training Attention Feature Extractor ===\n",
      "Epoch   0: Train Loss: 71.3002, Val Loss: 34.9041\n",
      "Epoch  10: Train Loss: 22.6275, Val Loss: 19.2834\n",
      "Epoch  20: Train Loss: 16.6154, Val Loss: 18.1924\n",
      "Epoch  30: Train Loss: 14.6974, Val Loss: 16.7260\n",
      "Epoch  40: Train Loss: 13.4788, Val Loss: 16.2114\n",
      "Pre-training completed! Best Val Loss: 15.5202\n",
      "=== Step 2: Training LightGBM on Attention Features ===\n",
      "Extracting features from training data...\n",
      "Extracting features from validation data...\n",
      "Training LightGBM with 516 features...\n",
      "Training until validation scores don't improve for 50 rounds\n",
      "[100]\tvalid_0's rmse: 3.98499\n",
      "Early stopping, best iteration is:\n",
      "[145]\tvalid_0's rmse: 3.96183\n",
      "Hybrid model training completed!\n"
     ]
    },
    {
     "ename": "AttributeError",
     "evalue": "'NoneType' object has no attribute 'predict'",
     "output_type": "error",
     "traceback": [
      "\u001b[0;31m---------------------------------------------------------------------------\u001b[0m",
      "\u001b[0;31mAttributeError\u001b[0m                            Traceback (most recent call last)",
      "Cell \u001b[0;32mIn[8], line 5\u001b[0m\n\u001b[1;32m      2\u001b[0m hybrid_model \u001b[38;5;241m=\u001b[39m train_hybrid_model(train_dataloader, val_dataloader, input_dim\u001b[38;5;241m=\u001b[39m\u001b[38;5;241m484\u001b[39m)\n\u001b[1;32m      4\u001b[0m \u001b[38;5;66;03m# Evaluate\u001b[39;00m\n\u001b[0;32m----> 5\u001b[0m results \u001b[38;5;241m=\u001b[39m \u001b[43mevaluate_hybrid_model\u001b[49m\u001b[43m(\u001b[49m\u001b[43mhybrid_model\u001b[49m\u001b[43m,\u001b[49m\u001b[43m \u001b[49m\u001b[43mtest_dataloader\u001b[49m\u001b[43m)\u001b[49m\n",
      "File \u001b[0;32m/scratch/mmm9886/Chignolin_Trajectory/SOAP_research/Attention/model_hybrid.py:436\u001b[0m, in \u001b[0;36mevaluate_hybrid_model\u001b[0;34m(hybrid_model, test_dataloader)\u001b[0m\n\u001b[1;32m    433\u001b[0m \u001b[38;5;250m\u001b[39m\u001b[38;5;124;03m\"\"\"Evaluate the hybrid model.\"\"\"\u001b[39;00m\n\u001b[1;32m    434\u001b[0m device \u001b[38;5;241m=\u001b[39m torch\u001b[38;5;241m.\u001b[39mdevice(\u001b[38;5;124m'\u001b[39m\u001b[38;5;124mcuda\u001b[39m\u001b[38;5;124m'\u001b[39m \u001b[38;5;28;01mif\u001b[39;00m torch\u001b[38;5;241m.\u001b[39mcuda\u001b[38;5;241m.\u001b[39mis_available() \u001b[38;5;28;01melse\u001b[39;00m \u001b[38;5;124m'\u001b[39m\u001b[38;5;124mcpu\u001b[39m\u001b[38;5;124m'\u001b[39m)\n\u001b[0;32m--> 436\u001b[0m predictions, targets \u001b[38;5;241m=\u001b[39m \u001b[43mhybrid_model\u001b[49m\u001b[38;5;241;43m.\u001b[39;49m\u001b[43mpredict\u001b[49m(test_dataloader, device)\n\u001b[1;32m    438\u001b[0m \u001b[38;5;66;03m# Calculate metrics\u001b[39;00m\n\u001b[1;32m    439\u001b[0m \u001b[38;5;28;01mfrom\u001b[39;00m\u001b[38;5;250m \u001b[39m\u001b[38;5;21;01msklearn\u001b[39;00m\u001b[38;5;21;01m.\u001b[39;00m\u001b[38;5;21;01mmetrics\u001b[39;00m\u001b[38;5;250m \u001b[39m\u001b[38;5;28;01mimport\u001b[39;00m mean_squared_error, mean_absolute_error, r2_score\n",
      "\u001b[0;31mAttributeError\u001b[0m: 'NoneType' object has no attribute 'predict'"
     ]
    }
   ],
   "source": [
    "# Train hybrid model\n",
    "hybrid_model = train_hybrid_model(train_dataloader, val_dataloader, input_dim=484)\n",
    "\n",
    "# Evaluate\n",
    "results = evaluate_hybrid_model(hybrid_model, test_dataloader)"
   ]
  },
  {
   "cell_type": "code",
   "execution_count": 10,
   "id": "f70f047f",
   "metadata": {},
   "outputs": [],
   "source": [
    "# 6. Instantiate model, loss, optimizer\n",
    "input_dim = 484\n",
    "epochs = 50\n",
    "# model = AttentionMIL(input_dim=input_dim, embed_dim=embed_dim, attention_dim=attention_dim)\n",
    "# model = EnhancedAttentionMIL(\n",
    "#     input_dim=input_dim,\n",
    "#     embed_dim=256,  # Increased from 128\n",
    "#     attention_dim=128,\n",
    "#     num_heads=4,\n",
    "#     dropout=0.15\n",
    "# )\n",
    "model = ResidualAttentionMIL(\n",
    "    input_dim=484,\n",
    "    embed_dim=256,\n",
    "    attention_dim=128,\n",
    "    dropout=0.15\n",
    ")\n",
    "loss_fn = nn.MSELoss()\n",
    "optimizer = optim.Adam(model.parameters(), lr=learning_rate)"
   ]
  },
  {
   "cell_type": "code",
   "execution_count": 11,
   "id": "8a378a5d",
   "metadata": {},
   "outputs": [
    {
     "data": {
      "application/vnd.jupyter.widget-view+json": {
       "model_id": "823ad1153c524994ad1d9da1c98b390a",
       "version_major": 2,
       "version_minor": 0
      },
      "text/plain": [
       "Epoch 1/50:   0%|          | 0/68 [00:00<?, ?it/s]"
      ]
     },
     "metadata": {},
     "output_type": "display_data"
    },
    {
     "name": "stdout",
     "output_type": "stream",
     "text": [
      "Epoch 1/50 — Avg Loss: 120.2069\n"
     ]
    },
    {
     "data": {
      "application/vnd.jupyter.widget-view+json": {
       "model_id": "767824c975444397bc07b0c035a50083",
       "version_major": 2,
       "version_minor": 0
      },
      "text/plain": [
       "Epoch 2/50:   0%|          | 0/68 [00:00<?, ?it/s]"
      ]
     },
     "metadata": {},
     "output_type": "display_data"
    },
    {
     "name": "stdout",
     "output_type": "stream",
     "text": [
      "Epoch 2/50 — Avg Loss: 72.1036\n"
     ]
    },
    {
     "data": {
      "application/vnd.jupyter.widget-view+json": {
       "model_id": "3f73e6398f5842db825f1048e2c41f65",
       "version_major": 2,
       "version_minor": 0
      },
      "text/plain": [
       "Epoch 3/50:   0%|          | 0/68 [00:00<?, ?it/s]"
      ]
     },
     "metadata": {},
     "output_type": "display_data"
    },
    {
     "name": "stdout",
     "output_type": "stream",
     "text": [
      "Epoch 3/50 — Avg Loss: 63.9368\n"
     ]
    },
    {
     "data": {
      "application/vnd.jupyter.widget-view+json": {
       "model_id": "521a8dcccd7d49d297bcb366f74bb2b7",
       "version_major": 2,
       "version_minor": 0
      },
      "text/plain": [
       "Epoch 4/50:   0%|          | 0/68 [00:00<?, ?it/s]"
      ]
     },
     "metadata": {},
     "output_type": "display_data"
    },
    {
     "name": "stdout",
     "output_type": "stream",
     "text": [
      "Epoch 4/50 — Avg Loss: 58.6123\n"
     ]
    },
    {
     "data": {
      "application/vnd.jupyter.widget-view+json": {
       "model_id": "353c2b0046564b4da84dd68cf2818ebd",
       "version_major": 2,
       "version_minor": 0
      },
      "text/plain": [
       "Epoch 5/50:   0%|          | 0/68 [00:00<?, ?it/s]"
      ]
     },
     "metadata": {},
     "output_type": "display_data"
    },
    {
     "name": "stdout",
     "output_type": "stream",
     "text": [
      "Epoch 5/50 — Avg Loss: 46.2706\n"
     ]
    },
    {
     "data": {
      "application/vnd.jupyter.widget-view+json": {
       "model_id": "5b328210bbf84771bbe68af1f249b099",
       "version_major": 2,
       "version_minor": 0
      },
      "text/plain": [
       "Epoch 6/50:   0%|          | 0/68 [00:00<?, ?it/s]"
      ]
     },
     "metadata": {},
     "output_type": "display_data"
    },
    {
     "name": "stdout",
     "output_type": "stream",
     "text": [
      "Epoch 6/50 — Avg Loss: 41.1446\n"
     ]
    },
    {
     "data": {
      "application/vnd.jupyter.widget-view+json": {
       "model_id": "73d0f539ed7b41a29f490b892f5d254f",
       "version_major": 2,
       "version_minor": 0
      },
      "text/plain": [
       "Epoch 7/50:   0%|          | 0/68 [00:00<?, ?it/s]"
      ]
     },
     "metadata": {},
     "output_type": "display_data"
    },
    {
     "name": "stdout",
     "output_type": "stream",
     "text": [
      "Epoch 7/50 — Avg Loss: 36.9216\n"
     ]
    },
    {
     "data": {
      "application/vnd.jupyter.widget-view+json": {
       "model_id": "ac31fbec950e4d3d8e4f5f1b37e989eb",
       "version_major": 2,
       "version_minor": 0
      },
      "text/plain": [
       "Epoch 8/50:   0%|          | 0/68 [00:00<?, ?it/s]"
      ]
     },
     "metadata": {},
     "output_type": "display_data"
    },
    {
     "name": "stdout",
     "output_type": "stream",
     "text": [
      "Epoch 8/50 — Avg Loss: 32.4511\n"
     ]
    },
    {
     "data": {
      "application/vnd.jupyter.widget-view+json": {
       "model_id": "b91cecf34c7447bb86708668db5960d3",
       "version_major": 2,
       "version_minor": 0
      },
      "text/plain": [
       "Epoch 9/50:   0%|          | 0/68 [00:00<?, ?it/s]"
      ]
     },
     "metadata": {},
     "output_type": "display_data"
    },
    {
     "name": "stdout",
     "output_type": "stream",
     "text": [
      "Epoch 9/50 — Avg Loss: 30.5190\n"
     ]
    },
    {
     "data": {
      "application/vnd.jupyter.widget-view+json": {
       "model_id": "07397d328d7b4a4bab106e2b37b21144",
       "version_major": 2,
       "version_minor": 0
      },
      "text/plain": [
       "Epoch 10/50:   0%|          | 0/68 [00:00<?, ?it/s]"
      ]
     },
     "metadata": {},
     "output_type": "display_data"
    },
    {
     "name": "stdout",
     "output_type": "stream",
     "text": [
      "Epoch 10/50 — Avg Loss: 29.1526\n"
     ]
    },
    {
     "data": {
      "application/vnd.jupyter.widget-view+json": {
       "model_id": "c029fbfdc6e646caa6ac9b54199b8f08",
       "version_major": 2,
       "version_minor": 0
      },
      "text/plain": [
       "Epoch 11/50:   0%|          | 0/68 [00:00<?, ?it/s]"
      ]
     },
     "metadata": {},
     "output_type": "display_data"
    },
    {
     "name": "stdout",
     "output_type": "stream",
     "text": [
      "Epoch 11/50 — Avg Loss: 28.2408\n"
     ]
    },
    {
     "data": {
      "application/vnd.jupyter.widget-view+json": {
       "model_id": "02dcdd7694ef47aaba5508934b891e9d",
       "version_major": 2,
       "version_minor": 0
      },
      "text/plain": [
       "Epoch 12/50:   0%|          | 0/68 [00:00<?, ?it/s]"
      ]
     },
     "metadata": {},
     "output_type": "display_data"
    },
    {
     "name": "stdout",
     "output_type": "stream",
     "text": [
      "Epoch 12/50 — Avg Loss: 28.7682\n"
     ]
    },
    {
     "data": {
      "application/vnd.jupyter.widget-view+json": {
       "model_id": "7153b11894ec4bf4b20299e698075016",
       "version_major": 2,
       "version_minor": 0
      },
      "text/plain": [
       "Epoch 13/50:   0%|          | 0/68 [00:00<?, ?it/s]"
      ]
     },
     "metadata": {},
     "output_type": "display_data"
    },
    {
     "name": "stdout",
     "output_type": "stream",
     "text": [
      "Epoch 13/50 — Avg Loss: 26.4869\n"
     ]
    },
    {
     "data": {
      "application/vnd.jupyter.widget-view+json": {
       "model_id": "91c66e6da8994a02bee28cad260ff027",
       "version_major": 2,
       "version_minor": 0
      },
      "text/plain": [
       "Epoch 14/50:   0%|          | 0/68 [00:00<?, ?it/s]"
      ]
     },
     "metadata": {},
     "output_type": "display_data"
    },
    {
     "name": "stdout",
     "output_type": "stream",
     "text": [
      "Epoch 14/50 — Avg Loss: 27.2017\n"
     ]
    },
    {
     "data": {
      "application/vnd.jupyter.widget-view+json": {
       "model_id": "7ff88dd4270d4a7da85684d5fd573b87",
       "version_major": 2,
       "version_minor": 0
      },
      "text/plain": [
       "Epoch 15/50:   0%|          | 0/68 [00:00<?, ?it/s]"
      ]
     },
     "metadata": {},
     "output_type": "display_data"
    },
    {
     "name": "stdout",
     "output_type": "stream",
     "text": [
      "Epoch 15/50 — Avg Loss: 25.2350\n"
     ]
    },
    {
     "data": {
      "application/vnd.jupyter.widget-view+json": {
       "model_id": "0e87587b7cec4e3a81c8b77275566dc1",
       "version_major": 2,
       "version_minor": 0
      },
      "text/plain": [
       "Epoch 16/50:   0%|          | 0/68 [00:00<?, ?it/s]"
      ]
     },
     "metadata": {},
     "output_type": "display_data"
    },
    {
     "name": "stdout",
     "output_type": "stream",
     "text": [
      "Epoch 16/50 — Avg Loss: 24.1717\n"
     ]
    },
    {
     "data": {
      "application/vnd.jupyter.widget-view+json": {
       "model_id": "7b9387f2fa0f476a857e9ce51b429f65",
       "version_major": 2,
       "version_minor": 0
      },
      "text/plain": [
       "Epoch 17/50:   0%|          | 0/68 [00:00<?, ?it/s]"
      ]
     },
     "metadata": {},
     "output_type": "display_data"
    },
    {
     "name": "stdout",
     "output_type": "stream",
     "text": [
      "Epoch 17/50 — Avg Loss: 23.6140\n"
     ]
    },
    {
     "data": {
      "application/vnd.jupyter.widget-view+json": {
       "model_id": "b27fe382ce864bb7ba378b66f0529984",
       "version_major": 2,
       "version_minor": 0
      },
      "text/plain": [
       "Epoch 18/50:   0%|          | 0/68 [00:00<?, ?it/s]"
      ]
     },
     "metadata": {},
     "output_type": "display_data"
    },
    {
     "name": "stdout",
     "output_type": "stream",
     "text": [
      "Epoch 18/50 — Avg Loss: 23.1945\n"
     ]
    },
    {
     "data": {
      "application/vnd.jupyter.widget-view+json": {
       "model_id": "ece89d3468b94656806c94caa4484ebc",
       "version_major": 2,
       "version_minor": 0
      },
      "text/plain": [
       "Epoch 19/50:   0%|          | 0/68 [00:00<?, ?it/s]"
      ]
     },
     "metadata": {},
     "output_type": "display_data"
    },
    {
     "name": "stdout",
     "output_type": "stream",
     "text": [
      "Epoch 19/50 — Avg Loss: 22.7667\n"
     ]
    },
    {
     "data": {
      "application/vnd.jupyter.widget-view+json": {
       "model_id": "bee0c0ed61f6459d9c6e42839fae0449",
       "version_major": 2,
       "version_minor": 0
      },
      "text/plain": [
       "Epoch 20/50:   0%|          | 0/68 [00:00<?, ?it/s]"
      ]
     },
     "metadata": {},
     "output_type": "display_data"
    },
    {
     "name": "stdout",
     "output_type": "stream",
     "text": [
      "Epoch 20/50 — Avg Loss: 23.1055\n"
     ]
    },
    {
     "data": {
      "application/vnd.jupyter.widget-view+json": {
       "model_id": "7980679a99214620be9e3ba9e909aa4f",
       "version_major": 2,
       "version_minor": 0
      },
      "text/plain": [
       "Epoch 21/50:   0%|          | 0/68 [00:00<?, ?it/s]"
      ]
     },
     "metadata": {},
     "output_type": "display_data"
    },
    {
     "name": "stdout",
     "output_type": "stream",
     "text": [
      "Epoch 21/50 — Avg Loss: 23.1252\n"
     ]
    },
    {
     "data": {
      "application/vnd.jupyter.widget-view+json": {
       "model_id": "4c0a7bb9adb74ce08af43981b82188ab",
       "version_major": 2,
       "version_minor": 0
      },
      "text/plain": [
       "Epoch 22/50:   0%|          | 0/68 [00:00<?, ?it/s]"
      ]
     },
     "metadata": {},
     "output_type": "display_data"
    },
    {
     "name": "stdout",
     "output_type": "stream",
     "text": [
      "Epoch 22/50 — Avg Loss: 22.6231\n"
     ]
    },
    {
     "data": {
      "application/vnd.jupyter.widget-view+json": {
       "model_id": "7a08bf3517464aaebb01b2d5bed23e50",
       "version_major": 2,
       "version_minor": 0
      },
      "text/plain": [
       "Epoch 23/50:   0%|          | 0/68 [00:00<?, ?it/s]"
      ]
     },
     "metadata": {},
     "output_type": "display_data"
    },
    {
     "name": "stdout",
     "output_type": "stream",
     "text": [
      "Epoch 23/50 — Avg Loss: 22.6748\n"
     ]
    },
    {
     "data": {
      "application/vnd.jupyter.widget-view+json": {
       "model_id": "f0d4c3ef1c514740a70ae706e60667ab",
       "version_major": 2,
       "version_minor": 0
      },
      "text/plain": [
       "Epoch 24/50:   0%|          | 0/68 [00:00<?, ?it/s]"
      ]
     },
     "metadata": {},
     "output_type": "display_data"
    },
    {
     "name": "stdout",
     "output_type": "stream",
     "text": [
      "Epoch 24/50 — Avg Loss: 21.8507\n"
     ]
    },
    {
     "data": {
      "application/vnd.jupyter.widget-view+json": {
       "model_id": "11de7799db6645bdae6b9a725c7fb0bf",
       "version_major": 2,
       "version_minor": 0
      },
      "text/plain": [
       "Epoch 25/50:   0%|          | 0/68 [00:00<?, ?it/s]"
      ]
     },
     "metadata": {},
     "output_type": "display_data"
    },
    {
     "name": "stdout",
     "output_type": "stream",
     "text": [
      "Epoch 25/50 — Avg Loss: 21.9599\n"
     ]
    },
    {
     "data": {
      "application/vnd.jupyter.widget-view+json": {
       "model_id": "1b6e5b7b313742f08b7f40e34d3cc9b5",
       "version_major": 2,
       "version_minor": 0
      },
      "text/plain": [
       "Epoch 26/50:   0%|          | 0/68 [00:00<?, ?it/s]"
      ]
     },
     "metadata": {},
     "output_type": "display_data"
    },
    {
     "name": "stdout",
     "output_type": "stream",
     "text": [
      "Epoch 26/50 — Avg Loss: 21.3357\n"
     ]
    },
    {
     "data": {
      "application/vnd.jupyter.widget-view+json": {
       "model_id": "7ce09c7e22c0475190df32206f3539ea",
       "version_major": 2,
       "version_minor": 0
      },
      "text/plain": [
       "Epoch 27/50:   0%|          | 0/68 [00:00<?, ?it/s]"
      ]
     },
     "metadata": {},
     "output_type": "display_data"
    },
    {
     "name": "stdout",
     "output_type": "stream",
     "text": [
      "Epoch 27/50 — Avg Loss: 22.1309\n"
     ]
    },
    {
     "data": {
      "application/vnd.jupyter.widget-view+json": {
       "model_id": "7c8b210ee24b4bdc90e5ebcd393afc5d",
       "version_major": 2,
       "version_minor": 0
      },
      "text/plain": [
       "Epoch 28/50:   0%|          | 0/68 [00:00<?, ?it/s]"
      ]
     },
     "metadata": {},
     "output_type": "display_data"
    },
    {
     "name": "stdout",
     "output_type": "stream",
     "text": [
      "Epoch 28/50 — Avg Loss: 21.5464\n"
     ]
    },
    {
     "data": {
      "application/vnd.jupyter.widget-view+json": {
       "model_id": "8e7103496fcd48af8fe50568a9b699e9",
       "version_major": 2,
       "version_minor": 0
      },
      "text/plain": [
       "Epoch 29/50:   0%|          | 0/68 [00:00<?, ?it/s]"
      ]
     },
     "metadata": {},
     "output_type": "display_data"
    },
    {
     "name": "stdout",
     "output_type": "stream",
     "text": [
      "Epoch 29/50 — Avg Loss: 21.0223\n"
     ]
    },
    {
     "data": {
      "application/vnd.jupyter.widget-view+json": {
       "model_id": "f9d1d14470d94fe7ac4ec09599e15917",
       "version_major": 2,
       "version_minor": 0
      },
      "text/plain": [
       "Epoch 30/50:   0%|          | 0/68 [00:00<?, ?it/s]"
      ]
     },
     "metadata": {},
     "output_type": "display_data"
    },
    {
     "name": "stdout",
     "output_type": "stream",
     "text": [
      "Epoch 30/50 — Avg Loss: 20.8455\n"
     ]
    },
    {
     "data": {
      "application/vnd.jupyter.widget-view+json": {
       "model_id": "45b90b6fea334c19b3919285efaabc1d",
       "version_major": 2,
       "version_minor": 0
      },
      "text/plain": [
       "Epoch 31/50:   0%|          | 0/68 [00:00<?, ?it/s]"
      ]
     },
     "metadata": {},
     "output_type": "display_data"
    },
    {
     "name": "stdout",
     "output_type": "stream",
     "text": [
      "Epoch 31/50 — Avg Loss: 20.4500\n"
     ]
    },
    {
     "data": {
      "application/vnd.jupyter.widget-view+json": {
       "model_id": "76456eb93e7b4cacb7b192a94605601b",
       "version_major": 2,
       "version_minor": 0
      },
      "text/plain": [
       "Epoch 32/50:   0%|          | 0/68 [00:00<?, ?it/s]"
      ]
     },
     "metadata": {},
     "output_type": "display_data"
    },
    {
     "name": "stdout",
     "output_type": "stream",
     "text": [
      "Epoch 32/50 — Avg Loss: 20.2669\n"
     ]
    },
    {
     "data": {
      "application/vnd.jupyter.widget-view+json": {
       "model_id": "0810dd67f9b645c19bf0da70113ec1c2",
       "version_major": 2,
       "version_minor": 0
      },
      "text/plain": [
       "Epoch 33/50:   0%|          | 0/68 [00:00<?, ?it/s]"
      ]
     },
     "metadata": {},
     "output_type": "display_data"
    },
    {
     "name": "stdout",
     "output_type": "stream",
     "text": [
      "Epoch 33/50 — Avg Loss: 20.8271\n"
     ]
    },
    {
     "data": {
      "application/vnd.jupyter.widget-view+json": {
       "model_id": "0cde9048e85540e7acdd30d4aa2c0da5",
       "version_major": 2,
       "version_minor": 0
      },
      "text/plain": [
       "Epoch 34/50:   0%|          | 0/68 [00:00<?, ?it/s]"
      ]
     },
     "metadata": {},
     "output_type": "display_data"
    },
    {
     "name": "stdout",
     "output_type": "stream",
     "text": [
      "Epoch 34/50 — Avg Loss: 20.7604\n"
     ]
    },
    {
     "data": {
      "application/vnd.jupyter.widget-view+json": {
       "model_id": "401c378f87d347ab9d5ed6f4f5859592",
       "version_major": 2,
       "version_minor": 0
      },
      "text/plain": [
       "Epoch 35/50:   0%|          | 0/68 [00:00<?, ?it/s]"
      ]
     },
     "metadata": {},
     "output_type": "display_data"
    },
    {
     "name": "stdout",
     "output_type": "stream",
     "text": [
      "Epoch 35/50 — Avg Loss: 20.8751\n"
     ]
    },
    {
     "data": {
      "application/vnd.jupyter.widget-view+json": {
       "model_id": "b403af9ce50d4776a6c5e98d5fdab297",
       "version_major": 2,
       "version_minor": 0
      },
      "text/plain": [
       "Epoch 36/50:   0%|          | 0/68 [00:00<?, ?it/s]"
      ]
     },
     "metadata": {},
     "output_type": "display_data"
    },
    {
     "name": "stdout",
     "output_type": "stream",
     "text": [
      "Epoch 36/50 — Avg Loss: 19.9693\n"
     ]
    },
    {
     "data": {
      "application/vnd.jupyter.widget-view+json": {
       "model_id": "a8a5214635f64555bc70108f39560d5f",
       "version_major": 2,
       "version_minor": 0
      },
      "text/plain": [
       "Epoch 37/50:   0%|          | 0/68 [00:00<?, ?it/s]"
      ]
     },
     "metadata": {},
     "output_type": "display_data"
    },
    {
     "name": "stdout",
     "output_type": "stream",
     "text": [
      "Epoch 37/50 — Avg Loss: 20.0789\n"
     ]
    },
    {
     "data": {
      "application/vnd.jupyter.widget-view+json": {
       "model_id": "f54c1386a2054ed698dbb1ba68888964",
       "version_major": 2,
       "version_minor": 0
      },
      "text/plain": [
       "Epoch 38/50:   0%|          | 0/68 [00:00<?, ?it/s]"
      ]
     },
     "metadata": {},
     "output_type": "display_data"
    },
    {
     "name": "stdout",
     "output_type": "stream",
     "text": [
      "Epoch 38/50 — Avg Loss: 20.0070\n"
     ]
    },
    {
     "data": {
      "application/vnd.jupyter.widget-view+json": {
       "model_id": "3885cad8c93b4bd6861ba9886d01c967",
       "version_major": 2,
       "version_minor": 0
      },
      "text/plain": [
       "Epoch 39/50:   0%|          | 0/68 [00:00<?, ?it/s]"
      ]
     },
     "metadata": {},
     "output_type": "display_data"
    },
    {
     "name": "stdout",
     "output_type": "stream",
     "text": [
      "Epoch 39/50 — Avg Loss: 20.5013\n"
     ]
    },
    {
     "data": {
      "application/vnd.jupyter.widget-view+json": {
       "model_id": "6d8a4abd731b4425bc0bce3f4e3eb472",
       "version_major": 2,
       "version_minor": 0
      },
      "text/plain": [
       "Epoch 40/50:   0%|          | 0/68 [00:00<?, ?it/s]"
      ]
     },
     "metadata": {},
     "output_type": "display_data"
    },
    {
     "name": "stdout",
     "output_type": "stream",
     "text": [
      "Epoch 40/50 — Avg Loss: 19.8055\n"
     ]
    },
    {
     "data": {
      "application/vnd.jupyter.widget-view+json": {
       "model_id": "00737bfdeecd4d07802d456388332147",
       "version_major": 2,
       "version_minor": 0
      },
      "text/plain": [
       "Epoch 41/50:   0%|          | 0/68 [00:00<?, ?it/s]"
      ]
     },
     "metadata": {},
     "output_type": "display_data"
    },
    {
     "name": "stdout",
     "output_type": "stream",
     "text": [
      "Epoch 41/50 — Avg Loss: 20.9987\n"
     ]
    },
    {
     "data": {
      "application/vnd.jupyter.widget-view+json": {
       "model_id": "a9ae53d7878b4b279a5fce9d62206864",
       "version_major": 2,
       "version_minor": 0
      },
      "text/plain": [
       "Epoch 42/50:   0%|          | 0/68 [00:00<?, ?it/s]"
      ]
     },
     "metadata": {},
     "output_type": "display_data"
    },
    {
     "name": "stdout",
     "output_type": "stream",
     "text": [
      "Epoch 42/50 — Avg Loss: 19.8051\n"
     ]
    },
    {
     "data": {
      "application/vnd.jupyter.widget-view+json": {
       "model_id": "273d87b55c384bfd98de875e4d8b2204",
       "version_major": 2,
       "version_minor": 0
      },
      "text/plain": [
       "Epoch 43/50:   0%|          | 0/68 [00:00<?, ?it/s]"
      ]
     },
     "metadata": {},
     "output_type": "display_data"
    },
    {
     "name": "stdout",
     "output_type": "stream",
     "text": [
      "Epoch 43/50 — Avg Loss: 19.4748\n"
     ]
    },
    {
     "data": {
      "application/vnd.jupyter.widget-view+json": {
       "model_id": "7e2e85e011df43d8b68f9615e418896c",
       "version_major": 2,
       "version_minor": 0
      },
      "text/plain": [
       "Epoch 44/50:   0%|          | 0/68 [00:00<?, ?it/s]"
      ]
     },
     "metadata": {},
     "output_type": "display_data"
    },
    {
     "name": "stdout",
     "output_type": "stream",
     "text": [
      "Epoch 44/50 — Avg Loss: 19.9051\n"
     ]
    },
    {
     "data": {
      "application/vnd.jupyter.widget-view+json": {
       "model_id": "a98ea3db8c6d41b7bace5ec3df50129b",
       "version_major": 2,
       "version_minor": 0
      },
      "text/plain": [
       "Epoch 45/50:   0%|          | 0/68 [00:00<?, ?it/s]"
      ]
     },
     "metadata": {},
     "output_type": "display_data"
    },
    {
     "name": "stdout",
     "output_type": "stream",
     "text": [
      "Epoch 45/50 — Avg Loss: 19.9817\n"
     ]
    },
    {
     "data": {
      "application/vnd.jupyter.widget-view+json": {
       "model_id": "bc227208a6dc4f709f92f756804246c6",
       "version_major": 2,
       "version_minor": 0
      },
      "text/plain": [
       "Epoch 46/50:   0%|          | 0/68 [00:00<?, ?it/s]"
      ]
     },
     "metadata": {},
     "output_type": "display_data"
    },
    {
     "name": "stdout",
     "output_type": "stream",
     "text": [
      "Epoch 46/50 — Avg Loss: 19.3590\n"
     ]
    },
    {
     "data": {
      "application/vnd.jupyter.widget-view+json": {
       "model_id": "0f675b9a85d84c13a213c5749980c812",
       "version_major": 2,
       "version_minor": 0
      },
      "text/plain": [
       "Epoch 47/50:   0%|          | 0/68 [00:00<?, ?it/s]"
      ]
     },
     "metadata": {},
     "output_type": "display_data"
    },
    {
     "name": "stdout",
     "output_type": "stream",
     "text": [
      "Epoch 47/50 — Avg Loss: 20.0154\n"
     ]
    },
    {
     "data": {
      "application/vnd.jupyter.widget-view+json": {
       "model_id": "e5a1ae766c0f4a5f8e612d6001001527",
       "version_major": 2,
       "version_minor": 0
      },
      "text/plain": [
       "Epoch 48/50:   0%|          | 0/68 [00:00<?, ?it/s]"
      ]
     },
     "metadata": {},
     "output_type": "display_data"
    },
    {
     "name": "stdout",
     "output_type": "stream",
     "text": [
      "Epoch 48/50 — Avg Loss: 19.3852\n"
     ]
    },
    {
     "data": {
      "application/vnd.jupyter.widget-view+json": {
       "model_id": "ab97fe80f08a4327ab373b647a3af813",
       "version_major": 2,
       "version_minor": 0
      },
      "text/plain": [
       "Epoch 49/50:   0%|          | 0/68 [00:00<?, ?it/s]"
      ]
     },
     "metadata": {},
     "output_type": "display_data"
    },
    {
     "name": "stdout",
     "output_type": "stream",
     "text": [
      "Epoch 49/50 — Avg Loss: 19.2814\n"
     ]
    },
    {
     "data": {
      "application/vnd.jupyter.widget-view+json": {
       "model_id": "3f8b37aa71dc4c109405ee57d6a624eb",
       "version_major": 2,
       "version_minor": 0
      },
      "text/plain": [
       "Epoch 50/50:   0%|          | 0/68 [00:00<?, ?it/s]"
      ]
     },
     "metadata": {},
     "output_type": "display_data"
    },
    {
     "name": "stdout",
     "output_type": "stream",
     "text": [
      "Epoch 50/50 — Avg Loss: 18.9340\n"
     ]
    }
   ],
   "source": [
    "# 7. Training loop with progress bar\n",
    "for epoch in range(1, epochs + 1):\n",
    "    model.train()\n",
    "    epoch_losses = []\n",
    "    for x, mask, y in tqdm(train_dataloader, desc=f'Epoch {epoch}/{epochs}'):\n",
    "        preds, attn = model(x, mask)\n",
    "        loss = loss_fn(preds, y)\n",
    "        optimizer.zero_grad()\n",
    "        loss.backward()\n",
    "        optimizer.step()\n",
    "        epoch_losses.append(loss.item())\n",
    "    avg_loss = np.mean(epoch_losses)\n",
    "    print(f\"Epoch {epoch}/{epochs} — Avg Loss: {avg_loss:.4f}\")"
   ]
  },
  {
   "cell_type": "code",
   "execution_count": 12,
   "id": "a7b24c67",
   "metadata": {},
   "outputs": [
    {
     "name": "stdout",
     "output_type": "stream",
     "text": [
      "Evaluating on test dataset...\n"
     ]
    },
    {
     "data": {
      "application/vnd.jupyter.widget-view+json": {
       "model_id": "a43a3f96c9804953b7c1e39e5bb6a82c",
       "version_major": 2,
       "version_minor": 0
      },
      "text/plain": [
       "Testing:   0%|          | 0/15 [00:00<?, ?it/s]"
      ]
     },
     "metadata": {},
     "output_type": "display_data"
    },
    {
     "name": "stdout",
     "output_type": "stream",
     "text": [
      "\n",
      "=== Test Results ===\n",
      "Test Loss (MSE): 20.7790\n",
      "Test RMSE: 4.5809\n",
      "Test MAE: 3.7273\n",
      "Test R²: 0.6498\n",
      "Plot saved to test_predictions.png\n"
     ]
    },
    {
     "data": {
      "image/png": "[encoded data removed]",
      "text/plain": [
       "<Figure size 1000x800 with 1 Axes>"
      ]
     },
     "metadata": {},
     "output_type": "display_data"
    },
    {
     "name": "stdout",
     "output_type": "stream",
     "text": [
      "Residuals plot saved to test_residuals.png\n"
     ]
    },
    {
     "data": {
      "image/png": "[encoded data removed]",
      "text/plain": [
       "<Figure size 1500x600 with 2 Axes>"
      ]
     },
     "metadata": {},
     "output_type": "display_data"
    },
    {
     "name": "stdout",
     "output_type": "stream",
     "text": [
      "Detailed results saved to 'test_results_detailed.csv'\n",
      "\n",
      "=== Additional Statistics ===\n",
      "Mean Absolute Percentage Error: 64.70%\n",
      "Max Absolute Error: 17.0243\n",
      "Min Absolute Error: 0.0225\n",
      "Std of Residuals: 4.5804\n"
     ]
    }
   ],
   "source": [
    "# 8. Evaluate on test dataset\n",
    "import torch\n",
    "import numpy as np\n",
    "from sklearn.metrics import mean_squared_error, mean_absolute_error, r2_score\n",
    "import matplotlib.pyplot as plt\n",
    "\n",
    "def evaluate_model(model, test_dataloader, device='cpu'):\n",
    "    \"\"\"\n",
    "    Evaluate the trained model on test dataset\n",
    "    \"\"\"\n",
    "    model.eval()\n",
    "    \n",
    "    all_predictions = []\n",
    "    all_targets = []\n",
    "    all_losses = []\n",
    "    \n",
    "    loss_fn = nn.MSELoss()\n",
    "    \n",
    "    print(\"Evaluating on test dataset...\")\n",
    "    \n",
    "    with torch.no_grad():\n",
    "        for x, mask, y in tqdm(test_dataloader, desc='Testing'):\n",
    "            # Move to device if using GPU\n",
    "            x = x.to(device)\n",
    "            mask = mask.to(device) \n",
    "            y = y.to(device)\n",
    "            \n",
    "            # Forward pass\n",
    "            preds, attn = model(x, mask)\n",
    "            loss = loss_fn(preds, y)\n",
    "            \n",
    "            # Store results\n",
    "            all_predictions.extend(preds.cpu().numpy())\n",
    "            all_targets.extend(y.cpu().numpy())\n",
    "            all_losses.append(loss.item())\n",
    "    \n",
    "    # Convert to numpy arrays\n",
    "    predictions = np.array(all_predictions)\n",
    "    targets = np.array(all_targets)\n",
    "    \n",
    "    # Calculate metrics\n",
    "    mse = mean_squared_error(targets, predictions)\n",
    "    mae = mean_absolute_error(targets, predictions)\n",
    "    rmse = np.sqrt(mse)\n",
    "    r2 = r2_score(targets, predictions)\n",
    "    \n",
    "    # Print results\n",
    "    print(f\"\\n=== Test Results ===\")\n",
    "    print(f\"Test Loss (MSE): {np.mean(all_losses):.4f}\")\n",
    "    print(f\"Test RMSE: {rmse:.4f}\")\n",
    "    print(f\"Test MAE: {mae:.4f}\")\n",
    "    print(f\"Test R²: {r2:.4f}\")\n",
    "    \n",
    "    return {\n",
    "        'predictions': predictions,\n",
    "        'targets': targets,\n",
    "        'mse': mse,\n",
    "        'mae': mae,\n",
    "        'rmse': rmse,\n",
    "        'r2': r2,\n",
    "        'test_loss': np.mean(all_losses)\n",
    "    }\n",
    "\n",
    "def plot_predictions(results, save_path=None):\n",
    "    \"\"\"\n",
    "    Plot predicted vs actual values\n",
    "    \"\"\"\n",
    "    predictions = results['predictions']\n",
    "    targets = results['targets']\n",
    "    r2 = results['r2']\n",
    "    \n",
    "    plt.figure(figsize=(10, 8))\n",
    "    \n",
    "    # Scatter plot\n",
    "    plt.scatter(targets, predictions, alpha=0.6, s=20)\n",
    "    \n",
    "    # Perfect prediction line\n",
    "    min_val = min(targets.min(), predictions.min())\n",
    "    max_val = max(targets.max(), predictions.max())\n",
    "    plt.plot([min_val, max_val], [min_val, max_val], 'r--', lw=2, label='Perfect Prediction')\n",
    "    \n",
    "    # Labels and title\n",
    "    plt.xlabel('Actual Values', fontsize=12)\n",
    "    plt.ylabel('Predicted Values', fontsize=12)\n",
    "    plt.title(f'Test Set: Predicted vs Actual Values (R² = {r2:.3f})', fontsize=14)\n",
    "    plt.legend()\n",
    "    plt.grid(True, alpha=0.3)\n",
    "    \n",
    "    # Make plot square\n",
    "    plt.axis('equal')\n",
    "    plt.tight_layout()\n",
    "    \n",
    "    if save_path:\n",
    "        plt.savefig(save_path, dpi=300, bbox_inches='tight')\n",
    "        print(f\"Plot saved to {save_path}\")\n",
    "    \n",
    "    plt.show()\n",
    "\n",
    "def plot_residuals(results, save_path=None):\n",
    "    \"\"\"\n",
    "    Plot residuals (prediction errors)\n",
    "    \"\"\"\n",
    "    predictions = results['predictions']\n",
    "    targets = results['targets']\n",
    "    residuals = predictions - targets\n",
    "    \n",
    "    fig, (ax1, ax2) = plt.subplots(1, 2, figsize=(15, 6))\n",
    "    \n",
    "    # Residuals vs Predicted\n",
    "    ax1.scatter(predictions, residuals, alpha=0.6, s=20)\n",
    "    ax1.axhline(y=0, color='r', linestyle='--', lw=2)\n",
    "    ax1.set_xlabel('Predicted Values')\n",
    "    ax1.set_ylabel('Residuals (Predicted - Actual)')\n",
    "    ax1.set_title('Residuals vs Predicted Values')\n",
    "    ax1.grid(True, alpha=0.3)\n",
    "    \n",
    "    # Histogram of residuals\n",
    "    ax2.hist(residuals, bins=30, alpha=0.7, color='skyblue', edgecolor='black')\n",
    "    ax2.axvline(x=0, color='r', linestyle='--', lw=2)\n",
    "    ax2.set_xlabel('Residuals')\n",
    "    ax2.set_ylabel('Frequency')\n",
    "    ax2.set_title('Distribution of Residuals')\n",
    "    ax2.grid(True, alpha=0.3)\n",
    "    \n",
    "    plt.tight_layout()\n",
    "    \n",
    "    if save_path:\n",
    "        plt.savefig(save_path, dpi=300, bbox_inches='tight')\n",
    "        print(f\"Residuals plot saved to {save_path}\")\n",
    "    \n",
    "    plt.show()\n",
    "\n",
    "# Run evaluation\n",
    "device = torch.device('cuda' if torch.cuda.is_available() else 'cpu')\n",
    "model = model.to(device)\n",
    "\n",
    "# Evaluate the model\n",
    "test_results = evaluate_model(model, test_dataloader, device)\n",
    "\n",
    "# Plot results\n",
    "plot_predictions(test_results, save_path='test_predictions.png')\n",
    "plot_residuals(test_results, save_path='test_residuals.png')\n",
    "\n",
    "# Optional: Save detailed results\n",
    "import pandas as pd\n",
    "\n",
    "# Create detailed results DataFrame\n",
    "results_df = pd.DataFrame({\n",
    "    'actual': test_results['targets'],\n",
    "    'predicted': test_results['predictions'],\n",
    "    'residual': test_results['predictions'] - test_results['targets'],\n",
    "    'abs_error': np.abs(test_results['predictions'] - test_results['targets'])\n",
    "})\n",
    "\n",
    "# Save to CSV\n",
    "results_df.to_csv('test_results_detailed.csv', index=False)\n",
    "print(\"Detailed results saved to 'test_results_detailed.csv'\")\n",
    "\n",
    "# Print summary statistics\n",
    "print(f\"\\n=== Additional Statistics ===\")\n",
    "print(f\"Mean Absolute Percentage Error: {np.mean(np.abs(results_df['residual'] / results_df['actual']) * 100):.2f}%\")\n",
    "print(f\"Max Absolute Error: {results_df['abs_error'].max():.4f}\")\n",
    "print(f\"Min Absolute Error: {results_df['abs_error'].min():.4f}\")\n",
    "print(f\"Std of Residuals: {results_df['residual'].std():.4f}\")"
   ]
  },
  {
   "cell_type": "code",
   "execution_count": null,
   "id": "190ec1d7",
   "metadata": {},
   "outputs": [],
   "source": [
    "0.622\n",
    "0.667\n",
    "0.650\n",
    "0.696\n",
    "0.7142\n",
    "0.7441 ( 10 epoch pre_training)"
   ]
  },
  {
   "cell_type": "code",
   "execution_count": 11,
   "id": "8efa7b82-b000-4c1e-98d0-b236e7b1fe7f",
   "metadata": {},
   "outputs": [
    {
     "ename": "NameError",
     "evalue": "name 'load_structures_and_compute_soaps' is not defined",
     "output_type": "error",
     "traceback": [
      "\u001b[0;31m---------------------------------------------------------------------------\u001b[0m",
      "\u001b[0;31mNameError\u001b[0m                                 Traceback (most recent call last)",
      "Cell \u001b[0;32mIn[11], line 12\u001b[0m\n\u001b[1;32m      4\u001b[0m soap_params \u001b[38;5;241m=\u001b[39m {\n\u001b[1;32m      5\u001b[0m     \u001b[38;5;124m\"\u001b[39m\u001b[38;5;124mrcut\u001b[39m\u001b[38;5;124m\"\u001b[39m: \u001b[38;5;241m5.0\u001b[39m,\n\u001b[1;32m      6\u001b[0m     \u001b[38;5;124m\"\u001b[39m\u001b[38;5;124mnmax\u001b[39m\u001b[38;5;124m\"\u001b[39m: \u001b[38;5;241m1\u001b[39m,\n\u001b[1;32m      7\u001b[0m     \u001b[38;5;124m\"\u001b[39m\u001b[38;5;124mlmax\u001b[39m\u001b[38;5;124m\"\u001b[39m: \u001b[38;5;241m1\u001b[39m,\n\u001b[1;32m      8\u001b[0m     \u001b[38;5;124m\"\u001b[39m\u001b[38;5;124mperiodic\u001b[39m\u001b[38;5;124m\"\u001b[39m: \u001b[38;5;28;01mTrue\u001b[39;00m,\n\u001b[1;32m      9\u001b[0m }\n\u001b[1;32m     11\u001b[0m \u001b[38;5;66;03m# Load SOAP descriptors\u001b[39;00m\n\u001b[0;32m---> 12\u001b[0m soap_data, cif_names, species \u001b[38;5;241m=\u001b[39m \u001b[43mload_structures_and_compute_soaps\u001b[49m(\n\u001b[1;32m     13\u001b[0m     cif_dir\u001b[38;5;241m=\u001b[39mcif_dir,\n\u001b[1;32m     14\u001b[0m     soap_params\u001b[38;5;241m=\u001b[39msoap_params,\n\u001b[1;32m     15\u001b[0m     max_envs\u001b[38;5;241m=\u001b[39m\u001b[38;5;241m200\u001b[39m\n\u001b[1;32m     16\u001b[0m )\n\u001b[1;32m     18\u001b[0m \u001b[38;5;66;03m# Load targets\u001b[39;00m\n\u001b[1;32m     19\u001b[0m targets_array \u001b[38;5;241m=\u001b[39m np\u001b[38;5;241m.\u001b[39mload(target_path)\n",
      "\u001b[0;31mNameError\u001b[0m: name 'load_structures_and_compute_soaps' is not defined"
     ]
    }
   ],
   "source": [
    "# Parameters\n",
    "cif_dir = \"../CIF_files\"\n",
    "target_path = \"./targets.npy\"  # npy file matching CIF names order\n",
    "soap_params = {\n",
    "    \"rcut\": 5.0,\n",
    "    \"nmax\": 1,\n",
    "    \"lmax\": 1,\n",
    "    \"periodic\": True,\n",
    "}\n",
    "\n",
    "# Load SOAP descriptors\n",
    "soap_data, cif_names, species = load_structures_and_compute_soaps(\n",
    "    cif_dir=cif_dir,\n",
    "    soap_params=soap_params,\n",
    "    max_envs=200\n",
    ")\n",
    "\n",
    "# Load targets\n",
    "targets_array = np.load(target_path)\n",
    "assert len(targets_array) == len(soap_data), \"Mismatch in number of targets and CIF files\"\n",
    "\n",
    "# Create Dataset and DataLoader\n",
    "dataset = SOAPDataset(soap_data, targets_array)\n",
    "dataloader = DataLoader(dataset, batch_size=16, shuffle=True, collate_fn=mil_collate_fn)\n",
    "\n",
    "# Inspect first batch\n",
    "for batch_x, batch_mask, batch_targets in dataloader:\n",
    "    print(\"Batch SOAP shape:\", batch_x.shape)\n",
    "    print(\"Batch mask shape:\", batch_mask.shape)\n",
    "    print(\"Batch targets:\", batch_targets)\n",
    "    break"
   ]
  },
  {
   "cell_type": "code",
   "execution_count": null,
   "id": "b679930b-816d-4f61-972c-240e981b03b2",
   "metadata": {},
   "outputs": [],
   "source": []
  },
  {
   "cell_type": "code",
   "execution_count": null,
   "id": "efd27969",
   "metadata": {},
   "outputs": [],
   "source": []
  }
 ],
 "metadata": {
  "kernelspec": {
   "display_name": "pyemma",
   "language": "python",
   "name": "pyemma"
  },
  "language_info": {
   "codemirror_mode": {
    "name": "ipython",
    "version": 3
   },
   "file_extension": ".py",
   "mimetype": "text/x-python",
   "name": "python",
   "nbconvert_exporter": "python",
   "pygments_lexer": "ipython3",
   "version": "3.9.21"
  }
 },
 "nbformat": 4,
 "nbformat_minor": 5
}
